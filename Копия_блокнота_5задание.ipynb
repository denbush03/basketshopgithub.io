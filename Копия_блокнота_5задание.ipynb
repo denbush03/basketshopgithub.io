{
  "nbformat": 4,
  "nbformat_minor": 0,
  "metadata": {
    "colab": {
      "name": "Копия блокнота 5задание.ipynb",
      "provenance": [],
      "authorship_tag": "ABX9TyOZqafhPFRbiqOAuvuSzmrn",
      "include_colab_link": true
    },
    "kernelspec": {
      "name": "python3",
      "display_name": "Python 3"
    },
    "language_info": {
      "name": "python"
    }
  },
  "cells": [
    {
      "cell_type": "markdown",
      "metadata": {
        "id": "view-in-github",
        "colab_type": "text"
      },
      "source": [
        "<a href=\"https://colab.research.google.com/github/denbush03/basketshopgithub.io/blob/main/%D0%9A%D0%BE%D0%BF%D0%B8%D1%8F_%D0%B1%D0%BB%D0%BE%D0%BA%D0%BD%D0%BE%D1%82%D0%B0_5%D0%B7%D0%B0%D0%B4%D0%B0%D0%BD%D0%B8%D0%B5.ipynb\" target=\"_parent\"><img src=\"https://colab.research.google.com/assets/colab-badge.svg\" alt=\"Open In Colab\"/></a>"
      ]
    },
    {
      "cell_type": "markdown",
      "source": [
        "Данные о ресторанах и потребителях"
      ],
      "metadata": {
        "id": "1BVfyM3zVWBl"
      }
    },
    {
      "cell_type": "markdown",
      "source": [
        "Данные взяты: https://archive.ics.uci.edu/ml/datasets/Restaurant+%26+consumer+data"
      ],
      "metadata": {
        "id": "8d6vg5QUcpDC"
      }
    },
    {
      "cell_type": "markdown",
      "source": [
        "#1. Импорт нужных библиотек и подключение к диску\n",
        "\n",
        "\n"
      ],
      "metadata": {
        "id": "BGMMEXWSVvd8"
      }
    },
    {
      "cell_type": "code",
      "execution_count": 1,
      "metadata": {
        "id": "hatR33LbVA94"
      },
      "outputs": [],
      "source": [
        "import numpy as np \n",
        "import pandas as pd\n",
        "import matplotlib.pyplot as plt\n",
        "import random\n",
        "import seaborn as sns\n",
        "from functools import reduce\n",
        "from sklearn.metrics import mean_squared_error\n",
        "from scipy.optimize import minimize\n",
        "import matplotlib.pyplot as plt\n",
        "import xgboost\n",
        "import os\n"
      ]
    },
    {
      "cell_type": "markdown",
      "source": [
        "Подключение к диску "
      ],
      "metadata": {
        "id": "DiKO8UirWRYz"
      }
    },
    {
      "cell_type": "code",
      "source": [
        "from google.colab import drive\n",
        "drive.mount('/content/drive')"
      ],
      "metadata": {
        "colab": {
          "base_uri": "https://localhost:8080/"
        },
        "id": "ZwRgCuIMWURu",
        "outputId": "34f0b32d-2676-486e-aa79-d3c9fccba15f"
      },
      "execution_count": 2,
      "outputs": [
        {
          "output_type": "stream",
          "name": "stdout",
          "text": [
            "Mounted at /content/drive\n"
          ]
        }
      ]
    },
    {
      "cell_type": "markdown",
      "source": [
        "Импорт данных"
      ],
      "metadata": {
        "id": "PUpwdyS1cOjS"
      }
    },
    {
      "cell_type": "markdown",
      "source": [
        "Файлы, экземпляры и атрибуты\n",
        "Количество файлов: 9\n",
        "\n",
        "Рестораны\n",
        "1 chefmozaccepts.csv\n",
        "2 chefmozcuisine.csv\n",
        "3 chefmozhours4.csv\n",
        "4 chefmozparking.csv\n",
        "5 геопространств2.csv\n",
        "\n",
        "Потребители\n",
        "6 usercuisine.csv\n",
        "7 userpayment.csv\n",
        "8 userprofile.csv\n",
        "\n",
        "Пользователь-Элемент-Рейтинг\n",
        "9 rating_final.csv\n",
        "\n",
        "- 1 chefmozaccepts.csv\n",
        "Экземпляров: 1314\n",
        "Атрибуты: 2\n",
        "placeID: идентификатор места \n",
        "Rpayment: способ оплаты \n",
        "\n",
        "- 2 chefmozcuisine.csv\n",
        "Экземпляров: 916\n",
        "Атрибуты: 2\n",
        "placeID: идентификатор места \n",
        "Rcuisine: Кухня\n",
        "\n",
        "- 3 chefmozhours4.csv\n",
        "Экземпляров: 2339\n",
        "Атрибуты: 3\n",
        "placeID: идентификатор места \n",
        "hours: Номинальные, Диапазон:00:00-23:30\n",
        "days:Номинальные, 7 [Пн;Вт;Ср;Чт;Пт;Сб;Вс]\n",
        "\n",
        "- 4 chefmozparking.csv\n",
        "Экземпляров: 702\n",
        "Атрибуты: 2\n",
        "placeId: Номинальный\n",
        "parking_lot:Номинальный, наличие парковки\n",
        "\n",
        "- 5 геопространств2.csv\n",
        "Экземпляров: 130\n",
        "Атрибуты: 21\n",
        "placeID: идентификатор места \n",
        "latitude: широта\n",
        "longitude: долгота\n",
        "the_geom_meter: Номинальный (Геопространственный)\n",
        "name: Нфзвание \n",
        "address: адресс \n",
        "city: город\n",
        "state: штат\n",
        "country: страна \n",
        "fax:номер факса \n",
        "zip: Nominal,Missing: 74\n",
        "alcohol: наличие бара с алкоголем\n",
        "smoking_area: наличие места для курения \n",
        "dress_code:\tналичие дресс кода \n",
        "accessibility: доступность \n",
        "price: ценовой сегмент заведения \n",
        "url: ссылка на сайт\n",
        "Rambience: тип заведения\n",
        "franchise: франшиза \n",
        "area: открыто или закрыто \n",
        "other_services:\tналичие другого сервиса \n",
        "\n",
        "- 6 рейтинг_финал.csv\n",
        "Экземпляров: 1161\n",
        "Атрибуты: 5\n",
        "userID:Идентификатор пользователя\n",
        "placeID: идентификатор места \n",
        "rating: рейтинг заведения \n",
        "food_rating: рейтинг еды \n",
        "service_rating: рейтинг обслуживания \n",
        "\n",
        "- 7 usercuisine.csv\n",
        "Экземпляров: 330\n",
        "Атрибуты: 2\n",
        "userID:Идентификатор пользователя\n",
        "Rcuisine: Кухня\n",
        "\n",
        "- 8 userpayment.csv\n",
        "Экземпляров: 177\n",
        "Атрибуты: 2\n",
        "userID:Идентификатор пользователя\n",
        "Upayment: чем принимают оплату \n",
        "\n",
        "- 9 профиль пользователя\n",
        "Экземпляров: 138\n",
        "Атрибуты: 19\n",
        "userID:Идентификатор пользователя \n",
        "latitude: широта клиента \n",
        "longitude: долгота клиента \n",
        "the_geom_meter: Номинальный (Геопространственный)\n",
        "smoker: отношение к курению клиента \n",
        "drink_level: отношение к алкоголю клиента \n",
        "dress_preference: отношение к дресс коду клиента \n",
        "ambience: круг общения клиента \n",
        "transport: наличие транспорта клиента \n",
        "marital_status:\tсемейное положение клиента \n",
        "hijos: заинтересованность клиента \n",
        "birth_year:\tвозраст клиента \n",
        "interest: интересы клиента \n",
        "personality: заинтересованность клиента \n",
        "religion:вероисповедание клиента \n",
        "activity: активность \n",
        "color: цвет клиента\n",
        "weight: вес клиента \n",
        "budget: бюджет клиента \n",
        "height: рост клиента "
      ],
      "metadata": {
        "id": "yi2ln8IM6qqx"
      }
    },
    {
      "cell_type": "code",
      "source": [
        "accepts = pd.read_csv('/content/drive/MyDrive/5lab/chefmozaccepts.csv')\n",
        "cuisine = pd.read_csv('/content/drive/MyDrive/5lab/chefmozcuisine.csv')\n",
        "hours = pd.read_csv('/content/drive/MyDrive/5lab/chefmozhours4.csv')\n",
        "parking = pd.read_csv('/content/drive/MyDrive/5lab/chefmozparking.csv')\n",
        "geo = pd.read_csv('/content/drive/MyDrive/5lab/geoplaces2.csv - geoplaces2.csv') \n",
        "usercuisine = pd.read_csv('/content/drive/MyDrive/5lab/usercuisine.csv')\n",
        "payment = pd.read_csv('/content/drive/MyDrive/5lab/userpayment.csv')\n",
        "profile = pd.read_csv('/content/drive/MyDrive/5lab/userprofile.csv')\n",
        "rating = pd.read_csv('/content/drive/MyDrive/5lab/rating_final.csv')"
      ],
      "metadata": {
        "id": "nKIj0rTgWdZQ"
      },
      "execution_count": 3,
      "outputs": []
    },
    {
      "cell_type": "markdown",
      "source": [
        "#2. Предварительная Обработка Данных\n"
      ],
      "metadata": {
        "id": "nASUWdPKcQ42"
      }
    },
    {
      "cell_type": "markdown",
      "source": [
        "Давайте сначала проверим каждый из этих фреймов данных"
      ],
      "metadata": {
        "id": "q1V3ayVrccIK"
      }
    },
    {
      "cell_type": "code",
      "source": [
        "accepts.head()"
      ],
      "metadata": {
        "colab": {
          "base_uri": "https://localhost:8080/",
          "height": 206
        },
        "id": "nbzTU_NibRkK",
        "outputId": "264509f9-0e30-4cc8-930d-e403bb9de9eb"
      },
      "execution_count": 4,
      "outputs": [
        {
          "output_type": "execute_result",
          "data": {
            "text/plain": [
              "   placeID             Rpayment\n",
              "0   135110                 cash\n",
              "1   135110                 VISA\n",
              "2   135110  MasterCard-Eurocard\n",
              "3   135110     American_Express\n",
              "4   135110     bank_debit_cards"
            ],
            "text/html": [
              "\n",
              "  <div id=\"df-faa301fb-8a18-40d6-ad18-fe54782aeedb\">\n",
              "    <div class=\"colab-df-container\">\n",
              "      <div>\n",
              "<style scoped>\n",
              "    .dataframe tbody tr th:only-of-type {\n",
              "        vertical-align: middle;\n",
              "    }\n",
              "\n",
              "    .dataframe tbody tr th {\n",
              "        vertical-align: top;\n",
              "    }\n",
              "\n",
              "    .dataframe thead th {\n",
              "        text-align: right;\n",
              "    }\n",
              "</style>\n",
              "<table border=\"1\" class=\"dataframe\">\n",
              "  <thead>\n",
              "    <tr style=\"text-align: right;\">\n",
              "      <th></th>\n",
              "      <th>placeID</th>\n",
              "      <th>Rpayment</th>\n",
              "    </tr>\n",
              "  </thead>\n",
              "  <tbody>\n",
              "    <tr>\n",
              "      <th>0</th>\n",
              "      <td>135110</td>\n",
              "      <td>cash</td>\n",
              "    </tr>\n",
              "    <tr>\n",
              "      <th>1</th>\n",
              "      <td>135110</td>\n",
              "      <td>VISA</td>\n",
              "    </tr>\n",
              "    <tr>\n",
              "      <th>2</th>\n",
              "      <td>135110</td>\n",
              "      <td>MasterCard-Eurocard</td>\n",
              "    </tr>\n",
              "    <tr>\n",
              "      <th>3</th>\n",
              "      <td>135110</td>\n",
              "      <td>American_Express</td>\n",
              "    </tr>\n",
              "    <tr>\n",
              "      <th>4</th>\n",
              "      <td>135110</td>\n",
              "      <td>bank_debit_cards</td>\n",
              "    </tr>\n",
              "  </tbody>\n",
              "</table>\n",
              "</div>\n",
              "      <button class=\"colab-df-convert\" onclick=\"convertToInteractive('df-faa301fb-8a18-40d6-ad18-fe54782aeedb')\"\n",
              "              title=\"Convert this dataframe to an interactive table.\"\n",
              "              style=\"display:none;\">\n",
              "        \n",
              "  <svg xmlns=\"http://www.w3.org/2000/svg\" height=\"24px\"viewBox=\"0 0 24 24\"\n",
              "       width=\"24px\">\n",
              "    <path d=\"M0 0h24v24H0V0z\" fill=\"none\"/>\n",
              "    <path d=\"M18.56 5.44l.94 2.06.94-2.06 2.06-.94-2.06-.94-.94-2.06-.94 2.06-2.06.94zm-11 1L8.5 8.5l.94-2.06 2.06-.94-2.06-.94L8.5 2.5l-.94 2.06-2.06.94zm10 10l.94 2.06.94-2.06 2.06-.94-2.06-.94-.94-2.06-.94 2.06-2.06.94z\"/><path d=\"M17.41 7.96l-1.37-1.37c-.4-.4-.92-.59-1.43-.59-.52 0-1.04.2-1.43.59L10.3 9.45l-7.72 7.72c-.78.78-.78 2.05 0 2.83L4 21.41c.39.39.9.59 1.41.59.51 0 1.02-.2 1.41-.59l7.78-7.78 2.81-2.81c.8-.78.8-2.07 0-2.86zM5.41 20L4 18.59l7.72-7.72 1.47 1.35L5.41 20z\"/>\n",
              "  </svg>\n",
              "      </button>\n",
              "      \n",
              "  <style>\n",
              "    .colab-df-container {\n",
              "      display:flex;\n",
              "      flex-wrap:wrap;\n",
              "      gap: 12px;\n",
              "    }\n",
              "\n",
              "    .colab-df-convert {\n",
              "      background-color: #E8F0FE;\n",
              "      border: none;\n",
              "      border-radius: 50%;\n",
              "      cursor: pointer;\n",
              "      display: none;\n",
              "      fill: #1967D2;\n",
              "      height: 32px;\n",
              "      padding: 0 0 0 0;\n",
              "      width: 32px;\n",
              "    }\n",
              "\n",
              "    .colab-df-convert:hover {\n",
              "      background-color: #E2EBFA;\n",
              "      box-shadow: 0px 1px 2px rgba(60, 64, 67, 0.3), 0px 1px 3px 1px rgba(60, 64, 67, 0.15);\n",
              "      fill: #174EA6;\n",
              "    }\n",
              "\n",
              "    [theme=dark] .colab-df-convert {\n",
              "      background-color: #3B4455;\n",
              "      fill: #D2E3FC;\n",
              "    }\n",
              "\n",
              "    [theme=dark] .colab-df-convert:hover {\n",
              "      background-color: #434B5C;\n",
              "      box-shadow: 0px 1px 3px 1px rgba(0, 0, 0, 0.15);\n",
              "      filter: drop-shadow(0px 1px 2px rgba(0, 0, 0, 0.3));\n",
              "      fill: #FFFFFF;\n",
              "    }\n",
              "  </style>\n",
              "\n",
              "      <script>\n",
              "        const buttonEl =\n",
              "          document.querySelector('#df-faa301fb-8a18-40d6-ad18-fe54782aeedb button.colab-df-convert');\n",
              "        buttonEl.style.display =\n",
              "          google.colab.kernel.accessAllowed ? 'block' : 'none';\n",
              "\n",
              "        async function convertToInteractive(key) {\n",
              "          const element = document.querySelector('#df-faa301fb-8a18-40d6-ad18-fe54782aeedb');\n",
              "          const dataTable =\n",
              "            await google.colab.kernel.invokeFunction('convertToInteractive',\n",
              "                                                     [key], {});\n",
              "          if (!dataTable) return;\n",
              "\n",
              "          const docLinkHtml = 'Like what you see? Visit the ' +\n",
              "            '<a target=\"_blank\" href=https://colab.research.google.com/notebooks/data_table.ipynb>data table notebook</a>'\n",
              "            + ' to learn more about interactive tables.';\n",
              "          element.innerHTML = '';\n",
              "          dataTable['output_type'] = 'display_data';\n",
              "          await google.colab.output.renderOutput(dataTable, element);\n",
              "          const docLink = document.createElement('div');\n",
              "          docLink.innerHTML = docLinkHtml;\n",
              "          element.appendChild(docLink);\n",
              "        }\n",
              "      </script>\n",
              "    </div>\n",
              "  </div>\n",
              "  "
            ]
          },
          "metadata": {},
          "execution_count": 4
        }
      ]
    },
    {
      "cell_type": "code",
      "source": [
        "accepts.Rpayment.value_counts().plot(kind='bar')\n",
        "plt.xlabel('Типы платежей  ')\n",
        "plt.ylabel('Колличество ')\n"
      ],
      "metadata": {
        "colab": {
          "base_uri": "https://localhost:8080/",
          "height": 392
        },
        "id": "srDyLVzc_2V1",
        "outputId": "004eb2b6-076c-4a58-8b3c-b4f4d30685ef"
      },
      "execution_count": 5,
      "outputs": [
        {
          "output_type": "execute_result",
          "data": {
            "text/plain": [
              "Text(0, 0.5, 'Колличество ')"
            ]
          },
          "metadata": {},
          "execution_count": 5
        },
        {
          "output_type": "display_data",
          "data": {
            "text/plain": [
              "<Figure size 432x288 with 1 Axes>"
            ],
            "image/png": "[encoded data removed]"
          },
          "metadata": {
            "needs_background": "light"
          }
        }
      ]
    },
    {
      "cell_type": "markdown",
      "source": [
        "График количества принятых типов платежей во всех ресторанах\n",
        "\n",
        "\n",
        "Интересное наблюдение заключается в том, что в большинстве заведений принимаются наличные. Еще одна вещь, на которую следует обратить внимание, - это то, что \"VISA\" и \"visa\" - это разные значения, и кажется, что это может быть просто ошибка"
      ],
      "metadata": {
        "id": "7wfAzmF2A4P6"
      }
    },
    {
      "cell_type": "code",
      "source": [
        "print(accepts.Rpayment.unique())"
      ],
      "metadata": {
        "colab": {
          "base_uri": "https://localhost:8080/"
        },
        "id": "mS18BDkdcsTg",
        "outputId": "eaad4717-41f9-42ef-ad88-a65d2e802fe7"
      },
      "execution_count": 6,
      "outputs": [
        {
          "output_type": "stream",
          "name": "stdout",
          "text": [
            "['cash' 'VISA' 'MasterCard-Eurocard' 'American_Express' 'bank_debit_cards'\n",
            " 'checks' 'Discover' 'Carte_Blanche' 'Diners_Club' 'Visa'\n",
            " 'Japan_Credit_Bureau' 'gift_certificates']\n"
          ]
        }
      ]
    },
    {
      "cell_type": "code",
      "source": [
        "cuisine.head()"
      ],
      "metadata": {
        "colab": {
          "base_uri": "https://localhost:8080/",
          "height": 206
        },
        "id": "mgD4CotXdtOI",
        "outputId": "252b1e72-7f49-42f1-fe5f-caf621352fea"
      },
      "execution_count": 7,
      "outputs": [
        {
          "output_type": "execute_result",
          "data": {
            "text/plain": [
              "   placeID        Rcuisine\n",
              "0   135110         Spanish\n",
              "1   135109         Italian\n",
              "2   135107  Latin_American\n",
              "3   135106         Mexican\n",
              "4   135105       Fast_Food"
            ],
            "text/html": [
              "\n",
              "  <div id=\"df-cc54d4bb-cc5a-4be4-9742-bf5a18281c50\">\n",
              "    <div class=\"colab-df-container\">\n",
              "      <div>\n",
              "<style scoped>\n",
              "    .dataframe tbody tr th:only-of-type {\n",
              "        vertical-align: middle;\n",
              "    }\n",
              "\n",
              "    .dataframe tbody tr th {\n",
              "        vertical-align: top;\n",
              "    }\n",
              "\n",
              "    .dataframe thead th {\n",
              "        text-align: right;\n",
              "    }\n",
              "</style>\n",
              "<table border=\"1\" class=\"dataframe\">\n",
              "  <thead>\n",
              "    <tr style=\"text-align: right;\">\n",
              "      <th></th>\n",
              "      <th>placeID</th>\n",
              "      <th>Rcuisine</th>\n",
              "    </tr>\n",
              "  </thead>\n",
              "  <tbody>\n",
              "    <tr>\n",
              "      <th>0</th>\n",
              "      <td>135110</td>\n",
              "      <td>Spanish</td>\n",
              "    </tr>\n",
              "    <tr>\n",
              "      <th>1</th>\n",
              "      <td>135109</td>\n",
              "      <td>Italian</td>\n",
              "    </tr>\n",
              "    <tr>\n",
              "      <th>2</th>\n",
              "      <td>135107</td>\n",
              "      <td>Latin_American</td>\n",
              "    </tr>\n",
              "    <tr>\n",
              "      <th>3</th>\n",
              "      <td>135106</td>\n",
              "      <td>Mexican</td>\n",
              "    </tr>\n",
              "    <tr>\n",
              "      <th>4</th>\n",
              "      <td>135105</td>\n",
              "      <td>Fast_Food</td>\n",
              "    </tr>\n",
              "  </tbody>\n",
              "</table>\n",
              "</div>\n",
              "      <button class=\"colab-df-convert\" onclick=\"convertToInteractive('df-cc54d4bb-cc5a-4be4-9742-bf5a18281c50')\"\n",
              "              title=\"Convert this dataframe to an interactive table.\"\n",
              "              style=\"display:none;\">\n",
              "        \n",
              "  <svg xmlns=\"http://www.w3.org/2000/svg\" height=\"24px\"viewBox=\"0 0 24 24\"\n",
              "       width=\"24px\">\n",
              "    <path d=\"M0 0h24v24H0V0z\" fill=\"none\"/>\n",
              "    <path d=\"M18.56 5.44l.94 2.06.94-2.06 2.06-.94-2.06-.94-.94-2.06-.94 2.06-2.06.94zm-11 1L8.5 8.5l.94-2.06 2.06-.94-2.06-.94L8.5 2.5l-.94 2.06-2.06.94zm10 10l.94 2.06.94-2.06 2.06-.94-2.06-.94-.94-2.06-.94 2.06-2.06.94z\"/><path d=\"M17.41 7.96l-1.37-1.37c-.4-.4-.92-.59-1.43-.59-.52 0-1.04.2-1.43.59L10.3 9.45l-7.72 7.72c-.78.78-.78 2.05 0 2.83L4 21.41c.39.39.9.59 1.41.59.51 0 1.02-.2 1.41-.59l7.78-7.78 2.81-2.81c.8-.78.8-2.07 0-2.86zM5.41 20L4 18.59l7.72-7.72 1.47 1.35L5.41 20z\"/>\n",
              "  </svg>\n",
              "      </button>\n",
              "      \n",
              "  <style>\n",
              "    .colab-df-container {\n",
              "      display:flex;\n",
              "      flex-wrap:wrap;\n",
              "      gap: 12px;\n",
              "    }\n",
              "\n",
              "    .colab-df-convert {\n",
              "      background-color: #E8F0FE;\n",
              "      border: none;\n",
              "      border-radius: 50%;\n",
              "      cursor: pointer;\n",
              "      display: none;\n",
              "      fill: #1967D2;\n",
              "      height: 32px;\n",
              "      padding: 0 0 0 0;\n",
              "      width: 32px;\n",
              "    }\n",
              "\n",
              "    .colab-df-convert:hover {\n",
              "      background-color: #E2EBFA;\n",
              "      box-shadow: 0px 1px 2px rgba(60, 64, 67, 0.3), 0px 1px 3px 1px rgba(60, 64, 67, 0.15);\n",
              "      fill: #174EA6;\n",
              "    }\n",
              "\n",
              "    [theme=dark] .colab-df-convert {\n",
              "      background-color: #3B4455;\n",
              "      fill: #D2E3FC;\n",
              "    }\n",
              "\n",
              "    [theme=dark] .colab-df-convert:hover {\n",
              "      background-color: #434B5C;\n",
              "      box-shadow: 0px 1px 3px 1px rgba(0, 0, 0, 0.15);\n",
              "      filter: drop-shadow(0px 1px 2px rgba(0, 0, 0, 0.3));\n",
              "      fill: #FFFFFF;\n",
              "    }\n",
              "  </style>\n",
              "\n",
              "      <script>\n",
              "        const buttonEl =\n",
              "          document.querySelector('#df-cc54d4bb-cc5a-4be4-9742-bf5a18281c50 button.colab-df-convert');\n",
              "        buttonEl.style.display =\n",
              "          google.colab.kernel.accessAllowed ? 'block' : 'none';\n",
              "\n",
              "        async function convertToInteractive(key) {\n",
              "          const element = document.querySelector('#df-cc54d4bb-cc5a-4be4-9742-bf5a18281c50');\n",
              "          const dataTable =\n",
              "            await google.colab.kernel.invokeFunction('convertToInteractive',\n",
              "                                                     [key], {});\n",
              "          if (!dataTable) return;\n",
              "\n",
              "          const docLinkHtml = 'Like what you see? Visit the ' +\n",
              "            '<a target=\"_blank\" href=https://colab.research.google.com/notebooks/data_table.ipynb>data table notebook</a>'\n",
              "            + ' to learn more about interactive tables.';\n",
              "          element.innerHTML = '';\n",
              "          dataTable['output_type'] = 'display_data';\n",
              "          await google.colab.output.renderOutput(dataTable, element);\n",
              "          const docLink = document.createElement('div');\n",
              "          docLink.innerHTML = docLinkHtml;\n",
              "          element.appendChild(docLink);\n",
              "        }\n",
              "      </script>\n",
              "    </div>\n",
              "  </div>\n",
              "  "
            ]
          },
          "metadata": {},
          "execution_count": 7
        }
      ]
    },
    {
      "cell_type": "code",
      "source": [
        "cusines = cuisine.Rcuisine.value_counts()[:10] \n",
        "cusines.plot.barh()\n",
        "plt.xlabel('Колличество  ')\n",
        "plt.ylabel('Виды кухонь ')\n",
        "\n"
      ],
      "metadata": {
        "colab": {
          "base_uri": "https://localhost:8080/",
          "height": 296
        },
        "id": "QxksTSHzBdqy",
        "outputId": "3917ddf2-e93f-4f8b-8cdf-b7fc26c2240b"
      },
      "execution_count": 8,
      "outputs": [
        {
          "output_type": "execute_result",
          "data": {
            "text/plain": [
              "Text(0, 0.5, 'Виды кухонь ')"
            ]
          },
          "metadata": {},
          "execution_count": 8
        },
        {
          "output_type": "display_data",
          "data": {
            "text/plain": [
              "<Figure size 432x288 with 1 Axes>"
            ],
            "image/png": "[encoded data removed]"
          },
          "metadata": {
            "needs_background": "light"
          }
        }
      ]
    },
    {
      "cell_type": "markdown",
      "source": [
        "График топ 10 кухонь во всех ресторанах "
      ],
      "metadata": {
        "id": "11IOV24IBsgp"
      }
    },
    {
      "cell_type": "code",
      "source": [
        "print(cuisine.Rcuisine.unique())"
      ],
      "metadata": {
        "colab": {
          "base_uri": "https://localhost:8080/"
        },
        "id": "veHzqUkcdzgr",
        "outputId": "37392ccb-270d-4ed5-cb16-00db7ac9fa3d"
      },
      "execution_count": 9,
      "outputs": [
        {
          "output_type": "stream",
          "name": "stdout",
          "text": [
            "['Spanish' 'Italian' 'Latin_American' 'Mexican' 'Fast_Food' 'Burgers'\n",
            " 'Dessert-Ice_Cream' 'Hot_Dogs' 'Steaks' 'Asian' 'International'\n",
            " 'Mongolian' 'Vegetarian' 'Brazilian' 'Cafe-Coffee_Shop' 'Cafeteria'\n",
            " 'Contemporary' 'Deli-Sandwiches' 'Diner' 'Japanese' 'Sushi' 'Seafood'\n",
            " 'Chinese' 'Bar' 'Bar_Pub_Brewery' 'Pizzeria' 'Mediterranean' 'American'\n",
            " 'Family' 'Caribbean' 'African' 'Breakfast-Brunch' 'Regional' 'Afghan'\n",
            " 'Bakery' 'Game' 'Armenian' 'Vietnamese' 'Korean' 'Thai' 'Barbecue'\n",
            " 'Polish' 'Dutch-Belgian' 'French' 'German' 'Southwestern' 'Persian'\n",
            " 'Ethiopian' 'Juice' 'Soup' 'Continental-European' 'Greek' 'Southern'\n",
            " 'Eastern_European' 'California' 'Bagels' 'Turkish' 'Organic-Healthy'\n",
            " 'Fine_Dining']\n"
          ]
        }
      ]
    },
    {
      "cell_type": "code",
      "source": [
        "hours.head()"
      ],
      "metadata": {
        "colab": {
          "base_uri": "https://localhost:8080/",
          "height": 206
        },
        "id": "dnKPU9aBd3rZ",
        "outputId": "e54fe4d5-f705-423f-f985-6dc335d2fd3c"
      },
      "execution_count": 10,
      "outputs": [
        {
          "output_type": "execute_result",
          "data": {
            "text/plain": [
              "   placeID         hours                  days\n",
              "0   135111  00:00-23:30;  Mon;Tue;Wed;Thu;Fri;\n",
              "1   135111  00:00-23:30;                  Sat;\n",
              "2   135111  00:00-23:30;                  Sun;\n",
              "3   135110  08:00-19:00;  Mon;Tue;Wed;Thu;Fri;\n",
              "4   135110  00:00-00:00;                  Sat;"
            ],
            "text/html": [
              "\n",
              "  <div id=\"df-bbb51d6e-3142-4038-a4d6-5d891a2eabb0\">\n",
              "    <div class=\"colab-df-container\">\n",
              "      <div>\n",
              "<style scoped>\n",
              "    .dataframe tbody tr th:only-of-type {\n",
              "        vertical-align: middle;\n",
              "    }\n",
              "\n",
              "    .dataframe tbody tr th {\n",
              "        vertical-align: top;\n",
              "    }\n",
              "\n",
              "    .dataframe thead th {\n",
              "        text-align: right;\n",
              "    }\n",
              "</style>\n",
              "<table border=\"1\" class=\"dataframe\">\n",
              "  <thead>\n",
              "    <tr style=\"text-align: right;\">\n",
              "      <th></th>\n",
              "      <th>placeID</th>\n",
              "      <th>hours</th>\n",
              "      <th>days</th>\n",
              "    </tr>\n",
              "  </thead>\n",
              "  <tbody>\n",
              "    <tr>\n",
              "      <th>0</th>\n",
              "      <td>135111</td>\n",
              "      <td>00:00-23:30;</td>\n",
              "      <td>Mon;Tue;Wed;Thu;Fri;</td>\n",
              "    </tr>\n",
              "    <tr>\n",
              "      <th>1</th>\n",
              "      <td>135111</td>\n",
              "      <td>00:00-23:30;</td>\n",
              "      <td>Sat;</td>\n",
              "    </tr>\n",
              "    <tr>\n",
              "      <th>2</th>\n",
              "      <td>135111</td>\n",
              "      <td>00:00-23:30;</td>\n",
              "      <td>Sun;</td>\n",
              "    </tr>\n",
              "    <tr>\n",
              "      <th>3</th>\n",
              "      <td>135110</td>\n",
              "      <td>08:00-19:00;</td>\n",
              "      <td>Mon;Tue;Wed;Thu;Fri;</td>\n",
              "    </tr>\n",
              "    <tr>\n",
              "      <th>4</th>\n",
              "      <td>135110</td>\n",
              "      <td>00:00-00:00;</td>\n",
              "      <td>Sat;</td>\n",
              "    </tr>\n",
              "  </tbody>\n",
              "</table>\n",
              "</div>\n",
              "      <button class=\"colab-df-convert\" onclick=\"convertToInteractive('df-bbb51d6e-3142-4038-a4d6-5d891a2eabb0')\"\n",
              "              title=\"Convert this dataframe to an interactive table.\"\n",
              "              style=\"display:none;\">\n",
              "        \n",
              "  <svg xmlns=\"http://www.w3.org/2000/svg\" height=\"24px\"viewBox=\"0 0 24 24\"\n",
              "       width=\"24px\">\n",
              "    <path d=\"M0 0h24v24H0V0z\" fill=\"none\"/>\n",
              "    <path d=\"M18.56 5.44l.94 2.06.94-2.06 2.06-.94-2.06-.94-.94-2.06-.94 2.06-2.06.94zm-11 1L8.5 8.5l.94-2.06 2.06-.94-2.06-.94L8.5 2.5l-.94 2.06-2.06.94zm10 10l.94 2.06.94-2.06 2.06-.94-2.06-.94-.94-2.06-.94 2.06-2.06.94z\"/><path d=\"M17.41 7.96l-1.37-1.37c-.4-.4-.92-.59-1.43-.59-.52 0-1.04.2-1.43.59L10.3 9.45l-7.72 7.72c-.78.78-.78 2.05 0 2.83L4 21.41c.39.39.9.59 1.41.59.51 0 1.02-.2 1.41-.59l7.78-7.78 2.81-2.81c.8-.78.8-2.07 0-2.86zM5.41 20L4 18.59l7.72-7.72 1.47 1.35L5.41 20z\"/>\n",
              "  </svg>\n",
              "      </button>\n",
              "      \n",
              "  <style>\n",
              "    .colab-df-container {\n",
              "      display:flex;\n",
              "      flex-wrap:wrap;\n",
              "      gap: 12px;\n",
              "    }\n",
              "\n",
              "    .colab-df-convert {\n",
              "      background-color: #E8F0FE;\n",
              "      border: none;\n",
              "      border-radius: 50%;\n",
              "      cursor: pointer;\n",
              "      display: none;\n",
              "      fill: #1967D2;\n",
              "      height: 32px;\n",
              "      padding: 0 0 0 0;\n",
              "      width: 32px;\n",
              "    }\n",
              "\n",
              "    .colab-df-convert:hover {\n",
              "      background-color: #E2EBFA;\n",
              "      box-shadow: 0px 1px 2px rgba(60, 64, 67, 0.3), 0px 1px 3px 1px rgba(60, 64, 67, 0.15);\n",
              "      fill: #174EA6;\n",
              "    }\n",
              "\n",
              "    [theme=dark] .colab-df-convert {\n",
              "      background-color: #3B4455;\n",
              "      fill: #D2E3FC;\n",
              "    }\n",
              "\n",
              "    [theme=dark] .colab-df-convert:hover {\n",
              "      background-color: #434B5C;\n",
              "      box-shadow: 0px 1px 3px 1px rgba(0, 0, 0, 0.15);\n",
              "      filter: drop-shadow(0px 1px 2px rgba(0, 0, 0, 0.3));\n",
              "      fill: #FFFFFF;\n",
              "    }\n",
              "  </style>\n",
              "\n",
              "      <script>\n",
              "        const buttonEl =\n",
              "          document.querySelector('#df-bbb51d6e-3142-4038-a4d6-5d891a2eabb0 button.colab-df-convert');\n",
              "        buttonEl.style.display =\n",
              "          google.colab.kernel.accessAllowed ? 'block' : 'none';\n",
              "\n",
              "        async function convertToInteractive(key) {\n",
              "          const element = document.querySelector('#df-bbb51d6e-3142-4038-a4d6-5d891a2eabb0');\n",
              "          const dataTable =\n",
              "            await google.colab.kernel.invokeFunction('convertToInteractive',\n",
              "                                                     [key], {});\n",
              "          if (!dataTable) return;\n",
              "\n",
              "          const docLinkHtml = 'Like what you see? Visit the ' +\n",
              "            '<a target=\"_blank\" href=https://colab.research.google.com/notebooks/data_table.ipynb>data table notebook</a>'\n",
              "            + ' to learn more about interactive tables.';\n",
              "          element.innerHTML = '';\n",
              "          dataTable['output_type'] = 'display_data';\n",
              "          await google.colab.output.renderOutput(dataTable, element);\n",
              "          const docLink = document.createElement('div');\n",
              "          docLink.innerHTML = docLinkHtml;\n",
              "          element.appendChild(docLink);\n",
              "        }\n",
              "      </script>\n",
              "    </div>\n",
              "  </div>\n",
              "  "
            ]
          },
          "metadata": {},
          "execution_count": 10
        }
      ]
    },
    {
      "cell_type": "code",
      "source": [
        "\n",
        "hours.groupby('placeID').agg({'days': pd.Series.nunique}).days.value_counts().plot.bar();\n",
        "plt.xlabel('Дней открыто  ')\n",
        "plt.ylabel('колличество ')\n"
      ],
      "metadata": {
        "colab": {
          "base_uri": "https://localhost:8080/",
          "height": 293
        },
        "id": "zLTvWqhxCDWh",
        "outputId": "82d4a20b-f101-474e-bf80-5357ccf3c82d"
      },
      "execution_count": 11,
      "outputs": [
        {
          "output_type": "execute_result",
          "data": {
            "text/plain": [
              "Text(0, 0.5, 'колличество ')"
            ]
          },
          "metadata": {},
          "execution_count": 11
        },
        {
          "output_type": "display_data",
          "data": {
            "text/plain": [
              "<Figure size 432x288 with 1 Axes>"
            ],
            "image/png": "[encoded data removed]"
          },
          "metadata": {
            "needs_background": "light"
          }
        }
      ]
    },
    {
      "cell_type": "markdown",
      "source": [
        "График количества дней, открытых всех ресторанов"
      ],
      "metadata": {
        "id": "DXQ452SdCNeS"
      }
    },
    {
      "cell_type": "code",
      "source": [
        "parking.head()"
      ],
      "metadata": {
        "colab": {
          "base_uri": "https://localhost:8080/",
          "height": 206
        },
        "id": "oHby053Ld9M3",
        "outputId": "3ed8391f-60bc-4793-c7a5-012111098893"
      },
      "execution_count": 12,
      "outputs": [
        {
          "output_type": "execute_result",
          "data": {
            "text/plain": [
              "   placeID parking_lot\n",
              "0   135111      public\n",
              "1   135110        none\n",
              "2   135109        none\n",
              "3   135108        none\n",
              "4   135107        none"
            ],
            "text/html": [
              "\n",
              "  <div id=\"df-53c4a746-4062-4f48-84aa-bc5b332d638d\">\n",
              "    <div class=\"colab-df-container\">\n",
              "      <div>\n",
              "<style scoped>\n",
              "    .dataframe tbody tr th:only-of-type {\n",
              "        vertical-align: middle;\n",
              "    }\n",
              "\n",
              "    .dataframe tbody tr th {\n",
              "        vertical-align: top;\n",
              "    }\n",
              "\n",
              "    .dataframe thead th {\n",
              "        text-align: right;\n",
              "    }\n",
              "</style>\n",
              "<table border=\"1\" class=\"dataframe\">\n",
              "  <thead>\n",
              "    <tr style=\"text-align: right;\">\n",
              "      <th></th>\n",
              "      <th>placeID</th>\n",
              "      <th>parking_lot</th>\n",
              "    </tr>\n",
              "  </thead>\n",
              "  <tbody>\n",
              "    <tr>\n",
              "      <th>0</th>\n",
              "      <td>135111</td>\n",
              "      <td>public</td>\n",
              "    </tr>\n",
              "    <tr>\n",
              "      <th>1</th>\n",
              "      <td>135110</td>\n",
              "      <td>none</td>\n",
              "    </tr>\n",
              "    <tr>\n",
              "      <th>2</th>\n",
              "      <td>135109</td>\n",
              "      <td>none</td>\n",
              "    </tr>\n",
              "    <tr>\n",
              "      <th>3</th>\n",
              "      <td>135108</td>\n",
              "      <td>none</td>\n",
              "    </tr>\n",
              "    <tr>\n",
              "      <th>4</th>\n",
              "      <td>135107</td>\n",
              "      <td>none</td>\n",
              "    </tr>\n",
              "  </tbody>\n",
              "</table>\n",
              "</div>\n",
              "      <button class=\"colab-df-convert\" onclick=\"convertToInteractive('df-53c4a746-4062-4f48-84aa-bc5b332d638d')\"\n",
              "              title=\"Convert this dataframe to an interactive table.\"\n",
              "              style=\"display:none;\">\n",
              "        \n",
              "  <svg xmlns=\"http://www.w3.org/2000/svg\" height=\"24px\"viewBox=\"0 0 24 24\"\n",
              "       width=\"24px\">\n",
              "    <path d=\"M0 0h24v24H0V0z\" fill=\"none\"/>\n",
              "    <path d=\"M18.56 5.44l.94 2.06.94-2.06 2.06-.94-2.06-.94-.94-2.06-.94 2.06-2.06.94zm-11 1L8.5 8.5l.94-2.06 2.06-.94-2.06-.94L8.5 2.5l-.94 2.06-2.06.94zm10 10l.94 2.06.94-2.06 2.06-.94-2.06-.94-.94-2.06-.94 2.06-2.06.94z\"/><path d=\"M17.41 7.96l-1.37-1.37c-.4-.4-.92-.59-1.43-.59-.52 0-1.04.2-1.43.59L10.3 9.45l-7.72 7.72c-.78.78-.78 2.05 0 2.83L4 21.41c.39.39.9.59 1.41.59.51 0 1.02-.2 1.41-.59l7.78-7.78 2.81-2.81c.8-.78.8-2.07 0-2.86zM5.41 20L4 18.59l7.72-7.72 1.47 1.35L5.41 20z\"/>\n",
              "  </svg>\n",
              "      </button>\n",
              "      \n",
              "  <style>\n",
              "    .colab-df-container {\n",
              "      display:flex;\n",
              "      flex-wrap:wrap;\n",
              "      gap: 12px;\n",
              "    }\n",
              "\n",
              "    .colab-df-convert {\n",
              "      background-color: #E8F0FE;\n",
              "      border: none;\n",
              "      border-radius: 50%;\n",
              "      cursor: pointer;\n",
              "      display: none;\n",
              "      fill: #1967D2;\n",
              "      height: 32px;\n",
              "      padding: 0 0 0 0;\n",
              "      width: 32px;\n",
              "    }\n",
              "\n",
              "    .colab-df-convert:hover {\n",
              "      background-color: #E2EBFA;\n",
              "      box-shadow: 0px 1px 2px rgba(60, 64, 67, 0.3), 0px 1px 3px 1px rgba(60, 64, 67, 0.15);\n",
              "      fill: #174EA6;\n",
              "    }\n",
              "\n",
              "    [theme=dark] .colab-df-convert {\n",
              "      background-color: #3B4455;\n",
              "      fill: #D2E3FC;\n",
              "    }\n",
              "\n",
              "    [theme=dark] .colab-df-convert:hover {\n",
              "      background-color: #434B5C;\n",
              "      box-shadow: 0px 1px 3px 1px rgba(0, 0, 0, 0.15);\n",
              "      filter: drop-shadow(0px 1px 2px rgba(0, 0, 0, 0.3));\n",
              "      fill: #FFFFFF;\n",
              "    }\n",
              "  </style>\n",
              "\n",
              "      <script>\n",
              "        const buttonEl =\n",
              "          document.querySelector('#df-53c4a746-4062-4f48-84aa-bc5b332d638d button.colab-df-convert');\n",
              "        buttonEl.style.display =\n",
              "          google.colab.kernel.accessAllowed ? 'block' : 'none';\n",
              "\n",
              "        async function convertToInteractive(key) {\n",
              "          const element = document.querySelector('#df-53c4a746-4062-4f48-84aa-bc5b332d638d');\n",
              "          const dataTable =\n",
              "            await google.colab.kernel.invokeFunction('convertToInteractive',\n",
              "                                                     [key], {});\n",
              "          if (!dataTable) return;\n",
              "\n",
              "          const docLinkHtml = 'Like what you see? Visit the ' +\n",
              "            '<a target=\"_blank\" href=https://colab.research.google.com/notebooks/data_table.ipynb>data table notebook</a>'\n",
              "            + ' to learn more about interactive tables.';\n",
              "          element.innerHTML = '';\n",
              "          dataTable['output_type'] = 'display_data';\n",
              "          await google.colab.output.renderOutput(dataTable, element);\n",
              "          const docLink = document.createElement('div');\n",
              "          docLink.innerHTML = docLinkHtml;\n",
              "          element.appendChild(docLink);\n",
              "        }\n",
              "      </script>\n",
              "    </div>\n",
              "  </div>\n",
              "  "
            ]
          },
          "metadata": {},
          "execution_count": 12
        }
      ]
    },
    {
      "cell_type": "code",
      "source": [
        "parking.parking_lot.value_counts().plot.barh();\n",
        "plt.xlabel('Количество  ')\n",
        "plt.ylabel('Наличие парковочных мест')"
      ],
      "metadata": {
        "colab": {
          "base_uri": "https://localhost:8080/",
          "height": 296
        },
        "id": "B7iDNX8QCdl4",
        "outputId": "992e8763-b6a1-450f-8027-778633369e2e"
      },
      "execution_count": 13,
      "outputs": [
        {
          "output_type": "execute_result",
          "data": {
            "text/plain": [
              "Text(0, 0.5, 'Наличие парковочных мест')"
            ]
          },
          "metadata": {},
          "execution_count": 13
        },
        {
          "output_type": "display_data",
          "data": {
            "text/plain": [
              "<Figure size 432x288 with 1 Axes>"
            ],
            "image/png": "[encoded data removed]"
          },
          "metadata": {
            "needs_background": "light"
          }
        }
      ]
    },
    {
      "cell_type": "markdown",
      "source": [
        "график количества парковочных мест во всех ресторанах"
      ],
      "metadata": {
        "id": "RGpo-6k8CkEz"
      }
    },
    {
      "cell_type": "code",
      "source": [
        "print(parking.parking_lot.unique())"
      ],
      "metadata": {
        "colab": {
          "base_uri": "https://localhost:8080/"
        },
        "id": "MqQ2z5Q7eCCt",
        "outputId": "c2062301-eb14-4238-bc82-6cd19edba747"
      },
      "execution_count": 14,
      "outputs": [
        {
          "output_type": "stream",
          "name": "stdout",
          "text": [
            "['public' 'none' 'yes' 'valet parking' 'fee' 'street' 'validated parking']\n"
          ]
        }
      ]
    },
    {
      "cell_type": "code",
      "source": [
        "geo.head()"
      ],
      "metadata": {
        "colab": {
          "base_uri": "https://localhost:8080/",
          "height": 473
        },
        "id": "944T89b4eGo2",
        "outputId": "f1fe027f-e7fa-43e0-e8be-676780bf3199"
      },
      "execution_count": 15,
      "outputs": [
        {
          "output_type": "execute_result",
          "data": {
            "text/plain": [
              "   placeID   latitude   longitude  \\\n",
              "0   134999  18.915421  -99.184871   \n",
              "1   132825  22.147392 -100.983092   \n",
              "2   135106  22.149709 -100.976093   \n",
              "3   132667  23.752697  -99.163359   \n",
              "4   132613  23.752903  -99.165076   \n",
              "\n",
              "                                      the_geom_meter  \\\n",
              "0  0101000020957F000088568DE356715AC138C0A525FC46...   \n",
              "1  0101000020957F00001AD016568C4858C1243261274BA5...   \n",
              "2  0101000020957F0000649D6F21634858C119AE9BF528A3...   \n",
              "3  0101000020957F00005D67BCDDED8157C1222A2DC8D84D...   \n",
              "4  0101000020957F00008EBA2D06DC8157C194E03B7B504E...   \n",
              "\n",
              "                             name                                 address  \\\n",
              "0                 Kiku Cuernavaca                              Revolucion   \n",
              "1                 puesto de tacos  esquina santos degollado y leon guzman   \n",
              "2      El Rincón de San Francisco                         Universidad 169   \n",
              "3  little pizza Emilio Portes Gil                 calle emilio portes gil   \n",
              "4                   carnitas_mata                  lic. Emilio portes gil   \n",
              "\n",
              "              city            state country  fax  ...            alcohol  \\\n",
              "0       Cuernavaca          Morelos  Mexico  NaN  ...  No_Alcohol_Served   \n",
              "1           s.l.p.           s.l.p.  mexico  NaN  ...  No_Alcohol_Served   \n",
              "2  San Luis Potosi  San Luis Potosi  Mexico  NaN  ...          Wine-Beer   \n",
              "3         victoria       tamaulipas     NaN  NaN  ...  No_Alcohol_Served   \n",
              "4         victoria       Tamaulipas  Mexico  NaN  ...  No_Alcohol_Served   \n",
              "\n",
              "  smoking_area dress_code     accessibility   price                    url  \\\n",
              "0         none   informal  no_accessibility  medium  kikucuernavaca.com.mx   \n",
              "1         none   informal        completely     low                    NaN   \n",
              "2  only at bar   informal         partially  medium                    NaN   \n",
              "3         none   informal        completely     low                    NaN   \n",
              "4    permitted   informal        completely  medium                    NaN   \n",
              "\n",
              "  Rambience franchise    area other_services  \n",
              "0  familiar         f  closed           none  \n",
              "1  familiar         f    open           none  \n",
              "2  familiar         f    open           none  \n",
              "3  familiar         t  closed           none  \n",
              "4  familiar         t  closed           none  \n",
              "\n",
              "[5 rows x 21 columns]"
            ],
            "text/html": [
              "\n",
              "  <div id=\"df-c30bc9ad-a51c-4834-abb2-a3d1f72df90f\">\n",
              "    <div class=\"colab-df-container\">\n",
              "      <div>\n",
              "<style scoped>\n",
              "    .dataframe tbody tr th:only-of-type {\n",
              "        vertical-align: middle;\n",
              "    }\n",
              "\n",
              "    .dataframe tbody tr th {\n",
              "        vertical-align: top;\n",
              "    }\n",
              "\n",
              "    .dataframe thead th {\n",
              "        text-align: right;\n",
              "    }\n",
              "</style>\n",
              "<table border=\"1\" class=\"dataframe\">\n",
              "  <thead>\n",
              "    <tr style=\"text-align: right;\">\n",
              "      <th></th>\n",
              "      <th>placeID</th>\n",
              "      <th>latitude</th>\n",
              "      <th>longitude</th>\n",
              "      <th>the_geom_meter</th>\n",
              "      <th>name</th>\n",
              "      <th>address</th>\n",
              "      <th>city</th>\n",
              "      <th>state</th>\n",
              "      <th>country</th>\n",
              "      <th>fax</th>\n",
              "      <th>...</th>\n",
              "      <th>alcohol</th>\n",
              "      <th>smoking_area</th>\n",
              "      <th>dress_code</th>\n",
              "      <th>accessibility</th>\n",
              "      <th>price</th>\n",
              "      <th>url</th>\n",
              "      <th>Rambience</th>\n",
              "      <th>franchise</th>\n",
              "      <th>area</th>\n",
              "      <th>other_services</th>\n",
              "    </tr>\n",
              "  </thead>\n",
              "  <tbody>\n",
              "    <tr>\n",
              "      <th>0</th>\n",
              "      <td>134999</td>\n",
              "      <td>18.915421</td>\n",
              "      <td>-99.184871</td>\n",
              "      <td>0101000020957F000088568DE356715AC138C0A525FC46...</td>\n",
              "      <td>Kiku Cuernavaca</td>\n",
              "      <td>Revolucion</td>\n",
              "      <td>Cuernavaca</td>\n",
              "      <td>Morelos</td>\n",
              "      <td>Mexico</td>\n",
              "      <td>NaN</td>\n",
              "      <td>...</td>\n",
              "      <td>No_Alcohol_Served</td>\n",
              "      <td>none</td>\n",
              "      <td>informal</td>\n",
              "      <td>no_accessibility</td>\n",
              "      <td>medium</td>\n",
              "      <td>kikucuernavaca.com.mx</td>\n",
              "      <td>familiar</td>\n",
              "      <td>f</td>\n",
              "      <td>closed</td>\n",
              "      <td>none</td>\n",
              "    </tr>\n",
              "    <tr>\n",
              "      <th>1</th>\n",
              "      <td>132825</td>\n",
              "      <td>22.147392</td>\n",
              "      <td>-100.983092</td>\n",
              "      <td>0101000020957F00001AD016568C4858C1243261274BA5...</td>\n",
              "      <td>puesto de tacos</td>\n",
              "      <td>esquina santos degollado y leon guzman</td>\n",
              "      <td>s.l.p.</td>\n",
              "      <td>s.l.p.</td>\n",
              "      <td>mexico</td>\n",
              "      <td>NaN</td>\n",
              "      <td>...</td>\n",
              "      <td>No_Alcohol_Served</td>\n",
              "      <td>none</td>\n",
              "      <td>informal</td>\n",
              "      <td>completely</td>\n",
              "      <td>low</td>\n",
              "      <td>NaN</td>\n",
              "      <td>familiar</td>\n",
              "      <td>f</td>\n",
              "      <td>open</td>\n",
              "      <td>none</td>\n",
              "    </tr>\n",
              "    <tr>\n",
              "      <th>2</th>\n",
              "      <td>135106</td>\n",
              "      <td>22.149709</td>\n",
              "      <td>-100.976093</td>\n",
              "      <td>0101000020957F0000649D6F21634858C119AE9BF528A3...</td>\n",
              "      <td>El Rincón de San Francisco</td>\n",
              "      <td>Universidad 169</td>\n",
              "      <td>San Luis Potosi</td>\n",
              "      <td>San Luis Potosi</td>\n",
              "      <td>Mexico</td>\n",
              "      <td>NaN</td>\n",
              "      <td>...</td>\n",
              "      <td>Wine-Beer</td>\n",
              "      <td>only at bar</td>\n",
              "      <td>informal</td>\n",
              "      <td>partially</td>\n",
              "      <td>medium</td>\n",
              "      <td>NaN</td>\n",
              "      <td>familiar</td>\n",
              "      <td>f</td>\n",
              "      <td>open</td>\n",
              "      <td>none</td>\n",
              "    </tr>\n",
              "    <tr>\n",
              "      <th>3</th>\n",
              "      <td>132667</td>\n",
              "      <td>23.752697</td>\n",
              "      <td>-99.163359</td>\n",
              "      <td>0101000020957F00005D67BCDDED8157C1222A2DC8D84D...</td>\n",
              "      <td>little pizza Emilio Portes Gil</td>\n",
              "      <td>calle emilio portes gil</td>\n",
              "      <td>victoria</td>\n",
              "      <td>tamaulipas</td>\n",
              "      <td>NaN</td>\n",
              "      <td>NaN</td>\n",
              "      <td>...</td>\n",
              "      <td>No_Alcohol_Served</td>\n",
              "      <td>none</td>\n",
              "      <td>informal</td>\n",
              "      <td>completely</td>\n",
              "      <td>low</td>\n",
              "      <td>NaN</td>\n",
              "      <td>familiar</td>\n",
              "      <td>t</td>\n",
              "      <td>closed</td>\n",
              "      <td>none</td>\n",
              "    </tr>\n",
              "    <tr>\n",
              "      <th>4</th>\n",
              "      <td>132613</td>\n",
              "      <td>23.752903</td>\n",
              "      <td>-99.165076</td>\n",
              "      <td>0101000020957F00008EBA2D06DC8157C194E03B7B504E...</td>\n",
              "      <td>carnitas_mata</td>\n",
              "      <td>lic. Emilio portes gil</td>\n",
              "      <td>victoria</td>\n",
              "      <td>Tamaulipas</td>\n",
              "      <td>Mexico</td>\n",
              "      <td>NaN</td>\n",
              "      <td>...</td>\n",
              "      <td>No_Alcohol_Served</td>\n",
              "      <td>permitted</td>\n",
              "      <td>informal</td>\n",
              "      <td>completely</td>\n",
              "      <td>medium</td>\n",
              "      <td>NaN</td>\n",
              "      <td>familiar</td>\n",
              "      <td>t</td>\n",
              "      <td>closed</td>\n",
              "      <td>none</td>\n",
              "    </tr>\n",
              "  </tbody>\n",
              "</table>\n",
              "<p>5 rows × 21 columns</p>\n",
              "</div>\n",
              "      <button class=\"colab-df-convert\" onclick=\"convertToInteractive('df-c30bc9ad-a51c-4834-abb2-a3d1f72df90f')\"\n",
              "              title=\"Convert this dataframe to an interactive table.\"\n",
              "              style=\"display:none;\">\n",
              "        \n",
              "  <svg xmlns=\"http://www.w3.org/2000/svg\" height=\"24px\"viewBox=\"0 0 24 24\"\n",
              "       width=\"24px\">\n",
              "    <path d=\"M0 0h24v24H0V0z\" fill=\"none\"/>\n",
              "    <path d=\"M18.56 5.44l.94 2.06.94-2.06 2.06-.94-2.06-.94-.94-2.06-.94 2.06-2.06.94zm-11 1L8.5 8.5l.94-2.06 2.06-.94-2.06-.94L8.5 2.5l-.94 2.06-2.06.94zm10 10l.94 2.06.94-2.06 2.06-.94-2.06-.94-.94-2.06-.94 2.06-2.06.94z\"/><path d=\"M17.41 7.96l-1.37-1.37c-.4-.4-.92-.59-1.43-.59-.52 0-1.04.2-1.43.59L10.3 9.45l-7.72 7.72c-.78.78-.78 2.05 0 2.83L4 21.41c.39.39.9.59 1.41.59.51 0 1.02-.2 1.41-.59l7.78-7.78 2.81-2.81c.8-.78.8-2.07 0-2.86zM5.41 20L4 18.59l7.72-7.72 1.47 1.35L5.41 20z\"/>\n",
              "  </svg>\n",
              "      </button>\n",
              "      \n",
              "  <style>\n",
              "    .colab-df-container {\n",
              "      display:flex;\n",
              "      flex-wrap:wrap;\n",
              "      gap: 12px;\n",
              "    }\n",
              "\n",
              "    .colab-df-convert {\n",
              "      background-color: #E8F0FE;\n",
              "      border: none;\n",
              "      border-radius: 50%;\n",
              "      cursor: pointer;\n",
              "      display: none;\n",
              "      fill: #1967D2;\n",
              "      height: 32px;\n",
              "      padding: 0 0 0 0;\n",
              "      width: 32px;\n",
              "    }\n",
              "\n",
              "    .colab-df-convert:hover {\n",
              "      background-color: #E2EBFA;\n",
              "      box-shadow: 0px 1px 2px rgba(60, 64, 67, 0.3), 0px 1px 3px 1px rgba(60, 64, 67, 0.15);\n",
              "      fill: #174EA6;\n",
              "    }\n",
              "\n",
              "    [theme=dark] .colab-df-convert {\n",
              "      background-color: #3B4455;\n",
              "      fill: #D2E3FC;\n",
              "    }\n",
              "\n",
              "    [theme=dark] .colab-df-convert:hover {\n",
              "      background-color: #434B5C;\n",
              "      box-shadow: 0px 1px 3px 1px rgba(0, 0, 0, 0.15);\n",
              "      filter: drop-shadow(0px 1px 2px rgba(0, 0, 0, 0.3));\n",
              "      fill: #FFFFFF;\n",
              "    }\n",
              "  </style>\n",
              "\n",
              "      <script>\n",
              "        const buttonEl =\n",
              "          document.querySelector('#df-c30bc9ad-a51c-4834-abb2-a3d1f72df90f button.colab-df-convert');\n",
              "        buttonEl.style.display =\n",
              "          google.colab.kernel.accessAllowed ? 'block' : 'none';\n",
              "\n",
              "        async function convertToInteractive(key) {\n",
              "          const element = document.querySelector('#df-c30bc9ad-a51c-4834-abb2-a3d1f72df90f');\n",
              "          const dataTable =\n",
              "            await google.colab.kernel.invokeFunction('convertToInteractive',\n",
              "                                                     [key], {});\n",
              "          if (!dataTable) return;\n",
              "\n",
              "          const docLinkHtml = 'Like what you see? Visit the ' +\n",
              "            '<a target=\"_blank\" href=https://colab.research.google.com/notebooks/data_table.ipynb>data table notebook</a>'\n",
              "            + ' to learn more about interactive tables.';\n",
              "          element.innerHTML = '';\n",
              "          dataTable['output_type'] = 'display_data';\n",
              "          await google.colab.output.renderOutput(dataTable, element);\n",
              "          const docLink = document.createElement('div');\n",
              "          docLink.innerHTML = docLinkHtml;\n",
              "          element.appendChild(docLink);\n",
              "        }\n",
              "      </script>\n",
              "    </div>\n",
              "  </div>\n",
              "  "
            ]
          },
          "metadata": {},
          "execution_count": 15
        }
      ]
    },
    {
      "cell_type": "code",
      "source": [
        "usercuisine.head()"
      ],
      "metadata": {
        "colab": {
          "base_uri": "https://localhost:8080/",
          "height": 206
        },
        "id": "SVIpiN_BeQga",
        "outputId": "5fb55e5e-cfd3-4887-b338-454272e813ad"
      },
      "execution_count": 16,
      "outputs": [
        {
          "output_type": "execute_result",
          "data": {
            "text/plain": [
              "  userID          Rcuisine\n",
              "0  U1001          American\n",
              "1  U1002           Mexican\n",
              "2  U1003           Mexican\n",
              "3  U1004            Bakery\n",
              "4  U1004  Breakfast-Brunch"
            ],
            "text/html": [
              "\n",
              "  <div id=\"df-1008ad08-7fcf-464f-b469-928931190f78\">\n",
              "    <div class=\"colab-df-container\">\n",
              "      <div>\n",
              "<style scoped>\n",
              "    .dataframe tbody tr th:only-of-type {\n",
              "        vertical-align: middle;\n",
              "    }\n",
              "\n",
              "    .dataframe tbody tr th {\n",
              "        vertical-align: top;\n",
              "    }\n",
              "\n",
              "    .dataframe thead th {\n",
              "        text-align: right;\n",
              "    }\n",
              "</style>\n",
              "<table border=\"1\" class=\"dataframe\">\n",
              "  <thead>\n",
              "    <tr style=\"text-align: right;\">\n",
              "      <th></th>\n",
              "      <th>userID</th>\n",
              "      <th>Rcuisine</th>\n",
              "    </tr>\n",
              "  </thead>\n",
              "  <tbody>\n",
              "    <tr>\n",
              "      <th>0</th>\n",
              "      <td>U1001</td>\n",
              "      <td>American</td>\n",
              "    </tr>\n",
              "    <tr>\n",
              "      <th>1</th>\n",
              "      <td>U1002</td>\n",
              "      <td>Mexican</td>\n",
              "    </tr>\n",
              "    <tr>\n",
              "      <th>2</th>\n",
              "      <td>U1003</td>\n",
              "      <td>Mexican</td>\n",
              "    </tr>\n",
              "    <tr>\n",
              "      <th>3</th>\n",
              "      <td>U1004</td>\n",
              "      <td>Bakery</td>\n",
              "    </tr>\n",
              "    <tr>\n",
              "      <th>4</th>\n",
              "      <td>U1004</td>\n",
              "      <td>Breakfast-Brunch</td>\n",
              "    </tr>\n",
              "  </tbody>\n",
              "</table>\n",
              "</div>\n",
              "      <button class=\"colab-df-convert\" onclick=\"convertToInteractive('df-1008ad08-7fcf-464f-b469-928931190f78')\"\n",
              "              title=\"Convert this dataframe to an interactive table.\"\n",
              "              style=\"display:none;\">\n",
              "        \n",
              "  <svg xmlns=\"http://www.w3.org/2000/svg\" height=\"24px\"viewBox=\"0 0 24 24\"\n",
              "       width=\"24px\">\n",
              "    <path d=\"M0 0h24v24H0V0z\" fill=\"none\"/>\n",
              "    <path d=\"M18.56 5.44l.94 2.06.94-2.06 2.06-.94-2.06-.94-.94-2.06-.94 2.06-2.06.94zm-11 1L8.5 8.5l.94-2.06 2.06-.94-2.06-.94L8.5 2.5l-.94 2.06-2.06.94zm10 10l.94 2.06.94-2.06 2.06-.94-2.06-.94-.94-2.06-.94 2.06-2.06.94z\"/><path d=\"M17.41 7.96l-1.37-1.37c-.4-.4-.92-.59-1.43-.59-.52 0-1.04.2-1.43.59L10.3 9.45l-7.72 7.72c-.78.78-.78 2.05 0 2.83L4 21.41c.39.39.9.59 1.41.59.51 0 1.02-.2 1.41-.59l7.78-7.78 2.81-2.81c.8-.78.8-2.07 0-2.86zM5.41 20L4 18.59l7.72-7.72 1.47 1.35L5.41 20z\"/>\n",
              "  </svg>\n",
              "      </button>\n",
              "      \n",
              "  <style>\n",
              "    .colab-df-container {\n",
              "      display:flex;\n",
              "      flex-wrap:wrap;\n",
              "      gap: 12px;\n",
              "    }\n",
              "\n",
              "    .colab-df-convert {\n",
              "      background-color: #E8F0FE;\n",
              "      border: none;\n",
              "      border-radius: 50%;\n",
              "      cursor: pointer;\n",
              "      display: none;\n",
              "      fill: #1967D2;\n",
              "      height: 32px;\n",
              "      padding: 0 0 0 0;\n",
              "      width: 32px;\n",
              "    }\n",
              "\n",
              "    .colab-df-convert:hover {\n",
              "      background-color: #E2EBFA;\n",
              "      box-shadow: 0px 1px 2px rgba(60, 64, 67, 0.3), 0px 1px 3px 1px rgba(60, 64, 67, 0.15);\n",
              "      fill: #174EA6;\n",
              "    }\n",
              "\n",
              "    [theme=dark] .colab-df-convert {\n",
              "      background-color: #3B4455;\n",
              "      fill: #D2E3FC;\n",
              "    }\n",
              "\n",
              "    [theme=dark] .colab-df-convert:hover {\n",
              "      background-color: #434B5C;\n",
              "      box-shadow: 0px 1px 3px 1px rgba(0, 0, 0, 0.15);\n",
              "      filter: drop-shadow(0px 1px 2px rgba(0, 0, 0, 0.3));\n",
              "      fill: #FFFFFF;\n",
              "    }\n",
              "  </style>\n",
              "\n",
              "      <script>\n",
              "        const buttonEl =\n",
              "          document.querySelector('#df-1008ad08-7fcf-464f-b469-928931190f78 button.colab-df-convert');\n",
              "        buttonEl.style.display =\n",
              "          google.colab.kernel.accessAllowed ? 'block' : 'none';\n",
              "\n",
              "        async function convertToInteractive(key) {\n",
              "          const element = document.querySelector('#df-1008ad08-7fcf-464f-b469-928931190f78');\n",
              "          const dataTable =\n",
              "            await google.colab.kernel.invokeFunction('convertToInteractive',\n",
              "                                                     [key], {});\n",
              "          if (!dataTable) return;\n",
              "\n",
              "          const docLinkHtml = 'Like what you see? Visit the ' +\n",
              "            '<a target=\"_blank\" href=https://colab.research.google.com/notebooks/data_table.ipynb>data table notebook</a>'\n",
              "            + ' to learn more about interactive tables.';\n",
              "          element.innerHTML = '';\n",
              "          dataTable['output_type'] = 'display_data';\n",
              "          await google.colab.output.renderOutput(dataTable, element);\n",
              "          const docLink = document.createElement('div');\n",
              "          docLink.innerHTML = docLinkHtml;\n",
              "          element.appendChild(docLink);\n",
              "        }\n",
              "      </script>\n",
              "    </div>\n",
              "  </div>\n",
              "  "
            ]
          },
          "metadata": {},
          "execution_count": 16
        }
      ]
    },
    {
      "cell_type": "code",
      "source": [
        "\n",
        "\n",
        "usercuisine.Rcuisine.value_counts()[:10].plot.bar();\n",
        "plt.xlabel('Виды предпочитаемых кухонь  ')\n",
        "plt.ylabel('количество')"
      ],
      "metadata": {
        "colab": {
          "base_uri": "https://localhost:8080/",
          "height": 375
        },
        "id": "tFv20f7mCwuc",
        "outputId": "f2a5bd3f-58d8-4e7e-cfe4-e5087fb779c3"
      },
      "execution_count": 17,
      "outputs": [
        {
          "output_type": "execute_result",
          "data": {
            "text/plain": [
              "Text(0, 0.5, 'количество')"
            ]
          },
          "metadata": {},
          "execution_count": 17
        },
        {
          "output_type": "display_data",
          "data": {
            "text/plain": [
              "<Figure size 432x288 with 1 Axes>"
            ],
            "image/png": "[encoded data removed]"
          },
          "metadata": {
            "needs_background": "light"
          }
        }
      ]
    },
    {
      "cell_type": "markdown",
      "source": [
        "график количества различных кухонь, предпочитаемых всеми клиентами"
      ],
      "metadata": {
        "id": "OlgThL99DTmd"
      }
    },
    {
      "cell_type": "code",
      "source": [
        "print(usercuisine.Rcuisine.unique())"
      ],
      "metadata": {
        "colab": {
          "base_uri": "https://localhost:8080/"
        },
        "id": "mnaT6kZGeXon",
        "outputId": "26bc8f1c-a735-4686-9ea4-c554ed0ab838"
      },
      "execution_count": 18,
      "outputs": [
        {
          "output_type": "stream",
          "name": "stdout",
          "text": [
            "['American' 'Mexican' 'Bakery' 'Breakfast-Brunch' 'Japanese'\n",
            " 'Contemporary' 'Bagels' 'Cafe-Coffee_Shop' 'Continental-European'\n",
            " 'Cafeteria' 'Family' 'Juice' 'Hawaiian' 'Hot_Dogs' 'Latin_American'\n",
            " 'Korean' 'Italian' 'Diner' 'Fast_Food' 'Deli-Sandwiches' 'Regional'\n",
            " 'Fusion' 'Portuguese' 'Indian-Pakistani' 'Eastern_European' 'Lebanese'\n",
            " 'Moroccan' 'Barbecue' 'Polynesian' 'Polish' 'Chinese' 'Pizzeria'\n",
            " 'Burgers' 'Afghan' 'Middle_Eastern' 'Mongolian' 'Bar' 'Cuban' 'Tex-Mex'\n",
            " 'Spanish' 'Soup' 'Sushi' 'Game' 'Doughnuts' 'Australian' 'Asian'\n",
            " 'Dessert-Ice_Cream' 'Seafood' 'Turkish' 'Organic-Healthy' 'Steaks'\n",
            " 'Mediterranean' 'British' 'Austrian' 'Israeli' 'Russian-Ukrainian'\n",
            " 'Malaysian' 'Vegetarian' 'Peruvian' 'Tapas' 'Eclectic' 'African' 'Basque'\n",
            " 'Canadian' 'Irish' 'Southwestern' 'Tea_House' 'International'\n",
            " 'Pacific_Northwest' 'German' 'Persian' 'Ethiopian' 'Romanian' 'Cambodian'\n",
            " 'Pacific_Rim' 'Tunisian' 'Filipino' 'Dim_Sum' 'Greek' 'Thai' 'Swiss'\n",
            " 'Cajun-Creole' 'Armenian' 'Indigenous' 'Bar_Pub_Brewery' 'Caribbean'\n",
            " 'Indonesian' 'Hungarian' 'Dutch-Belgian' 'Kosher' 'Fine_Dining'\n",
            " 'Jamaican' 'Tibetan' 'Southeast_Asian' 'Burmese' 'California'\n",
            " 'Scandinavian' 'Chilean' 'North_African' 'Vietnamese' 'French'\n",
            " 'Brazilian' 'Southern']\n"
          ]
        }
      ]
    },
    {
      "cell_type": "code",
      "source": [
        "payment.head()"
      ],
      "metadata": {
        "colab": {
          "base_uri": "https://localhost:8080/",
          "height": 206
        },
        "id": "DjEPk5EbedWZ",
        "outputId": "bc106ed8-a474-4a6a-89ed-7ec1702ea32b"
      },
      "execution_count": 19,
      "outputs": [
        {
          "output_type": "execute_result",
          "data": {
            "text/plain": [
              "  userID          Upayment\n",
              "0  U1001              cash\n",
              "1  U1002              cash\n",
              "2  U1003              cash\n",
              "3  U1004              cash\n",
              "4  U1004  bank_debit_cards"
            ],
            "text/html": [
              "\n",
              "  <div id=\"df-c6e98241-8120-4ab2-96c6-10f7afb9d665\">\n",
              "    <div class=\"colab-df-container\">\n",
              "      <div>\n",
              "<style scoped>\n",
              "    .dataframe tbody tr th:only-of-type {\n",
              "        vertical-align: middle;\n",
              "    }\n",
              "\n",
              "    .dataframe tbody tr th {\n",
              "        vertical-align: top;\n",
              "    }\n",
              "\n",
              "    .dataframe thead th {\n",
              "        text-align: right;\n",
              "    }\n",
              "</style>\n",
              "<table border=\"1\" class=\"dataframe\">\n",
              "  <thead>\n",
              "    <tr style=\"text-align: right;\">\n",
              "      <th></th>\n",
              "      <th>userID</th>\n",
              "      <th>Upayment</th>\n",
              "    </tr>\n",
              "  </thead>\n",
              "  <tbody>\n",
              "    <tr>\n",
              "      <th>0</th>\n",
              "      <td>U1001</td>\n",
              "      <td>cash</td>\n",
              "    </tr>\n",
              "    <tr>\n",
              "      <th>1</th>\n",
              "      <td>U1002</td>\n",
              "      <td>cash</td>\n",
              "    </tr>\n",
              "    <tr>\n",
              "      <th>2</th>\n",
              "      <td>U1003</td>\n",
              "      <td>cash</td>\n",
              "    </tr>\n",
              "    <tr>\n",
              "      <th>3</th>\n",
              "      <td>U1004</td>\n",
              "      <td>cash</td>\n",
              "    </tr>\n",
              "    <tr>\n",
              "      <th>4</th>\n",
              "      <td>U1004</td>\n",
              "      <td>bank_debit_cards</td>\n",
              "    </tr>\n",
              "  </tbody>\n",
              "</table>\n",
              "</div>\n",
              "      <button class=\"colab-df-convert\" onclick=\"convertToInteractive('df-c6e98241-8120-4ab2-96c6-10f7afb9d665')\"\n",
              "              title=\"Convert this dataframe to an interactive table.\"\n",
              "              style=\"display:none;\">\n",
              "        \n",
              "  <svg xmlns=\"http://www.w3.org/2000/svg\" height=\"24px\"viewBox=\"0 0 24 24\"\n",
              "       width=\"24px\">\n",
              "    <path d=\"M0 0h24v24H0V0z\" fill=\"none\"/>\n",
              "    <path d=\"M18.56 5.44l.94 2.06.94-2.06 2.06-.94-2.06-.94-.94-2.06-.94 2.06-2.06.94zm-11 1L8.5 8.5l.94-2.06 2.06-.94-2.06-.94L8.5 2.5l-.94 2.06-2.06.94zm10 10l.94 2.06.94-2.06 2.06-.94-2.06-.94-.94-2.06-.94 2.06-2.06.94z\"/><path d=\"M17.41 7.96l-1.37-1.37c-.4-.4-.92-.59-1.43-.59-.52 0-1.04.2-1.43.59L10.3 9.45l-7.72 7.72c-.78.78-.78 2.05 0 2.83L4 21.41c.39.39.9.59 1.41.59.51 0 1.02-.2 1.41-.59l7.78-7.78 2.81-2.81c.8-.78.8-2.07 0-2.86zM5.41 20L4 18.59l7.72-7.72 1.47 1.35L5.41 20z\"/>\n",
              "  </svg>\n",
              "      </button>\n",
              "      \n",
              "  <style>\n",
              "    .colab-df-container {\n",
              "      display:flex;\n",
              "      flex-wrap:wrap;\n",
              "      gap: 12px;\n",
              "    }\n",
              "\n",
              "    .colab-df-convert {\n",
              "      background-color: #E8F0FE;\n",
              "      border: none;\n",
              "      border-radius: 50%;\n",
              "      cursor: pointer;\n",
              "      display: none;\n",
              "      fill: #1967D2;\n",
              "      height: 32px;\n",
              "      padding: 0 0 0 0;\n",
              "      width: 32px;\n",
              "    }\n",
              "\n",
              "    .colab-df-convert:hover {\n",
              "      background-color: #E2EBFA;\n",
              "      box-shadow: 0px 1px 2px rgba(60, 64, 67, 0.3), 0px 1px 3px 1px rgba(60, 64, 67, 0.15);\n",
              "      fill: #174EA6;\n",
              "    }\n",
              "\n",
              "    [theme=dark] .colab-df-convert {\n",
              "      background-color: #3B4455;\n",
              "      fill: #D2E3FC;\n",
              "    }\n",
              "\n",
              "    [theme=dark] .colab-df-convert:hover {\n",
              "      background-color: #434B5C;\n",
              "      box-shadow: 0px 1px 3px 1px rgba(0, 0, 0, 0.15);\n",
              "      filter: drop-shadow(0px 1px 2px rgba(0, 0, 0, 0.3));\n",
              "      fill: #FFFFFF;\n",
              "    }\n",
              "  </style>\n",
              "\n",
              "      <script>\n",
              "        const buttonEl =\n",
              "          document.querySelector('#df-c6e98241-8120-4ab2-96c6-10f7afb9d665 button.colab-df-convert');\n",
              "        buttonEl.style.display =\n",
              "          google.colab.kernel.accessAllowed ? 'block' : 'none';\n",
              "\n",
              "        async function convertToInteractive(key) {\n",
              "          const element = document.querySelector('#df-c6e98241-8120-4ab2-96c6-10f7afb9d665');\n",
              "          const dataTable =\n",
              "            await google.colab.kernel.invokeFunction('convertToInteractive',\n",
              "                                                     [key], {});\n",
              "          if (!dataTable) return;\n",
              "\n",
              "          const docLinkHtml = 'Like what you see? Visit the ' +\n",
              "            '<a target=\"_blank\" href=https://colab.research.google.com/notebooks/data_table.ipynb>data table notebook</a>'\n",
              "            + ' to learn more about interactive tables.';\n",
              "          element.innerHTML = '';\n",
              "          dataTable['output_type'] = 'display_data';\n",
              "          await google.colab.output.renderOutput(dataTable, element);\n",
              "          const docLink = document.createElement('div');\n",
              "          docLink.innerHTML = docLinkHtml;\n",
              "          element.appendChild(docLink);\n",
              "        }\n",
              "      </script>\n",
              "    </div>\n",
              "  </div>\n",
              "  "
            ]
          },
          "metadata": {},
          "execution_count": 19
        }
      ]
    },
    {
      "cell_type": "code",
      "source": [
        "payment.Upayment.value_counts().plot(kind='bar')\n",
        "plt.xlabel('Виды предпочитаемых типов оптаты ')\n",
        "plt.ylabel('количество')"
      ],
      "metadata": {
        "colab": {
          "base_uri": "https://localhost:8080/",
          "height": 392
        },
        "id": "HX5M4nzlDdND",
        "outputId": "042ca740-9bc0-4f90-b1bb-77d3897c59f7"
      },
      "execution_count": 20,
      "outputs": [
        {
          "output_type": "execute_result",
          "data": {
            "text/plain": [
              "Text(0, 0.5, 'количество')"
            ]
          },
          "metadata": {},
          "execution_count": 20
        },
        {
          "output_type": "display_data",
          "data": {
            "text/plain": [
              "<Figure size 432x288 with 1 Axes>"
            ],
            "image/png": "[encoded data removed]"
          },
          "metadata": {
            "needs_background": "light"
          }
        }
      ]
    },
    {
      "cell_type": "markdown",
      "source": [
        "график количества способов оплаты, предпочитаемых всеми Клиентами"
      ],
      "metadata": {
        "id": "dvhUx_qxDmTT"
      }
    },
    {
      "cell_type": "code",
      "source": [
        "print(payment.Upayment.unique())"
      ],
      "metadata": {
        "colab": {
          "base_uri": "https://localhost:8080/"
        },
        "id": "8X0PKoXAeja_",
        "outputId": "c34d75e6-c561-490e-938a-5513b4f8a735"
      },
      "execution_count": 21,
      "outputs": [
        {
          "output_type": "stream",
          "name": "stdout",
          "text": [
            "['cash' 'bank_debit_cards' 'MasterCard-Eurocard' 'VISA' 'American_Express']\n"
          ]
        }
      ]
    },
    {
      "cell_type": "code",
      "source": [
        "profile.head()"
      ],
      "metadata": {
        "colab": {
          "base_uri": "https://localhost:8080/",
          "height": 206
        },
        "id": "irSnaQCMp5Xl",
        "outputId": "b9f99fe1-3fcc-4660-9a1c-7af41900e2ff"
      },
      "execution_count": 22,
      "outputs": [
        {
          "output_type": "execute_result",
          "data": {
            "text/plain": [
              "  userID   latitude   longitude smoker     drink_level dress_preference  \\\n",
              "0  U1001  22.139997 -100.978803  false      abstemious         informal   \n",
              "1  U1002  22.150087 -100.983325  false      abstemious         informal   \n",
              "2  U1003  22.119847 -100.946527  false  social drinker           formal   \n",
              "3  U1004  18.867000  -99.183000  false      abstemious         informal   \n",
              "4  U1005  22.183477 -100.959891  false      abstemious    no preference   \n",
              "\n",
              "  ambience transport marital_status        hijos  birth_year    interest  \\\n",
              "0   family   on foot         single  independent        1989     variety   \n",
              "1   family    public         single  independent        1990  technology   \n",
              "2   family    public         single  independent        1989        none   \n",
              "3   family    public         single  independent        1940     variety   \n",
              "4   family    public         single  independent        1992        none   \n",
              "\n",
              "           personality  religion      activity  color  weight  budget  height  \n",
              "0    thrifty-protector      none       student  black      69  medium    1.77  \n",
              "1  hunter-ostentatious  Catholic       student    red      40     low    1.87  \n",
              "2          hard-worker  Catholic       student   blue      60     low    1.69  \n",
              "3          hard-worker      none  professional  green      44  medium    1.53  \n",
              "4    thrifty-protector  Catholic       student  black      65  medium    1.69  "
            ],
            "text/html": [
              "\n",
              "  <div id=\"df-1c0f7db0-11f5-4246-9515-a0197e3e1edc\">\n",
              "    <div class=\"colab-df-container\">\n",
              "      <div>\n",
              "<style scoped>\n",
              "    .dataframe tbody tr th:only-of-type {\n",
              "        vertical-align: middle;\n",
              "    }\n",
              "\n",
              "    .dataframe tbody tr th {\n",
              "        vertical-align: top;\n",
              "    }\n",
              "\n",
              "    .dataframe thead th {\n",
              "        text-align: right;\n",
              "    }\n",
              "</style>\n",
              "<table border=\"1\" class=\"dataframe\">\n",
              "  <thead>\n",
              "    <tr style=\"text-align: right;\">\n",
              "      <th></th>\n",
              "      <th>userID</th>\n",
              "      <th>latitude</th>\n",
              "      <th>longitude</th>\n",
              "      <th>smoker</th>\n",
              "      <th>drink_level</th>\n",
              "      <th>dress_preference</th>\n",
              "      <th>ambience</th>\n",
              "      <th>transport</th>\n",
              "      <th>marital_status</th>\n",
              "      <th>hijos</th>\n",
              "      <th>birth_year</th>\n",
              "      <th>interest</th>\n",
              "      <th>personality</th>\n",
              "      <th>religion</th>\n",
              "      <th>activity</th>\n",
              "      <th>color</th>\n",
              "      <th>weight</th>\n",
              "      <th>budget</th>\n",
              "      <th>height</th>\n",
              "    </tr>\n",
              "  </thead>\n",
              "  <tbody>\n",
              "    <tr>\n",
              "      <th>0</th>\n",
              "      <td>U1001</td>\n",
              "      <td>22.139997</td>\n",
              "      <td>-100.978803</td>\n",
              "      <td>false</td>\n",
              "      <td>abstemious</td>\n",
              "      <td>informal</td>\n",
              "      <td>family</td>\n",
              "      <td>on foot</td>\n",
              "      <td>single</td>\n",
              "      <td>independent</td>\n",
              "      <td>1989</td>\n",
              "      <td>variety</td>\n",
              "      <td>thrifty-protector</td>\n",
              "      <td>none</td>\n",
              "      <td>student</td>\n",
              "      <td>black</td>\n",
              "      <td>69</td>\n",
              "      <td>medium</td>\n",
              "      <td>1.77</td>\n",
              "    </tr>\n",
              "    <tr>\n",
              "      <th>1</th>\n",
              "      <td>U1002</td>\n",
              "      <td>22.150087</td>\n",
              "      <td>-100.983325</td>\n",
              "      <td>false</td>\n",
              "      <td>abstemious</td>\n",
              "      <td>informal</td>\n",
              "      <td>family</td>\n",
              "      <td>public</td>\n",
              "      <td>single</td>\n",
              "      <td>independent</td>\n",
              "      <td>1990</td>\n",
              "      <td>technology</td>\n",
              "      <td>hunter-ostentatious</td>\n",
              "      <td>Catholic</td>\n",
              "      <td>student</td>\n",
              "      <td>red</td>\n",
              "      <td>40</td>\n",
              "      <td>low</td>\n",
              "      <td>1.87</td>\n",
              "    </tr>\n",
              "    <tr>\n",
              "      <th>2</th>\n",
              "      <td>U1003</td>\n",
              "      <td>22.119847</td>\n",
              "      <td>-100.946527</td>\n",
              "      <td>false</td>\n",
              "      <td>social drinker</td>\n",
              "      <td>formal</td>\n",
              "      <td>family</td>\n",
              "      <td>public</td>\n",
              "      <td>single</td>\n",
              "      <td>independent</td>\n",
              "      <td>1989</td>\n",
              "      <td>none</td>\n",
              "      <td>hard-worker</td>\n",
              "      <td>Catholic</td>\n",
              "      <td>student</td>\n",
              "      <td>blue</td>\n",
              "      <td>60</td>\n",
              "      <td>low</td>\n",
              "      <td>1.69</td>\n",
              "    </tr>\n",
              "    <tr>\n",
              "      <th>3</th>\n",
              "      <td>U1004</td>\n",
              "      <td>18.867000</td>\n",
              "      <td>-99.183000</td>\n",
              "      <td>false</td>\n",
              "      <td>abstemious</td>\n",
              "      <td>informal</td>\n",
              "      <td>family</td>\n",
              "      <td>public</td>\n",
              "      <td>single</td>\n",
              "      <td>independent</td>\n",
              "      <td>1940</td>\n",
              "      <td>variety</td>\n",
              "      <td>hard-worker</td>\n",
              "      <td>none</td>\n",
              "      <td>professional</td>\n",
              "      <td>green</td>\n",
              "      <td>44</td>\n",
              "      <td>medium</td>\n",
              "      <td>1.53</td>\n",
              "    </tr>\n",
              "    <tr>\n",
              "      <th>4</th>\n",
              "      <td>U1005</td>\n",
              "      <td>22.183477</td>\n",
              "      <td>-100.959891</td>\n",
              "      <td>false</td>\n",
              "      <td>abstemious</td>\n",
              "      <td>no preference</td>\n",
              "      <td>family</td>\n",
              "      <td>public</td>\n",
              "      <td>single</td>\n",
              "      <td>independent</td>\n",
              "      <td>1992</td>\n",
              "      <td>none</td>\n",
              "      <td>thrifty-protector</td>\n",
              "      <td>Catholic</td>\n",
              "      <td>student</td>\n",
              "      <td>black</td>\n",
              "      <td>65</td>\n",
              "      <td>medium</td>\n",
              "      <td>1.69</td>\n",
              "    </tr>\n",
              "  </tbody>\n",
              "</table>\n",
              "</div>\n",
              "      <button class=\"colab-df-convert\" onclick=\"convertToInteractive('df-1c0f7db0-11f5-4246-9515-a0197e3e1edc')\"\n",
              "              title=\"Convert this dataframe to an interactive table.\"\n",
              "              style=\"display:none;\">\n",
              "        \n",
              "  <svg xmlns=\"http://www.w3.org/2000/svg\" height=\"24px\"viewBox=\"0 0 24 24\"\n",
              "       width=\"24px\">\n",
              "    <path d=\"M0 0h24v24H0V0z\" fill=\"none\"/>\n",
              "    <path d=\"M18.56 5.44l.94 2.06.94-2.06 2.06-.94-2.06-.94-.94-2.06-.94 2.06-2.06.94zm-11 1L8.5 8.5l.94-2.06 2.06-.94-2.06-.94L8.5 2.5l-.94 2.06-2.06.94zm10 10l.94 2.06.94-2.06 2.06-.94-2.06-.94-.94-2.06-.94 2.06-2.06.94z\"/><path d=\"M17.41 7.96l-1.37-1.37c-.4-.4-.92-.59-1.43-.59-.52 0-1.04.2-1.43.59L10.3 9.45l-7.72 7.72c-.78.78-.78 2.05 0 2.83L4 21.41c.39.39.9.59 1.41.59.51 0 1.02-.2 1.41-.59l7.78-7.78 2.81-2.81c.8-.78.8-2.07 0-2.86zM5.41 20L4 18.59l7.72-7.72 1.47 1.35L5.41 20z\"/>\n",
              "  </svg>\n",
              "      </button>\n",
              "      \n",
              "  <style>\n",
              "    .colab-df-container {\n",
              "      display:flex;\n",
              "      flex-wrap:wrap;\n",
              "      gap: 12px;\n",
              "    }\n",
              "\n",
              "    .colab-df-convert {\n",
              "      background-color: #E8F0FE;\n",
              "      border: none;\n",
              "      border-radius: 50%;\n",
              "      cursor: pointer;\n",
              "      display: none;\n",
              "      fill: #1967D2;\n",
              "      height: 32px;\n",
              "      padding: 0 0 0 0;\n",
              "      width: 32px;\n",
              "    }\n",
              "\n",
              "    .colab-df-convert:hover {\n",
              "      background-color: #E2EBFA;\n",
              "      box-shadow: 0px 1px 2px rgba(60, 64, 67, 0.3), 0px 1px 3px 1px rgba(60, 64, 67, 0.15);\n",
              "      fill: #174EA6;\n",
              "    }\n",
              "\n",
              "    [theme=dark] .colab-df-convert {\n",
              "      background-color: #3B4455;\n",
              "      fill: #D2E3FC;\n",
              "    }\n",
              "\n",
              "    [theme=dark] .colab-df-convert:hover {\n",
              "      background-color: #434B5C;\n",
              "      box-shadow: 0px 1px 3px 1px rgba(0, 0, 0, 0.15);\n",
              "      filter: drop-shadow(0px 1px 2px rgba(0, 0, 0, 0.3));\n",
              "      fill: #FFFFFF;\n",
              "    }\n",
              "  </style>\n",
              "\n",
              "      <script>\n",
              "        const buttonEl =\n",
              "          document.querySelector('#df-1c0f7db0-11f5-4246-9515-a0197e3e1edc button.colab-df-convert');\n",
              "        buttonEl.style.display =\n",
              "          google.colab.kernel.accessAllowed ? 'block' : 'none';\n",
              "\n",
              "        async function convertToInteractive(key) {\n",
              "          const element = document.querySelector('#df-1c0f7db0-11f5-4246-9515-a0197e3e1edc');\n",
              "          const dataTable =\n",
              "            await google.colab.kernel.invokeFunction('convertToInteractive',\n",
              "                                                     [key], {});\n",
              "          if (!dataTable) return;\n",
              "\n",
              "          const docLinkHtml = 'Like what you see? Visit the ' +\n",
              "            '<a target=\"_blank\" href=https://colab.research.google.com/notebooks/data_table.ipynb>data table notebook</a>'\n",
              "            + ' to learn more about interactive tables.';\n",
              "          element.innerHTML = '';\n",
              "          dataTable['output_type'] = 'display_data';\n",
              "          await google.colab.output.renderOutput(dataTable, element);\n",
              "          const docLink = document.createElement('div');\n",
              "          docLink.innerHTML = docLinkHtml;\n",
              "          element.appendChild(docLink);\n",
              "        }\n",
              "      </script>\n",
              "    </div>\n",
              "  </div>\n",
              "  "
            ]
          },
          "metadata": {},
          "execution_count": 22
        }
      ]
    },
    {
      "cell_type": "code",
      "source": [
        "rating.head()\n"
      ],
      "metadata": {
        "colab": {
          "base_uri": "https://localhost:8080/",
          "height": 206
        },
        "id": "PZQKCtVoqNEv",
        "outputId": "84dd9ae0-c332-4428-d017-1833add9e279"
      },
      "execution_count": 23,
      "outputs": [
        {
          "output_type": "execute_result",
          "data": {
            "text/plain": [
              "  userID  placeID  rating  food_rating  service_rating\n",
              "0  U1077   135085       2            2               2\n",
              "1  U1077   135038       2            2               1\n",
              "2  U1077   132825       2            2               2\n",
              "3  U1077   135060       1            2               2\n",
              "4  U1068   135104       1            1               2"
            ],
            "text/html": [
              "\n",
              "  <div id=\"df-96541d29-dd36-4bbf-a531-2a4d46ebe4bc\">\n",
              "    <div class=\"colab-df-container\">\n",
              "      <div>\n",
              "<style scoped>\n",
              "    .dataframe tbody tr th:only-of-type {\n",
              "        vertical-align: middle;\n",
              "    }\n",
              "\n",
              "    .dataframe tbody tr th {\n",
              "        vertical-align: top;\n",
              "    }\n",
              "\n",
              "    .dataframe thead th {\n",
              "        text-align: right;\n",
              "    }\n",
              "</style>\n",
              "<table border=\"1\" class=\"dataframe\">\n",
              "  <thead>\n",
              "    <tr style=\"text-align: right;\">\n",
              "      <th></th>\n",
              "      <th>userID</th>\n",
              "      <th>placeID</th>\n",
              "      <th>rating</th>\n",
              "      <th>food_rating</th>\n",
              "      <th>service_rating</th>\n",
              "    </tr>\n",
              "  </thead>\n",
              "  <tbody>\n",
              "    <tr>\n",
              "      <th>0</th>\n",
              "      <td>U1077</td>\n",
              "      <td>135085</td>\n",
              "      <td>2</td>\n",
              "      <td>2</td>\n",
              "      <td>2</td>\n",
              "    </tr>\n",
              "    <tr>\n",
              "      <th>1</th>\n",
              "      <td>U1077</td>\n",
              "      <td>135038</td>\n",
              "      <td>2</td>\n",
              "      <td>2</td>\n",
              "      <td>1</td>\n",
              "    </tr>\n",
              "    <tr>\n",
              "      <th>2</th>\n",
              "      <td>U1077</td>\n",
              "      <td>132825</td>\n",
              "      <td>2</td>\n",
              "      <td>2</td>\n",
              "      <td>2</td>\n",
              "    </tr>\n",
              "    <tr>\n",
              "      <th>3</th>\n",
              "      <td>U1077</td>\n",
              "      <td>135060</td>\n",
              "      <td>1</td>\n",
              "      <td>2</td>\n",
              "      <td>2</td>\n",
              "    </tr>\n",
              "    <tr>\n",
              "      <th>4</th>\n",
              "      <td>U1068</td>\n",
              "      <td>135104</td>\n",
              "      <td>1</td>\n",
              "      <td>1</td>\n",
              "      <td>2</td>\n",
              "    </tr>\n",
              "  </tbody>\n",
              "</table>\n",
              "</div>\n",
              "      <button class=\"colab-df-convert\" onclick=\"convertToInteractive('df-96541d29-dd36-4bbf-a531-2a4d46ebe4bc')\"\n",
              "              title=\"Convert this dataframe to an interactive table.\"\n",
              "              style=\"display:none;\">\n",
              "        \n",
              "  <svg xmlns=\"http://www.w3.org/2000/svg\" height=\"24px\"viewBox=\"0 0 24 24\"\n",
              "       width=\"24px\">\n",
              "    <path d=\"M0 0h24v24H0V0z\" fill=\"none\"/>\n",
              "    <path d=\"M18.56 5.44l.94 2.06.94-2.06 2.06-.94-2.06-.94-.94-2.06-.94 2.06-2.06.94zm-11 1L8.5 8.5l.94-2.06 2.06-.94-2.06-.94L8.5 2.5l-.94 2.06-2.06.94zm10 10l.94 2.06.94-2.06 2.06-.94-2.06-.94-.94-2.06-.94 2.06-2.06.94z\"/><path d=\"M17.41 7.96l-1.37-1.37c-.4-.4-.92-.59-1.43-.59-.52 0-1.04.2-1.43.59L10.3 9.45l-7.72 7.72c-.78.78-.78 2.05 0 2.83L4 21.41c.39.39.9.59 1.41.59.51 0 1.02-.2 1.41-.59l7.78-7.78 2.81-2.81c.8-.78.8-2.07 0-2.86zM5.41 20L4 18.59l7.72-7.72 1.47 1.35L5.41 20z\"/>\n",
              "  </svg>\n",
              "      </button>\n",
              "      \n",
              "  <style>\n",
              "    .colab-df-container {\n",
              "      display:flex;\n",
              "      flex-wrap:wrap;\n",
              "      gap: 12px;\n",
              "    }\n",
              "\n",
              "    .colab-df-convert {\n",
              "      background-color: #E8F0FE;\n",
              "      border: none;\n",
              "      border-radius: 50%;\n",
              "      cursor: pointer;\n",
              "      display: none;\n",
              "      fill: #1967D2;\n",
              "      height: 32px;\n",
              "      padding: 0 0 0 0;\n",
              "      width: 32px;\n",
              "    }\n",
              "\n",
              "    .colab-df-convert:hover {\n",
              "      background-color: #E2EBFA;\n",
              "      box-shadow: 0px 1px 2px rgba(60, 64, 67, 0.3), 0px 1px 3px 1px rgba(60, 64, 67, 0.15);\n",
              "      fill: #174EA6;\n",
              "    }\n",
              "\n",
              "    [theme=dark] .colab-df-convert {\n",
              "      background-color: #3B4455;\n",
              "      fill: #D2E3FC;\n",
              "    }\n",
              "\n",
              "    [theme=dark] .colab-df-convert:hover {\n",
              "      background-color: #434B5C;\n",
              "      box-shadow: 0px 1px 3px 1px rgba(0, 0, 0, 0.15);\n",
              "      filter: drop-shadow(0px 1px 2px rgba(0, 0, 0, 0.3));\n",
              "      fill: #FFFFFF;\n",
              "    }\n",
              "  </style>\n",
              "\n",
              "      <script>\n",
              "        const buttonEl =\n",
              "          document.querySelector('#df-96541d29-dd36-4bbf-a531-2a4d46ebe4bc button.colab-df-convert');\n",
              "        buttonEl.style.display =\n",
              "          google.colab.kernel.accessAllowed ? 'block' : 'none';\n",
              "\n",
              "        async function convertToInteractive(key) {\n",
              "          const element = document.querySelector('#df-96541d29-dd36-4bbf-a531-2a4d46ebe4bc');\n",
              "          const dataTable =\n",
              "            await google.colab.kernel.invokeFunction('convertToInteractive',\n",
              "                                                     [key], {});\n",
              "          if (!dataTable) return;\n",
              "\n",
              "          const docLinkHtml = 'Like what you see? Visit the ' +\n",
              "            '<a target=\"_blank\" href=https://colab.research.google.com/notebooks/data_table.ipynb>data table notebook</a>'\n",
              "            + ' to learn more about interactive tables.';\n",
              "          element.innerHTML = '';\n",
              "          dataTable['output_type'] = 'display_data';\n",
              "          await google.colab.output.renderOutput(dataTable, element);\n",
              "          const docLink = document.createElement('div');\n",
              "          docLink.innerHTML = docLinkHtml;\n",
              "          element.appendChild(docLink);\n",
              "        }\n",
              "      </script>\n",
              "    </div>\n",
              "  </div>\n",
              "  "
            ]
          },
          "metadata": {},
          "execution_count": 23
        }
      ]
    },
    {
      "cell_type": "code",
      "source": [
        "rating.rating.value_counts().plot.bar()\n",
        "plt.xlabel('колличество рейтинга  ')\n",
        "plt.ylabel('Колличество ')"
      ],
      "metadata": {
        "colab": {
          "base_uri": "https://localhost:8080/",
          "height": 293
        },
        "id": "kZiqs4snEaQu",
        "outputId": "f48a35d2-559e-4c5b-c756-85ded1eddf98"
      },
      "execution_count": 24,
      "outputs": [
        {
          "output_type": "execute_result",
          "data": {
            "text/plain": [
              "Text(0, 0.5, 'Колличество ')"
            ]
          },
          "metadata": {},
          "execution_count": 24
        },
        {
          "output_type": "display_data",
          "data": {
            "text/plain": [
              "<Figure size 432x288 with 1 Axes>"
            ],
            "image/png": "[encoded data removed]"
          },
          "metadata": {
            "needs_background": "light"
          }
        }
      ]
    },
    {
      "cell_type": "markdown",
      "source": [
        "график Подсчета Общего рейтинга"
      ],
      "metadata": {
        "id": "NnUDTTvBEiFB"
      }
    },
    {
      "cell_type": "code",
      "source": [
        "rating.iloc[:,2:].describe()"
      ],
      "metadata": {
        "colab": {
          "base_uri": "https://localhost:8080/",
          "height": 300
        },
        "id": "KrgRDTSgqyOK",
        "outputId": "1e569db4-7f7b-46ae-b79a-43faf39fabaa"
      },
      "execution_count": 25,
      "outputs": [
        {
          "output_type": "execute_result",
          "data": {
            "text/plain": [
              "            rating  food_rating  service_rating\n",
              "count  1161.000000  1161.000000     1161.000000\n",
              "mean      1.199828     1.215332        1.090439\n",
              "std       0.773282     0.792294        0.790844\n",
              "min       0.000000     0.000000        0.000000\n",
              "25%       1.000000     1.000000        0.000000\n",
              "50%       1.000000     1.000000        1.000000\n",
              "75%       2.000000     2.000000        2.000000\n",
              "max       2.000000     2.000000        2.000000"
            ],
            "text/html": [
              "\n",
              "  <div id=\"df-00324625-4c03-4ceb-be8e-39055f78af7b\">\n",
              "    <div class=\"colab-df-container\">\n",
              "      <div>\n",
              "<style scoped>\n",
              "    .dataframe tbody tr th:only-of-type {\n",
              "        vertical-align: middle;\n",
              "    }\n",
              "\n",
              "    .dataframe tbody tr th {\n",
              "        vertical-align: top;\n",
              "    }\n",
              "\n",
              "    .dataframe thead th {\n",
              "        text-align: right;\n",
              "    }\n",
              "</style>\n",
              "<table border=\"1\" class=\"dataframe\">\n",
              "  <thead>\n",
              "    <tr style=\"text-align: right;\">\n",
              "      <th></th>\n",
              "      <th>rating</th>\n",
              "      <th>food_rating</th>\n",
              "      <th>service_rating</th>\n",
              "    </tr>\n",
              "  </thead>\n",
              "  <tbody>\n",
              "    <tr>\n",
              "      <th>count</th>\n",
              "      <td>1161.000000</td>\n",
              "      <td>1161.000000</td>\n",
              "      <td>1161.000000</td>\n",
              "    </tr>\n",
              "    <tr>\n",
              "      <th>mean</th>\n",
              "      <td>1.199828</td>\n",
              "      <td>1.215332</td>\n",
              "      <td>1.090439</td>\n",
              "    </tr>\n",
              "    <tr>\n",
              "      <th>std</th>\n",
              "      <td>0.773282</td>\n",
              "      <td>0.792294</td>\n",
              "      <td>0.790844</td>\n",
              "    </tr>\n",
              "    <tr>\n",
              "      <th>min</th>\n",
              "      <td>0.000000</td>\n",
              "      <td>0.000000</td>\n",
              "      <td>0.000000</td>\n",
              "    </tr>\n",
              "    <tr>\n",
              "      <th>25%</th>\n",
              "      <td>1.000000</td>\n",
              "      <td>1.000000</td>\n",
              "      <td>0.000000</td>\n",
              "    </tr>\n",
              "    <tr>\n",
              "      <th>50%</th>\n",
              "      <td>1.000000</td>\n",
              "      <td>1.000000</td>\n",
              "      <td>1.000000</td>\n",
              "    </tr>\n",
              "    <tr>\n",
              "      <th>75%</th>\n",
              "      <td>2.000000</td>\n",
              "      <td>2.000000</td>\n",
              "      <td>2.000000</td>\n",
              "    </tr>\n",
              "    <tr>\n",
              "      <th>max</th>\n",
              "      <td>2.000000</td>\n",
              "      <td>2.000000</td>\n",
              "      <td>2.000000</td>\n",
              "    </tr>\n",
              "  </tbody>\n",
              "</table>\n",
              "</div>\n",
              "      <button class=\"colab-df-convert\" onclick=\"convertToInteractive('df-00324625-4c03-4ceb-be8e-39055f78af7b')\"\n",
              "              title=\"Convert this dataframe to an interactive table.\"\n",
              "              style=\"display:none;\">\n",
              "        \n",
              "  <svg xmlns=\"http://www.w3.org/2000/svg\" height=\"24px\"viewBox=\"0 0 24 24\"\n",
              "       width=\"24px\">\n",
              "    <path d=\"M0 0h24v24H0V0z\" fill=\"none\"/>\n",
              "    <path d=\"M18.56 5.44l.94 2.06.94-2.06 2.06-.94-2.06-.94-.94-2.06-.94 2.06-2.06.94zm-11 1L8.5 8.5l.94-2.06 2.06-.94-2.06-.94L8.5 2.5l-.94 2.06-2.06.94zm10 10l.94 2.06.94-2.06 2.06-.94-2.06-.94-.94-2.06-.94 2.06-2.06.94z\"/><path d=\"M17.41 7.96l-1.37-1.37c-.4-.4-.92-.59-1.43-.59-.52 0-1.04.2-1.43.59L10.3 9.45l-7.72 7.72c-.78.78-.78 2.05 0 2.83L4 21.41c.39.39.9.59 1.41.59.51 0 1.02-.2 1.41-.59l7.78-7.78 2.81-2.81c.8-.78.8-2.07 0-2.86zM5.41 20L4 18.59l7.72-7.72 1.47 1.35L5.41 20z\"/>\n",
              "  </svg>\n",
              "      </button>\n",
              "      \n",
              "  <style>\n",
              "    .colab-df-container {\n",
              "      display:flex;\n",
              "      flex-wrap:wrap;\n",
              "      gap: 12px;\n",
              "    }\n",
              "\n",
              "    .colab-df-convert {\n",
              "      background-color: #E8F0FE;\n",
              "      border: none;\n",
              "      border-radius: 50%;\n",
              "      cursor: pointer;\n",
              "      display: none;\n",
              "      fill: #1967D2;\n",
              "      height: 32px;\n",
              "      padding: 0 0 0 0;\n",
              "      width: 32px;\n",
              "    }\n",
              "\n",
              "    .colab-df-convert:hover {\n",
              "      background-color: #E2EBFA;\n",
              "      box-shadow: 0px 1px 2px rgba(60, 64, 67, 0.3), 0px 1px 3px 1px rgba(60, 64, 67, 0.15);\n",
              "      fill: #174EA6;\n",
              "    }\n",
              "\n",
              "    [theme=dark] .colab-df-convert {\n",
              "      background-color: #3B4455;\n",
              "      fill: #D2E3FC;\n",
              "    }\n",
              "\n",
              "    [theme=dark] .colab-df-convert:hover {\n",
              "      background-color: #434B5C;\n",
              "      box-shadow: 0px 1px 3px 1px rgba(0, 0, 0, 0.15);\n",
              "      filter: drop-shadow(0px 1px 2px rgba(0, 0, 0, 0.3));\n",
              "      fill: #FFFFFF;\n",
              "    }\n",
              "  </style>\n",
              "\n",
              "      <script>\n",
              "        const buttonEl =\n",
              "          document.querySelector('#df-00324625-4c03-4ceb-be8e-39055f78af7b button.colab-df-convert');\n",
              "        buttonEl.style.display =\n",
              "          google.colab.kernel.accessAllowed ? 'block' : 'none';\n",
              "\n",
              "        async function convertToInteractive(key) {\n",
              "          const element = document.querySelector('#df-00324625-4c03-4ceb-be8e-39055f78af7b');\n",
              "          const dataTable =\n",
              "            await google.colab.kernel.invokeFunction('convertToInteractive',\n",
              "                                                     [key], {});\n",
              "          if (!dataTable) return;\n",
              "\n",
              "          const docLinkHtml = 'Like what you see? Visit the ' +\n",
              "            '<a target=\"_blank\" href=https://colab.research.google.com/notebooks/data_table.ipynb>data table notebook</a>'\n",
              "            + ' to learn more about interactive tables.';\n",
              "          element.innerHTML = '';\n",
              "          dataTable['output_type'] = 'display_data';\n",
              "          await google.colab.output.renderOutput(dataTable, element);\n",
              "          const docLink = document.createElement('div');\n",
              "          docLink.innerHTML = docLinkHtml;\n",
              "          element.appendChild(docLink);\n",
              "        }\n",
              "      </script>\n",
              "    </div>\n",
              "  </div>\n",
              "  "
            ]
          },
          "metadata": {},
          "execution_count": 25
        }
      ]
    },
    {
      "cell_type": "markdown",
      "source": [
        "Теперь давайте посмотрим, сколько всего ресторанов и пользователей"
      ],
      "metadata": {
        "id": "Xdz5LNk2q-gW"
      }
    },
    {
      "cell_type": "code",
      "source": [
        "res_all = np.concatenate((accepts.placeID.unique(), cuisine.placeID.unique(), \n",
        "                          hours.placeID.unique(), parking.placeID.unique(), geo.placeID.unique()))\n",
        "res_all = np.sort( np.unique(res_all) ) \n",
        "\n",
        "print(\"Всего {} ресторанов.\".format(len(res_all)))"
      ],
      "metadata": {
        "colab": {
          "base_uri": "https://localhost:8080/"
        },
        "id": "zuA4orrnrFMb",
        "outputId": "74aa1564-f52f-4a75-ec7c-046e8f6ed1d4"
      },
      "execution_count": 26,
      "outputs": [
        {
          "output_type": "stream",
          "name": "stdout",
          "text": [
            "Всего 938 ресторанов.\n"
          ]
        }
      ]
    },
    {
      "cell_type": "code",
      "source": [
        "user_all = np.concatenate((usercuisine.userID.unique(), payment.userID.unique(), \n",
        "                           profile.userID.unique()))\n",
        "user_all = np.sort( np.unique(user_all) ) \n",
        "\n",
        "print(\"Всего {} пользователей.\".format(len(user_all)))"
      ],
      "metadata": {
        "colab": {
          "base_uri": "https://localhost:8080/"
        },
        "id": "23ZO82d9rWbR",
        "outputId": "bf4e241f-793d-42d5-a848-638592b6e2bf"
      },
      "execution_count": 27,
      "outputs": [
        {
          "output_type": "stream",
          "name": "stdout",
          "text": [
            "Всего 138 пользователей.\n"
          ]
        }
      ]
    },
    {
      "cell_type": "markdown",
      "source": [
        "Теперь создвдим три фрейма данных для трех типов рейтинга, каждый из которых будет иметь форму (938, 138). Пара ресторан-пользователь без рейтинга будет записана как -1 (чтобы отличаться от 0, самый низкий рейтинг)."
      ],
      "metadata": {
        "id": "gd5HuLNHro-g"
      }
    },
    {
      "cell_type": "code",
      "source": [
        "overall_rating = pd.DataFrame( np.zeros((len(res_all),len(user_all)))-1.0, \n",
        "                              columns=user_all, index=res_all )\n",
        "food_rating = overall_rating.copy()\n",
        "service_rating = overall_rating.copy() \n",
        "\n",
        "for r, u, o, f, s in zip(rating.placeID, rating.userID, rating.rating, rating.food_rating, \n",
        "                         rating.service_rating):\n",
        "    overall_rating.loc[r,u] = o\n",
        "    food_rating.loc[r,u] = f\n",
        "    service_rating.loc[r,u] = s"
      ],
      "metadata": {
        "id": "7TTuI7P_rzGR"
      },
      "execution_count": 28,
      "outputs": []
    },
    {
      "cell_type": "markdown",
      "source": [
        "Следующий фрейм данных сообщает нам, имеет ли пара ресторан-пользователь рейтинг. 0 - \"Нет\", а 1 - \"Да\""
      ],
      "metadata": {
        "id": "CgtYy8xFr8Un"
      }
    },
    {
      "cell_type": "code",
      "source": [
        "review = pd.DataFrame( np.zeros(overall_rating.shape), columns=user_all, index=res_all)\n",
        "review[overall_rating >= 0] = 1"
      ],
      "metadata": {
        "id": "1bP1Rx8psDiE"
      },
      "execution_count": 29,
      "outputs": []
    },
    {
      "cell_type": "markdown",
      "source": [
        "Объединим информацию о ресторанах и создам фрейм данных для их функций. И пока пропустим \"accepts\" и \"hours\", потому что они не должны быть важны для моделирования"
      ],
      "metadata": {
        "id": "qcSiF0YNsPus"
      }
    },
    {
      "cell_type": "markdown",
      "source": [
        " удалим дубликаты идентификаторов ресторанов. \n",
        " Ресторан с несколькими категориями кухни будет иметь несколько столбцов, равных 1"
      ],
      "metadata": {
        "id": "wxnhpVRdLw9Y"
      }
    },
    {
      "cell_type": "code",
      "source": [
        "\n",
        "res_cuisine = pd.get_dummies(cuisine,columns=['Rcuisine'])\n",
        "\n",
        "\n",
        "res_cuisine = res_cuisine.groupby('placeID',as_index=False).sum()\n",
        "\n",
        "res_cuisine.head()"
      ],
      "metadata": {
        "colab": {
          "base_uri": "https://localhost:8080/",
          "height": 300
        },
        "id": "3UN8pV_jskAB",
        "outputId": "00a3490e-5737-4ecb-aef9-2801d4c3dbd5"
      },
      "execution_count": 30,
      "outputs": [
        {
          "output_type": "execute_result",
          "data": {
            "text/plain": [
              "   placeID  Rcuisine_Afghan  Rcuisine_African  Rcuisine_American  \\\n",
              "0   132001                0                 0                  0   \n",
              "1   132002                0                 0                  0   \n",
              "2   132003                0                 0                  0   \n",
              "3   132004                0                 0                  0   \n",
              "4   132005                0                 0                  0   \n",
              "\n",
              "   Rcuisine_Armenian  Rcuisine_Asian  Rcuisine_Bagels  Rcuisine_Bakery  \\\n",
              "0                  0               0                0                0   \n",
              "1                  0               0                0                0   \n",
              "2                  0               0                0                0   \n",
              "3                  0               0                0                0   \n",
              "4                  0               0                0                0   \n",
              "\n",
              "   Rcuisine_Bar  Rcuisine_Bar_Pub_Brewery  ...  Rcuisine_Soup  \\\n",
              "0             0                         0  ...              0   \n",
              "1             0                         0  ...              0   \n",
              "2             0                         0  ...              0   \n",
              "3             0                         0  ...              0   \n",
              "4             0                         0  ...              0   \n",
              "\n",
              "   Rcuisine_Southern  Rcuisine_Southwestern  Rcuisine_Spanish  \\\n",
              "0                  0                      0                 0   \n",
              "1                  0                      0                 0   \n",
              "2                  0                      0                 0   \n",
              "3                  0                      0                 0   \n",
              "4                  0                      0                 0   \n",
              "\n",
              "   Rcuisine_Steaks  Rcuisine_Sushi  Rcuisine_Thai  Rcuisine_Turkish  \\\n",
              "0                0               0              0                 0   \n",
              "1                0               0              0                 0   \n",
              "2                0               0              0                 0   \n",
              "3                0               0              0                 0   \n",
              "4                0               0              0                 0   \n",
              "\n",
              "   Rcuisine_Vegetarian  Rcuisine_Vietnamese  \n",
              "0                    0                    0  \n",
              "1                    0                    0  \n",
              "2                    0                    0  \n",
              "3                    0                    0  \n",
              "4                    0                    0  \n",
              "\n",
              "[5 rows x 60 columns]"
            ],
            "text/html": [
              "\n",
              "  <div id=\"df-1d8b8bc4-cca1-482f-97c0-5fc6c6a859cb\">\n",
              "    <div class=\"colab-df-container\">\n",
              "      <div>\n",
              "<style scoped>\n",
              "    .dataframe tbody tr th:only-of-type {\n",
              "        vertical-align: middle;\n",
              "    }\n",
              "\n",
              "    .dataframe tbody tr th {\n",
              "        vertical-align: top;\n",
              "    }\n",
              "\n",
              "    .dataframe thead th {\n",
              "        text-align: right;\n",
              "    }\n",
              "</style>\n",
              "<table border=\"1\" class=\"dataframe\">\n",
              "  <thead>\n",
              "    <tr style=\"text-align: right;\">\n",
              "      <th></th>\n",
              "      <th>placeID</th>\n",
              "      <th>Rcuisine_Afghan</th>\n",
              "      <th>Rcuisine_African</th>\n",
              "      <th>Rcuisine_American</th>\n",
              "      <th>Rcuisine_Armenian</th>\n",
              "      <th>Rcuisine_Asian</th>\n",
              "      <th>Rcuisine_Bagels</th>\n",
              "      <th>Rcuisine_Bakery</th>\n",
              "      <th>Rcuisine_Bar</th>\n",
              "      <th>Rcuisine_Bar_Pub_Brewery</th>\n",
              "      <th>...</th>\n",
              "      <th>Rcuisine_Soup</th>\n",
              "      <th>Rcuisine_Southern</th>\n",
              "      <th>Rcuisine_Southwestern</th>\n",
              "      <th>Rcuisine_Spanish</th>\n",
              "      <th>Rcuisine_Steaks</th>\n",
              "      <th>Rcuisine_Sushi</th>\n",
              "      <th>Rcuisine_Thai</th>\n",
              "      <th>Rcuisine_Turkish</th>\n",
              "      <th>Rcuisine_Vegetarian</th>\n",
              "      <th>Rcuisine_Vietnamese</th>\n",
              "    </tr>\n",
              "  </thead>\n",
              "  <tbody>\n",
              "    <tr>\n",
              "      <th>0</th>\n",
              "      <td>132001</td>\n",
              "      <td>0</td>\n",
              "      <td>0</td>\n",
              "      <td>0</td>\n",
              "      <td>0</td>\n",
              "      <td>0</td>\n",
              "      <td>0</td>\n",
              "      <td>0</td>\n",
              "      <td>0</td>\n",
              "      <td>0</td>\n",
              "      <td>...</td>\n",
              "      <td>0</td>\n",
              "      <td>0</td>\n",
              "      <td>0</td>\n",
              "      <td>0</td>\n",
              "      <td>0</td>\n",
              "      <td>0</td>\n",
              "      <td>0</td>\n",
              "      <td>0</td>\n",
              "      <td>0</td>\n",
              "      <td>0</td>\n",
              "    </tr>\n",
              "    <tr>\n",
              "      <th>1</th>\n",
              "      <td>132002</td>\n",
              "      <td>0</td>\n",
              "      <td>0</td>\n",
              "      <td>0</td>\n",
              "      <td>0</td>\n",
              "      <td>0</td>\n",
              "      <td>0</td>\n",
              "      <td>0</td>\n",
              "      <td>0</td>\n",
              "      <td>0</td>\n",
              "      <td>...</td>\n",
              "      <td>0</td>\n",
              "      <td>0</td>\n",
              "      <td>0</td>\n",
              "      <td>0</td>\n",
              "      <td>0</td>\n",
              "      <td>0</td>\n",
              "      <td>0</td>\n",
              "      <td>0</td>\n",
              "      <td>0</td>\n",
              "      <td>0</td>\n",
              "    </tr>\n",
              "    <tr>\n",
              "      <th>2</th>\n",
              "      <td>132003</td>\n",
              "      <td>0</td>\n",
              "      <td>0</td>\n",
              "      <td>0</td>\n",
              "      <td>0</td>\n",
              "      <td>0</td>\n",
              "      <td>0</td>\n",
              "      <td>0</td>\n",
              "      <td>0</td>\n",
              "      <td>0</td>\n",
              "      <td>...</td>\n",
              "      <td>0</td>\n",
              "      <td>0</td>\n",
              "      <td>0</td>\n",
              "      <td>0</td>\n",
              "      <td>0</td>\n",
              "      <td>0</td>\n",
              "      <td>0</td>\n",
              "      <td>0</td>\n",
              "      <td>0</td>\n",
              "      <td>0</td>\n",
              "    </tr>\n",
              "    <tr>\n",
              "      <th>3</th>\n",
              "      <td>132004</td>\n",
              "      <td>0</td>\n",
              "      <td>0</td>\n",
              "      <td>0</td>\n",
              "      <td>0</td>\n",
              "      <td>0</td>\n",
              "      <td>0</td>\n",
              "      <td>0</td>\n",
              "      <td>0</td>\n",
              "      <td>0</td>\n",
              "      <td>...</td>\n",
              "      <td>0</td>\n",
              "      <td>0</td>\n",
              "      <td>0</td>\n",
              "      <td>0</td>\n",
              "      <td>0</td>\n",
              "      <td>0</td>\n",
              "      <td>0</td>\n",
              "      <td>0</td>\n",
              "      <td>0</td>\n",
              "      <td>0</td>\n",
              "    </tr>\n",
              "    <tr>\n",
              "      <th>4</th>\n",
              "      <td>132005</td>\n",
              "      <td>0</td>\n",
              "      <td>0</td>\n",
              "      <td>0</td>\n",
              "      <td>0</td>\n",
              "      <td>0</td>\n",
              "      <td>0</td>\n",
              "      <td>0</td>\n",
              "      <td>0</td>\n",
              "      <td>0</td>\n",
              "      <td>...</td>\n",
              "      <td>0</td>\n",
              "      <td>0</td>\n",
              "      <td>0</td>\n",
              "      <td>0</td>\n",
              "      <td>0</td>\n",
              "      <td>0</td>\n",
              "      <td>0</td>\n",
              "      <td>0</td>\n",
              "      <td>0</td>\n",
              "      <td>0</td>\n",
              "    </tr>\n",
              "  </tbody>\n",
              "</table>\n",
              "<p>5 rows × 60 columns</p>\n",
              "</div>\n",
              "      <button class=\"colab-df-convert\" onclick=\"convertToInteractive('df-1d8b8bc4-cca1-482f-97c0-5fc6c6a859cb')\"\n",
              "              title=\"Convert this dataframe to an interactive table.\"\n",
              "              style=\"display:none;\">\n",
              "        \n",
              "  <svg xmlns=\"http://www.w3.org/2000/svg\" height=\"24px\"viewBox=\"0 0 24 24\"\n",
              "       width=\"24px\">\n",
              "    <path d=\"M0 0h24v24H0V0z\" fill=\"none\"/>\n",
              "    <path d=\"M18.56 5.44l.94 2.06.94-2.06 2.06-.94-2.06-.94-.94-2.06-.94 2.06-2.06.94zm-11 1L8.5 8.5l.94-2.06 2.06-.94-2.06-.94L8.5 2.5l-.94 2.06-2.06.94zm10 10l.94 2.06.94-2.06 2.06-.94-2.06-.94-.94-2.06-.94 2.06-2.06.94z\"/><path d=\"M17.41 7.96l-1.37-1.37c-.4-.4-.92-.59-1.43-.59-.52 0-1.04.2-1.43.59L10.3 9.45l-7.72 7.72c-.78.78-.78 2.05 0 2.83L4 21.41c.39.39.9.59 1.41.59.51 0 1.02-.2 1.41-.59l7.78-7.78 2.81-2.81c.8-.78.8-2.07 0-2.86zM5.41 20L4 18.59l7.72-7.72 1.47 1.35L5.41 20z\"/>\n",
              "  </svg>\n",
              "      </button>\n",
              "      \n",
              "  <style>\n",
              "    .colab-df-container {\n",
              "      display:flex;\n",
              "      flex-wrap:wrap;\n",
              "      gap: 12px;\n",
              "    }\n",
              "\n",
              "    .colab-df-convert {\n",
              "      background-color: #E8F0FE;\n",
              "      border: none;\n",
              "      border-radius: 50%;\n",
              "      cursor: pointer;\n",
              "      display: none;\n",
              "      fill: #1967D2;\n",
              "      height: 32px;\n",
              "      padding: 0 0 0 0;\n",
              "      width: 32px;\n",
              "    }\n",
              "\n",
              "    .colab-df-convert:hover {\n",
              "      background-color: #E2EBFA;\n",
              "      box-shadow: 0px 1px 2px rgba(60, 64, 67, 0.3), 0px 1px 3px 1px rgba(60, 64, 67, 0.15);\n",
              "      fill: #174EA6;\n",
              "    }\n",
              "\n",
              "    [theme=dark] .colab-df-convert {\n",
              "      background-color: #3B4455;\n",
              "      fill: #D2E3FC;\n",
              "    }\n",
              "\n",
              "    [theme=dark] .colab-df-convert:hover {\n",
              "      background-color: #434B5C;\n",
              "      box-shadow: 0px 1px 3px 1px rgba(0, 0, 0, 0.15);\n",
              "      filter: drop-shadow(0px 1px 2px rgba(0, 0, 0, 0.3));\n",
              "      fill: #FFFFFF;\n",
              "    }\n",
              "  </style>\n",
              "\n",
              "      <script>\n",
              "        const buttonEl =\n",
              "          document.querySelector('#df-1d8b8bc4-cca1-482f-97c0-5fc6c6a859cb button.colab-df-convert');\n",
              "        buttonEl.style.display =\n",
              "          google.colab.kernel.accessAllowed ? 'block' : 'none';\n",
              "\n",
              "        async function convertToInteractive(key) {\n",
              "          const element = document.querySelector('#df-1d8b8bc4-cca1-482f-97c0-5fc6c6a859cb');\n",
              "          const dataTable =\n",
              "            await google.colab.kernel.invokeFunction('convertToInteractive',\n",
              "                                                     [key], {});\n",
              "          if (!dataTable) return;\n",
              "\n",
              "          const docLinkHtml = 'Like what you see? Visit the ' +\n",
              "            '<a target=\"_blank\" href=https://colab.research.google.com/notebooks/data_table.ipynb>data table notebook</a>'\n",
              "            + ' to learn more about interactive tables.';\n",
              "          element.innerHTML = '';\n",
              "          dataTable['output_type'] = 'display_data';\n",
              "          await google.colab.output.renderOutput(dataTable, element);\n",
              "          const docLink = document.createElement('div');\n",
              "          docLink.innerHTML = docLinkHtml;\n",
              "          element.appendChild(docLink);\n",
              "        }\n",
              "      </script>\n",
              "    </div>\n",
              "  </div>\n",
              "  "
            ]
          },
          "metadata": {},
          "execution_count": 30
        }
      ]
    },
    {
      "cell_type": "markdown",
      "source": [
        "Для человека, у которого есть автомобиль, имеет значение, есть ли в ресторане парковка, и это может повлиять на то, какую оценку он / она даст. Здесь группируем исходные варианты парковки только по трем категориям (от лучшего к худшему): бесплатная парковка ресторана (2 балла), другие виды парковки (1 балл) и отсутствие парковки (0 баллов)"
      ],
      "metadata": {
        "id": "Onw4rkdLtAuq"
      }
    },
    {
      "cell_type": "code",
      "source": [
        "parking.parking_lot.value_counts()"
      ],
      "metadata": {
        "colab": {
          "base_uri": "https://localhost:8080/"
        },
        "id": "OhHyfgWFtGzI",
        "outputId": "a8783920-fbb4-49da-974b-aeade4ae711e"
      },
      "execution_count": 31,
      "outputs": [
        {
          "output_type": "execute_result",
          "data": {
            "text/plain": [
              "none                 348\n",
              "yes                  174\n",
              "public               102\n",
              "street                32\n",
              "fee                   22\n",
              "valet parking         21\n",
              "validated parking      3\n",
              "Name: parking_lot, dtype: int64"
            ]
          },
          "metadata": {},
          "execution_count": 31
        }
      ]
    },
    {
      "cell_type": "markdown",
      "source": [
        "удалим дубликаты идентификаторов ресторана. \n",
        " Ресторан с несколькими вариантами парковки может иметь значение > 2"
      ],
      "metadata": {
        "id": "ltMNCWd5EpuL"
      }
    },
    {
      "cell_type": "code",
      "source": [
        "res_parking = parking.copy()\n",
        "res_parking.parking_lot = res_parking.parking_lot.map({'fee':1, 'none':0, 'public':1, 'yes':2,\n",
        "                                        'street':1, 'valet parking':1, 'validated parking':1})\n",
        "\n",
        "\n",
        "res_parking = res_parking.groupby('placeID',as_index=False).sum()"
      ],
      "metadata": {
        "id": "KzAZa7CFtL7S"
      },
      "execution_count": 32,
      "outputs": []
    },
    {
      "cell_type": "markdown",
      "source": [
        "Местоположения полезны при составлении рекомендаций, поэтому я сохраняю их во фрейме данных \"res_info\"."
      ],
      "metadata": {
        "id": "aaEv-VxIteMe"
      }
    },
    {
      "cell_type": "markdown",
      "source": [
        " Эти функции должны иметь отношение к прогнозированию рейтинга, поскольку они касаются услуг \n",
        "и цена. В частности, \"alcohol\", \"smoking_area\" и \"price\" относятся к \"drink_level\", \n",
        "\"smoker\" и \"budget\" в профилях пользователей "
      ],
      "metadata": {
        "id": "Y-Qz7vKFExDM"
      }
    },
    {
      "cell_type": "code",
      "source": [
        "res_info = geo[['latitude','longitude','placeID','name','address','city','state']]\n",
        "\n",
        "\n",
        "res_service_price = geo[['placeID','alcohol','smoking_area','other_services','price']]\n",
        "print(res_service_price.alcohol.value_counts())\n",
        "print('\\n')\n",
        "print(res_service_price.smoking_area.value_counts())\n",
        "print('\\n')\n",
        "print(res_service_price.other_services.value_counts())\n",
        "print('\\n')\n",
        "print(res_service_price.price.value_counts())"
      ],
      "metadata": {
        "colab": {
          "base_uri": "https://localhost:8080/"
        },
        "id": "UGpu3KP_t78W",
        "outputId": "b4763b51-1768-47df-d7c4-8833c8283d42"
      },
      "execution_count": 33,
      "outputs": [
        {
          "output_type": "stream",
          "name": "stdout",
          "text": [
            "No_Alcohol_Served    87\n",
            "Wine-Beer            34\n",
            "Full_Bar              9\n",
            "Name: alcohol, dtype: int64\n",
            "\n",
            "\n",
            "none             70\n",
            "not permitted    25\n",
            "section          24\n",
            "permitted         9\n",
            "only at bar       2\n",
            "Name: smoking_area, dtype: int64\n",
            "\n",
            "\n",
            "none        119\n",
            "variety       7\n",
            "Internet      4\n",
            "Name: other_services, dtype: int64\n",
            "\n",
            "\n",
            "medium    60\n",
            "low       45\n",
            "high      25\n",
            "Name: price, dtype: int64\n"
          ]
        }
      ]
    },
    {
      "cell_type": "markdown",
      "source": [
        " 1, если алкоголь доступен, 0 в противном случае"
      ],
      "metadata": {
        "id": "VRyI6L5IE1pc"
      }
    },
    {
      "cell_type": "code",
      "source": [
        "\n",
        "res_service_price.alcohol = res_service_price.alcohol.map(lambda x: 0 if x == 'No_Alcohol_Served' else 1)"
      ],
      "metadata": {
        "colab": {
          "base_uri": "https://localhost:8080/"
        },
        "id": "9h4pLC6pE4RZ",
        "outputId": "954f0017-ee76-446d-8147-841d14aae25c"
      },
      "execution_count": 34,
      "outputs": [
        {
          "output_type": "stream",
          "name": "stderr",
          "text": [
            "/usr/local/lib/python3.7/dist-packages/pandas/core/generic.py:5516: SettingWithCopyWarning: \n",
            "A value is trying to be set on a copy of a slice from a DataFrame.\n",
            "Try using .loc[row_indexer,col_indexer] = value instead\n",
            "\n",
            "See the caveats in the documentation: https://pandas.pydata.org/pandas-docs/stable/user_guide/indexing.html#returning-a-view-versus-a-copy\n",
            "  self[name] = value\n"
          ]
        }
      ]
    },
    {
      "cell_type": "markdown",
      "source": [
        " 1, если есть место для курения, 0 в противном случае"
      ],
      "metadata": {
        "id": "OoymikBCE63A"
      }
    },
    {
      "cell_type": "code",
      "source": [
        "res_service_price.smoking_area = res_service_price.smoking_area.map(lambda x: 0 if (x == 'none') | (x == 'not permitted') else 1)"
      ],
      "metadata": {
        "colab": {
          "base_uri": "https://localhost:8080/"
        },
        "id": "LSVJNBWUFAoo",
        "outputId": "444c7095-4ced-4873-862f-f29a95d1f318"
      },
      "execution_count": 35,
      "outputs": [
        {
          "output_type": "stream",
          "name": "stderr",
          "text": [
            "/usr/local/lib/python3.7/dist-packages/pandas/core/generic.py:5516: SettingWithCopyWarning: \n",
            "A value is trying to be set on a copy of a slice from a DataFrame.\n",
            "Try using .loc[row_indexer,col_indexer] = value instead\n",
            "\n",
            "See the caveats in the documentation: https://pandas.pydata.org/pandas-docs/stable/user_guide/indexing.html#returning-a-view-versus-a-copy\n",
            "  self[name] = value\n"
          ]
        }
      ]
    },
    {
      "cell_type": "markdown",
      "source": [
        " 1, если доступны другие услуги, 0 в противном случае"
      ],
      "metadata": {
        "id": "RrIb2idNFDMK"
      }
    },
    {
      "cell_type": "code",
      "source": [
        "res_service_price.other_services = res_service_price.other_services.map(lambda x: 0 if x == 'none'  else 1)"
      ],
      "metadata": {
        "colab": {
          "base_uri": "https://localhost:8080/"
        },
        "id": "Hf7Z754JFE-A",
        "outputId": "284e7f45-7987-49f2-ddca-7a0e6174069c"
      },
      "execution_count": 36,
      "outputs": [
        {
          "output_type": "stream",
          "name": "stderr",
          "text": [
            "/usr/local/lib/python3.7/dist-packages/pandas/core/generic.py:5516: SettingWithCopyWarning: \n",
            "A value is trying to be set on a copy of a slice from a DataFrame.\n",
            "Try using .loc[row_indexer,col_indexer] = value instead\n",
            "\n",
            "See the caveats in the documentation: https://pandas.pydata.org/pandas-docs/stable/user_guide/indexing.html#returning-a-view-versus-a-copy\n",
            "  self[name] = value\n"
          ]
        }
      ]
    },
    {
      "cell_type": "markdown",
      "source": [
        " сопоставление уровней цен с цифрами"
      ],
      "metadata": {
        "id": "NUbjkkMQFIbS"
      }
    },
    {
      "cell_type": "code",
      "source": [
        "res_service_price.price = res_service_price.price.map({'low': 1, 'medium': 2, 'high': 3})"
      ],
      "metadata": {
        "colab": {
          "base_uri": "https://localhost:8080/"
        },
        "id": "M0dAX1Eeuonq",
        "outputId": "d673845c-64e1-4735-da18-a4acd69b18d2"
      },
      "execution_count": 37,
      "outputs": [
        {
          "output_type": "stream",
          "name": "stderr",
          "text": [
            "/usr/local/lib/python3.7/dist-packages/pandas/core/generic.py:5516: SettingWithCopyWarning: \n",
            "A value is trying to be set on a copy of a slice from a DataFrame.\n",
            "Try using .loc[row_indexer,col_indexer] = value instead\n",
            "\n",
            "See the caveats in the documentation: https://pandas.pydata.org/pandas-docs/stable/user_guide/indexing.html#returning-a-view-versus-a-copy\n",
            "  self[name] = value\n"
          ]
        }
      ]
    },
    {
      "cell_type": "code",
      "source": [
        "\n",
        "res_environment = geo[['placeID','dress_code','accessibility','Rambience','area']]\n",
        "print(res_environment.dress_code.value_counts())\n",
        "print('\\n')\n",
        "print(res_environment.accessibility.value_counts())\n",
        "print('\\n')\n",
        "print(res_environment.Rambience.value_counts())\n",
        "print('\\n')\n",
        "print(res_environment.area.value_counts())"
      ],
      "metadata": {
        "colab": {
          "base_uri": "https://localhost:8080/"
        },
        "id": "HQka0nIGvP1b",
        "outputId": "3bd710f7-fe5d-4b8f-ad82-4ca6fa697416"
      },
      "execution_count": 38,
      "outputs": [
        {
          "output_type": "stream",
          "name": "stdout",
          "text": [
            "informal    118\n",
            "casual       10\n",
            "formal        2\n",
            "Name: dress_code, dtype: int64\n",
            "\n",
            "\n",
            "no_accessibility    76\n",
            "completely          45\n",
            "partially            9\n",
            "Name: accessibility, dtype: int64\n",
            "\n",
            "\n",
            "familiar    121\n",
            "quiet         9\n",
            "Name: Rambience, dtype: int64\n",
            "\n",
            "\n",
            "closed    115\n",
            "open       15\n",
            "Name: area, dtype: int64\n"
          ]
        }
      ]
    },
    {
      "cell_type": "markdown",
      "source": [
        "1, если требуется официальная одежда, 0 в противном случае"
      ],
      "metadata": {
        "id": "9U3b3Un_FO_c"
      }
    },
    {
      "cell_type": "code",
      "source": [
        "res_environment.dress_code = res_environment.dress_code.map({'informal':0, 'casual':0, 'formal': 1})"
      ],
      "metadata": {
        "colab": {
          "base_uri": "https://localhost:8080/"
        },
        "id": "nt4qR26HFOdW",
        "outputId": "94c4f03d-b984-4748-9380-09b5e08ca5f0"
      },
      "execution_count": 39,
      "outputs": [
        {
          "output_type": "stream",
          "name": "stderr",
          "text": [
            "/usr/local/lib/python3.7/dist-packages/pandas/core/generic.py:5516: SettingWithCopyWarning: \n",
            "A value is trying to be set on a copy of a slice from a DataFrame.\n",
            "Try using .loc[row_indexer,col_indexer] = value instead\n",
            "\n",
            "See the caveats in the documentation: https://pandas.pydata.org/pandas-docs/stable/user_guide/indexing.html#returning-a-view-versus-a-copy\n",
            "  self[name] = value\n"
          ]
        }
      ]
    },
    {
      "cell_type": "markdown",
      "source": [
        "сопоставим уровни доступности с числами"
      ],
      "metadata": {
        "id": "45FYrPszFVqT"
      }
    },
    {
      "cell_type": "code",
      "source": [
        "res_environment.accessibility = res_environment.accessibility.map({'no_accessibility':0, 'partially':1, 'completely': 2})\n",
        "res_environment.Rambience = res_environment.Rambience.map({'familiar':0, 'quiet': 1})\n",
        "res_environment.area = res_environment.area.map({'open':0, 'closed':1})"
      ],
      "metadata": {
        "colab": {
          "base_uri": "https://localhost:8080/"
        },
        "id": "1YEmTh-IvnWG",
        "outputId": "70b76689-fa6e-4ed9-f422-72ca73ba05d8"
      },
      "execution_count": 40,
      "outputs": [
        {
          "output_type": "stream",
          "name": "stderr",
          "text": [
            "/usr/local/lib/python3.7/dist-packages/pandas/core/generic.py:5516: SettingWithCopyWarning: \n",
            "A value is trying to be set on a copy of a slice from a DataFrame.\n",
            "Try using .loc[row_indexer,col_indexer] = value instead\n",
            "\n",
            "See the caveats in the documentation: https://pandas.pydata.org/pandas-docs/stable/user_guide/indexing.html#returning-a-view-versus-a-copy\n",
            "  self[name] = value\n"
          ]
        }
      ]
    },
    {
      "cell_type": "markdown",
      "source": [
        "\n",
        "Теперь объединим информацию о ресторане в один фрейм данных"
      ],
      "metadata": {
        "id": "uADBY7Y5wGb5"
      }
    },
    {
      "cell_type": "code",
      "source": [
        "df_res = pd.DataFrame({'placeID': res_all})\n",
        "df_res = pd.merge(left=df_res, right=res_cuisine, how=\"left\", on=\"placeID\")\n",
        "df_res = pd.merge(left=df_res, right=res_parking, how=\"left\", on=\"placeID\")\n",
        "df_res = pd.merge(left=df_res, right=res_service_price, how=\"left\", on=\"placeID\")\n",
        "df_res = pd.merge(left=df_res, right=res_environment, how=\"left\", on=\"placeID\")\n",
        "\n",
        "print(df_res.shape)\n",
        "df_res.head()"
      ],
      "metadata": {
        "colab": {
          "base_uri": "https://localhost:8080/",
          "height": 317
        },
        "id": "u5VfPpkawAMb",
        "outputId": "918235cf-b3a2-4b7b-90f8-f308d494beb6"
      },
      "execution_count": 41,
      "outputs": [
        {
          "output_type": "stream",
          "name": "stdout",
          "text": [
            "(938, 69)\n"
          ]
        },
        {
          "output_type": "execute_result",
          "data": {
            "text/plain": [
              "   placeID  Rcuisine_Afghan  Rcuisine_African  Rcuisine_American  \\\n",
              "0   132001              0.0               0.0                0.0   \n",
              "1   132002              0.0               0.0                0.0   \n",
              "2   132003              0.0               0.0                0.0   \n",
              "3   132004              0.0               0.0                0.0   \n",
              "4   132005              0.0               0.0                0.0   \n",
              "\n",
              "   Rcuisine_Armenian  Rcuisine_Asian  Rcuisine_Bagels  Rcuisine_Bakery  \\\n",
              "0                0.0             0.0              0.0              0.0   \n",
              "1                0.0             0.0              0.0              0.0   \n",
              "2                0.0             0.0              0.0              0.0   \n",
              "3                0.0             0.0              0.0              0.0   \n",
              "4                0.0             0.0              0.0              0.0   \n",
              "\n",
              "   Rcuisine_Bar  Rcuisine_Bar_Pub_Brewery  ...  Rcuisine_Vietnamese  \\\n",
              "0           0.0                       0.0  ...                  0.0   \n",
              "1           0.0                       0.0  ...                  0.0   \n",
              "2           0.0                       0.0  ...                  0.0   \n",
              "3           0.0                       0.0  ...                  0.0   \n",
              "4           0.0                       0.0  ...                  0.0   \n",
              "\n",
              "   parking_lot  alcohol  smoking_area  other_services  price  dress_code  \\\n",
              "0          NaN      NaN           NaN             NaN    NaN         NaN   \n",
              "1          NaN      NaN           NaN             NaN    NaN         NaN   \n",
              "2          NaN      NaN           NaN             NaN    NaN         NaN   \n",
              "3          NaN      NaN           NaN             NaN    NaN         NaN   \n",
              "4          NaN      NaN           NaN             NaN    NaN         NaN   \n",
              "\n",
              "   accessibility  Rambience  area  \n",
              "0            NaN        NaN   NaN  \n",
              "1            NaN        NaN   NaN  \n",
              "2            NaN        NaN   NaN  \n",
              "3            NaN        NaN   NaN  \n",
              "4            NaN        NaN   NaN  \n",
              "\n",
              "[5 rows x 69 columns]"
            ],
            "text/html": [
              "\n",
              "  <div id=\"df-9e3f1786-1c9d-4d30-9110-e7278865d955\">\n",
              "    <div class=\"colab-df-container\">\n",
              "      <div>\n",
              "<style scoped>\n",
              "    .dataframe tbody tr th:only-of-type {\n",
              "        vertical-align: middle;\n",
              "    }\n",
              "\n",
              "    .dataframe tbody tr th {\n",
              "        vertical-align: top;\n",
              "    }\n",
              "\n",
              "    .dataframe thead th {\n",
              "        text-align: right;\n",
              "    }\n",
              "</style>\n",
              "<table border=\"1\" class=\"dataframe\">\n",
              "  <thead>\n",
              "    <tr style=\"text-align: right;\">\n",
              "      <th></th>\n",
              "      <th>placeID</th>\n",
              "      <th>Rcuisine_Afghan</th>\n",
              "      <th>Rcuisine_African</th>\n",
              "      <th>Rcuisine_American</th>\n",
              "      <th>Rcuisine_Armenian</th>\n",
              "      <th>Rcuisine_Asian</th>\n",
              "      <th>Rcuisine_Bagels</th>\n",
              "      <th>Rcuisine_Bakery</th>\n",
              "      <th>Rcuisine_Bar</th>\n",
              "      <th>Rcuisine_Bar_Pub_Brewery</th>\n",
              "      <th>...</th>\n",
              "      <th>Rcuisine_Vietnamese</th>\n",
              "      <th>parking_lot</th>\n",
              "      <th>alcohol</th>\n",
              "      <th>smoking_area</th>\n",
              "      <th>other_services</th>\n",
              "      <th>price</th>\n",
              "      <th>dress_code</th>\n",
              "      <th>accessibility</th>\n",
              "      <th>Rambience</th>\n",
              "      <th>area</th>\n",
              "    </tr>\n",
              "  </thead>\n",
              "  <tbody>\n",
              "    <tr>\n",
              "      <th>0</th>\n",
              "      <td>132001</td>\n",
              "      <td>0.0</td>\n",
              "      <td>0.0</td>\n",
              "      <td>0.0</td>\n",
              "      <td>0.0</td>\n",
              "      <td>0.0</td>\n",
              "      <td>0.0</td>\n",
              "      <td>0.0</td>\n",
              "      <td>0.0</td>\n",
              "      <td>0.0</td>\n",
              "      <td>...</td>\n",
              "      <td>0.0</td>\n",
              "      <td>NaN</td>\n",
              "      <td>NaN</td>\n",
              "      <td>NaN</td>\n",
              "      <td>NaN</td>\n",
              "      <td>NaN</td>\n",
              "      <td>NaN</td>\n",
              "      <td>NaN</td>\n",
              "      <td>NaN</td>\n",
              "      <td>NaN</td>\n",
              "    </tr>\n",
              "    <tr>\n",
              "      <th>1</th>\n",
              "      <td>132002</td>\n",
              "      <td>0.0</td>\n",
              "      <td>0.0</td>\n",
              "      <td>0.0</td>\n",
              "      <td>0.0</td>\n",
              "      <td>0.0</td>\n",
              "      <td>0.0</td>\n",
              "      <td>0.0</td>\n",
              "      <td>0.0</td>\n",
              "      <td>0.0</td>\n",
              "      <td>...</td>\n",
              "      <td>0.0</td>\n",
              "      <td>NaN</td>\n",
              "      <td>NaN</td>\n",
              "      <td>NaN</td>\n",
              "      <td>NaN</td>\n",
              "      <td>NaN</td>\n",
              "      <td>NaN</td>\n",
              "      <td>NaN</td>\n",
              "      <td>NaN</td>\n",
              "      <td>NaN</td>\n",
              "    </tr>\n",
              "    <tr>\n",
              "      <th>2</th>\n",
              "      <td>132003</td>\n",
              "      <td>0.0</td>\n",
              "      <td>0.0</td>\n",
              "      <td>0.0</td>\n",
              "      <td>0.0</td>\n",
              "      <td>0.0</td>\n",
              "      <td>0.0</td>\n",
              "      <td>0.0</td>\n",
              "      <td>0.0</td>\n",
              "      <td>0.0</td>\n",
              "      <td>...</td>\n",
              "      <td>0.0</td>\n",
              "      <td>NaN</td>\n",
              "      <td>NaN</td>\n",
              "      <td>NaN</td>\n",
              "      <td>NaN</td>\n",
              "      <td>NaN</td>\n",
              "      <td>NaN</td>\n",
              "      <td>NaN</td>\n",
              "      <td>NaN</td>\n",
              "      <td>NaN</td>\n",
              "    </tr>\n",
              "    <tr>\n",
              "      <th>3</th>\n",
              "      <td>132004</td>\n",
              "      <td>0.0</td>\n",
              "      <td>0.0</td>\n",
              "      <td>0.0</td>\n",
              "      <td>0.0</td>\n",
              "      <td>0.0</td>\n",
              "      <td>0.0</td>\n",
              "      <td>0.0</td>\n",
              "      <td>0.0</td>\n",
              "      <td>0.0</td>\n",
              "      <td>...</td>\n",
              "      <td>0.0</td>\n",
              "      <td>NaN</td>\n",
              "      <td>NaN</td>\n",
              "      <td>NaN</td>\n",
              "      <td>NaN</td>\n",
              "      <td>NaN</td>\n",
              "      <td>NaN</td>\n",
              "      <td>NaN</td>\n",
              "      <td>NaN</td>\n",
              "      <td>NaN</td>\n",
              "    </tr>\n",
              "    <tr>\n",
              "      <th>4</th>\n",
              "      <td>132005</td>\n",
              "      <td>0.0</td>\n",
              "      <td>0.0</td>\n",
              "      <td>0.0</td>\n",
              "      <td>0.0</td>\n",
              "      <td>0.0</td>\n",
              "      <td>0.0</td>\n",
              "      <td>0.0</td>\n",
              "      <td>0.0</td>\n",
              "      <td>0.0</td>\n",
              "      <td>...</td>\n",
              "      <td>0.0</td>\n",
              "      <td>NaN</td>\n",
              "      <td>NaN</td>\n",
              "      <td>NaN</td>\n",
              "      <td>NaN</td>\n",
              "      <td>NaN</td>\n",
              "      <td>NaN</td>\n",
              "      <td>NaN</td>\n",
              "      <td>NaN</td>\n",
              "      <td>NaN</td>\n",
              "    </tr>\n",
              "  </tbody>\n",
              "</table>\n",
              "<p>5 rows × 69 columns</p>\n",
              "</div>\n",
              "      <button class=\"colab-df-convert\" onclick=\"convertToInteractive('df-9e3f1786-1c9d-4d30-9110-e7278865d955')\"\n",
              "              title=\"Convert this dataframe to an interactive table.\"\n",
              "              style=\"display:none;\">\n",
              "        \n",
              "  <svg xmlns=\"http://www.w3.org/2000/svg\" height=\"24px\"viewBox=\"0 0 24 24\"\n",
              "       width=\"24px\">\n",
              "    <path d=\"M0 0h24v24H0V0z\" fill=\"none\"/>\n",
              "    <path d=\"M18.56 5.44l.94 2.06.94-2.06 2.06-.94-2.06-.94-.94-2.06-.94 2.06-2.06.94zm-11 1L8.5 8.5l.94-2.06 2.06-.94-2.06-.94L8.5 2.5l-.94 2.06-2.06.94zm10 10l.94 2.06.94-2.06 2.06-.94-2.06-.94-.94-2.06-.94 2.06-2.06.94z\"/><path d=\"M17.41 7.96l-1.37-1.37c-.4-.4-.92-.59-1.43-.59-.52 0-1.04.2-1.43.59L10.3 9.45l-7.72 7.72c-.78.78-.78 2.05 0 2.83L4 21.41c.39.39.9.59 1.41.59.51 0 1.02-.2 1.41-.59l7.78-7.78 2.81-2.81c.8-.78.8-2.07 0-2.86zM5.41 20L4 18.59l7.72-7.72 1.47 1.35L5.41 20z\"/>\n",
              "  </svg>\n",
              "      </button>\n",
              "      \n",
              "  <style>\n",
              "    .colab-df-container {\n",
              "      display:flex;\n",
              "      flex-wrap:wrap;\n",
              "      gap: 12px;\n",
              "    }\n",
              "\n",
              "    .colab-df-convert {\n",
              "      background-color: #E8F0FE;\n",
              "      border: none;\n",
              "      border-radius: 50%;\n",
              "      cursor: pointer;\n",
              "      display: none;\n",
              "      fill: #1967D2;\n",
              "      height: 32px;\n",
              "      padding: 0 0 0 0;\n",
              "      width: 32px;\n",
              "    }\n",
              "\n",
              "    .colab-df-convert:hover {\n",
              "      background-color: #E2EBFA;\n",
              "      box-shadow: 0px 1px 2px rgba(60, 64, 67, 0.3), 0px 1px 3px 1px rgba(60, 64, 67, 0.15);\n",
              "      fill: #174EA6;\n",
              "    }\n",
              "\n",
              "    [theme=dark] .colab-df-convert {\n",
              "      background-color: #3B4455;\n",
              "      fill: #D2E3FC;\n",
              "    }\n",
              "\n",
              "    [theme=dark] .colab-df-convert:hover {\n",
              "      background-color: #434B5C;\n",
              "      box-shadow: 0px 1px 3px 1px rgba(0, 0, 0, 0.15);\n",
              "      filter: drop-shadow(0px 1px 2px rgba(0, 0, 0, 0.3));\n",
              "      fill: #FFFFFF;\n",
              "    }\n",
              "  </style>\n",
              "\n",
              "      <script>\n",
              "        const buttonEl =\n",
              "          document.querySelector('#df-9e3f1786-1c9d-4d30-9110-e7278865d955 button.colab-df-convert');\n",
              "        buttonEl.style.display =\n",
              "          google.colab.kernel.accessAllowed ? 'block' : 'none';\n",
              "\n",
              "        async function convertToInteractive(key) {\n",
              "          const element = document.querySelector('#df-9e3f1786-1c9d-4d30-9110-e7278865d955');\n",
              "          const dataTable =\n",
              "            await google.colab.kernel.invokeFunction('convertToInteractive',\n",
              "                                                     [key], {});\n",
              "          if (!dataTable) return;\n",
              "\n",
              "          const docLinkHtml = 'Like what you see? Visit the ' +\n",
              "            '<a target=\"_blank\" href=https://colab.research.google.com/notebooks/data_table.ipynb>data table notebook</a>'\n",
              "            + ' to learn more about interactive tables.';\n",
              "          element.innerHTML = '';\n",
              "          dataTable['output_type'] = 'display_data';\n",
              "          await google.colab.output.renderOutput(dataTable, element);\n",
              "          const docLink = document.createElement('div');\n",
              "          docLink.innerHTML = docLinkHtml;\n",
              "          element.appendChild(docLink);\n",
              "        }\n",
              "      </script>\n",
              "    </div>\n",
              "  </div>\n",
              "  "
            ]
          },
          "metadata": {},
          "execution_count": 41
        }
      ]
    },
    {
      "cell_type": "markdown",
      "source": [
        "Список мест для 130 ресторанов с рейтингами"
      ],
      "metadata": {
        "id": "VKY3JbSjFrd-"
      }
    },
    {
      "cell_type": "code",
      "source": [
        "res_rated = res_all[np.sum(review,axis=1) > 0] "
      ],
      "metadata": {
        "id": "yzl7VcfdFu6Q"
      },
      "execution_count": 42,
      "outputs": []
    },
    {
      "cell_type": "markdown",
      "source": [
        "сообщает нам, имеет ли пара ресторан-пользователь рейтинг. 0 означает \"Нет\", а 1 означает \"Да\"."
      ],
      "metadata": {
        "id": "0bclZEFRFygS"
      }
    },
    {
      "cell_type": "code",
      "source": [
        "\n",
        "R = review.loc[res_rated].values  \n",
        "\n",
        "Y_service = service_rating.loc[res_rated].values\n",
        "Y_overall = overall_rating.loc[res_rated].values\n",
        "Y_food  = food_rating.loc[res_rated].values"
      ],
      "metadata": {
        "id": "2FlJsdB5wW-X"
      },
      "execution_count": 43,
      "outputs": []
    },
    {
      "cell_type": "code",
      "source": [
        "\n",
        "\n",
        "index = np.array([x in res_rated for x in df_res['placeID'].values])\n",
        "index = np.where(index == True)[0]\n",
        "\n",
        "X = df_res.loc[index, :].reset_index(drop=True)"
      ],
      "metadata": {
        "id": "C94dxGFLxF69"
      },
      "execution_count": 44,
      "outputs": []
    },
    {
      "cell_type": "markdown",
      "source": [
        "заполните все NAN-адреса 0.\n",
        "\n",
        "удалить объект, если весь столбец равен 0"
      ],
      "metadata": {
        "id": "V-fNAp4oFfgD"
      }
    },
    {
      "cell_type": "code",
      "source": [
        "X = X.fillna(0) \n",
        "features_to_drop = X.columns.values[np.sum(X,axis=0) == 0] \n",
        "X = X.drop(features_to_drop, axis=1)\n",
        "X = X.drop(['placeID'], axis=1)\n",
        "X.head()"
      ],
      "metadata": {
        "colab": {
          "base_uri": "https://localhost:8080/",
          "height": 317
        },
        "id": "Vf1Vsu4Vw6y4",
        "outputId": "2ab220bc-0020-4a3d-f5b1-05ad6e32f4c9"
      },
      "execution_count": 45,
      "outputs": [
        {
          "output_type": "execute_result",
          "data": {
            "text/plain": [
              "   Rcuisine_American  Rcuisine_Armenian  Rcuisine_Bakery  Rcuisine_Bar  \\\n",
              "0                0.0                0.0              0.0           0.0   \n",
              "1                0.0                0.0              0.0           0.0   \n",
              "2                0.0                0.0              0.0           0.0   \n",
              "3                0.0                0.0              0.0           0.0   \n",
              "4                1.0                0.0              0.0           0.0   \n",
              "\n",
              "   Rcuisine_Bar_Pub_Brewery  Rcuisine_Breakfast-Brunch  Rcuisine_Burgers  \\\n",
              "0                       0.0                        0.0               0.0   \n",
              "1                       0.0                        0.0               0.0   \n",
              "2                       0.0                        0.0               0.0   \n",
              "3                       0.0                        0.0               0.0   \n",
              "4                       0.0                        0.0               0.0   \n",
              "\n",
              "   Rcuisine_Cafe-Coffee_Shop  Rcuisine_Cafeteria  Rcuisine_Chinese  ...  \\\n",
              "0                        0.0                 0.0               0.0  ...   \n",
              "1                        0.0                 0.0               0.0  ...   \n",
              "2                        0.0                 0.0               0.0  ...   \n",
              "3                        0.0                 1.0               0.0  ...   \n",
              "4                        0.0                 0.0               0.0  ...   \n",
              "\n",
              "   Rcuisine_Vietnamese  parking_lot  alcohol  smoking_area  other_services  \\\n",
              "0                  0.0          1.0      0.0           1.0             0.0   \n",
              "1                  0.0          0.0      0.0           0.0             0.0   \n",
              "2                  0.0          0.0      0.0           0.0             0.0   \n",
              "3                  0.0          2.0      0.0           0.0             0.0   \n",
              "4                  0.0          0.0      0.0           0.0             0.0   \n",
              "\n",
              "   price  dress_code  accessibility  Rambience  area  \n",
              "0    1.0         0.0            0.0        0.0   0.0  \n",
              "1    1.0         0.0            2.0        0.0   1.0  \n",
              "2    1.0         0.0            2.0        0.0   1.0  \n",
              "3    1.0         0.0            2.0        0.0   1.0  \n",
              "4    1.0         0.0            1.0        0.0   1.0  \n",
              "\n",
              "[5 rows x 32 columns]"
            ],
            "text/html": [
              "\n",
              "  <div id=\"df-2b658895-33ab-47f9-bd8d-22c6169e4f19\">\n",
              "    <div class=\"colab-df-container\">\n",
              "      <div>\n",
              "<style scoped>\n",
              "    .dataframe tbody tr th:only-of-type {\n",
              "        vertical-align: middle;\n",
              "    }\n",
              "\n",
              "    .dataframe tbody tr th {\n",
              "        vertical-align: top;\n",
              "    }\n",
              "\n",
              "    .dataframe thead th {\n",
              "        text-align: right;\n",
              "    }\n",
              "</style>\n",
              "<table border=\"1\" class=\"dataframe\">\n",
              "  <thead>\n",
              "    <tr style=\"text-align: right;\">\n",
              "      <th></th>\n",
              "      <th>Rcuisine_American</th>\n",
              "      <th>Rcuisine_Armenian</th>\n",
              "      <th>Rcuisine_Bakery</th>\n",
              "      <th>Rcuisine_Bar</th>\n",
              "      <th>Rcuisine_Bar_Pub_Brewery</th>\n",
              "      <th>Rcuisine_Breakfast-Brunch</th>\n",
              "      <th>Rcuisine_Burgers</th>\n",
              "      <th>Rcuisine_Cafe-Coffee_Shop</th>\n",
              "      <th>Rcuisine_Cafeteria</th>\n",
              "      <th>Rcuisine_Chinese</th>\n",
              "      <th>...</th>\n",
              "      <th>Rcuisine_Vietnamese</th>\n",
              "      <th>parking_lot</th>\n",
              "      <th>alcohol</th>\n",
              "      <th>smoking_area</th>\n",
              "      <th>other_services</th>\n",
              "      <th>price</th>\n",
              "      <th>dress_code</th>\n",
              "      <th>accessibility</th>\n",
              "      <th>Rambience</th>\n",
              "      <th>area</th>\n",
              "    </tr>\n",
              "  </thead>\n",
              "  <tbody>\n",
              "    <tr>\n",
              "      <th>0</th>\n",
              "      <td>0.0</td>\n",
              "      <td>0.0</td>\n",
              "      <td>0.0</td>\n",
              "      <td>0.0</td>\n",
              "      <td>0.0</td>\n",
              "      <td>0.0</td>\n",
              "      <td>0.0</td>\n",
              "      <td>0.0</td>\n",
              "      <td>0.0</td>\n",
              "      <td>0.0</td>\n",
              "      <td>...</td>\n",
              "      <td>0.0</td>\n",
              "      <td>1.0</td>\n",
              "      <td>0.0</td>\n",
              "      <td>1.0</td>\n",
              "      <td>0.0</td>\n",
              "      <td>1.0</td>\n",
              "      <td>0.0</td>\n",
              "      <td>0.0</td>\n",
              "      <td>0.0</td>\n",
              "      <td>0.0</td>\n",
              "    </tr>\n",
              "    <tr>\n",
              "      <th>1</th>\n",
              "      <td>0.0</td>\n",
              "      <td>0.0</td>\n",
              "      <td>0.0</td>\n",
              "      <td>0.0</td>\n",
              "      <td>0.0</td>\n",
              "      <td>0.0</td>\n",
              "      <td>0.0</td>\n",
              "      <td>0.0</td>\n",
              "      <td>0.0</td>\n",
              "      <td>0.0</td>\n",
              "      <td>...</td>\n",
              "      <td>0.0</td>\n",
              "      <td>0.0</td>\n",
              "      <td>0.0</td>\n",
              "      <td>0.0</td>\n",
              "      <td>0.0</td>\n",
              "      <td>1.0</td>\n",
              "      <td>0.0</td>\n",
              "      <td>2.0</td>\n",
              "      <td>0.0</td>\n",
              "      <td>1.0</td>\n",
              "    </tr>\n",
              "    <tr>\n",
              "      <th>2</th>\n",
              "      <td>0.0</td>\n",
              "      <td>0.0</td>\n",
              "      <td>0.0</td>\n",
              "      <td>0.0</td>\n",
              "      <td>0.0</td>\n",
              "      <td>0.0</td>\n",
              "      <td>0.0</td>\n",
              "      <td>0.0</td>\n",
              "      <td>0.0</td>\n",
              "      <td>0.0</td>\n",
              "      <td>...</td>\n",
              "      <td>0.0</td>\n",
              "      <td>0.0</td>\n",
              "      <td>0.0</td>\n",
              "      <td>0.0</td>\n",
              "      <td>0.0</td>\n",
              "      <td>1.0</td>\n",
              "      <td>0.0</td>\n",
              "      <td>2.0</td>\n",
              "      <td>0.0</td>\n",
              "      <td>1.0</td>\n",
              "    </tr>\n",
              "    <tr>\n",
              "      <th>3</th>\n",
              "      <td>0.0</td>\n",
              "      <td>0.0</td>\n",
              "      <td>0.0</td>\n",
              "      <td>0.0</td>\n",
              "      <td>0.0</td>\n",
              "      <td>0.0</td>\n",
              "      <td>0.0</td>\n",
              "      <td>0.0</td>\n",
              "      <td>1.0</td>\n",
              "      <td>0.0</td>\n",
              "      <td>...</td>\n",
              "      <td>0.0</td>\n",
              "      <td>2.0</td>\n",
              "      <td>0.0</td>\n",
              "      <td>0.0</td>\n",
              "      <td>0.0</td>\n",
              "      <td>1.0</td>\n",
              "      <td>0.0</td>\n",
              "      <td>2.0</td>\n",
              "      <td>0.0</td>\n",
              "      <td>1.0</td>\n",
              "    </tr>\n",
              "    <tr>\n",
              "      <th>4</th>\n",
              "      <td>1.0</td>\n",
              "      <td>0.0</td>\n",
              "      <td>0.0</td>\n",
              "      <td>0.0</td>\n",
              "      <td>0.0</td>\n",
              "      <td>0.0</td>\n",
              "      <td>0.0</td>\n",
              "      <td>0.0</td>\n",
              "      <td>0.0</td>\n",
              "      <td>0.0</td>\n",
              "      <td>...</td>\n",
              "      <td>0.0</td>\n",
              "      <td>0.0</td>\n",
              "      <td>0.0</td>\n",
              "      <td>0.0</td>\n",
              "      <td>0.0</td>\n",
              "      <td>1.0</td>\n",
              "      <td>0.0</td>\n",
              "      <td>1.0</td>\n",
              "      <td>0.0</td>\n",
              "      <td>1.0</td>\n",
              "    </tr>\n",
              "  </tbody>\n",
              "</table>\n",
              "<p>5 rows × 32 columns</p>\n",
              "</div>\n",
              "      <button class=\"colab-df-convert\" onclick=\"convertToInteractive('df-2b658895-33ab-47f9-bd8d-22c6169e4f19')\"\n",
              "              title=\"Convert this dataframe to an interactive table.\"\n",
              "              style=\"display:none;\">\n",
              "        \n",
              "  <svg xmlns=\"http://www.w3.org/2000/svg\" height=\"24px\"viewBox=\"0 0 24 24\"\n",
              "       width=\"24px\">\n",
              "    <path d=\"M0 0h24v24H0V0z\" fill=\"none\"/>\n",
              "    <path d=\"M18.56 5.44l.94 2.06.94-2.06 2.06-.94-2.06-.94-.94-2.06-.94 2.06-2.06.94zm-11 1L8.5 8.5l.94-2.06 2.06-.94-2.06-.94L8.5 2.5l-.94 2.06-2.06.94zm10 10l.94 2.06.94-2.06 2.06-.94-2.06-.94-.94-2.06-.94 2.06-2.06.94z\"/><path d=\"M17.41 7.96l-1.37-1.37c-.4-.4-.92-.59-1.43-.59-.52 0-1.04.2-1.43.59L10.3 9.45l-7.72 7.72c-.78.78-.78 2.05 0 2.83L4 21.41c.39.39.9.59 1.41.59.51 0 1.02-.2 1.41-.59l7.78-7.78 2.81-2.81c.8-.78.8-2.07 0-2.86zM5.41 20L4 18.59l7.72-7.72 1.47 1.35L5.41 20z\"/>\n",
              "  </svg>\n",
              "      </button>\n",
              "      \n",
              "  <style>\n",
              "    .colab-df-container {\n",
              "      display:flex;\n",
              "      flex-wrap:wrap;\n",
              "      gap: 12px;\n",
              "    }\n",
              "\n",
              "    .colab-df-convert {\n",
              "      background-color: #E8F0FE;\n",
              "      border: none;\n",
              "      border-radius: 50%;\n",
              "      cursor: pointer;\n",
              "      display: none;\n",
              "      fill: #1967D2;\n",
              "      height: 32px;\n",
              "      padding: 0 0 0 0;\n",
              "      width: 32px;\n",
              "    }\n",
              "\n",
              "    .colab-df-convert:hover {\n",
              "      background-color: #E2EBFA;\n",
              "      box-shadow: 0px 1px 2px rgba(60, 64, 67, 0.3), 0px 1px 3px 1px rgba(60, 64, 67, 0.15);\n",
              "      fill: #174EA6;\n",
              "    }\n",
              "\n",
              "    [theme=dark] .colab-df-convert {\n",
              "      background-color: #3B4455;\n",
              "      fill: #D2E3FC;\n",
              "    }\n",
              "\n",
              "    [theme=dark] .colab-df-convert:hover {\n",
              "      background-color: #434B5C;\n",
              "      box-shadow: 0px 1px 3px 1px rgba(0, 0, 0, 0.15);\n",
              "      filter: drop-shadow(0px 1px 2px rgba(0, 0, 0, 0.3));\n",
              "      fill: #FFFFFF;\n",
              "    }\n",
              "  </style>\n",
              "\n",
              "      <script>\n",
              "        const buttonEl =\n",
              "          document.querySelector('#df-2b658895-33ab-47f9-bd8d-22c6169e4f19 button.colab-df-convert');\n",
              "        buttonEl.style.display =\n",
              "          google.colab.kernel.accessAllowed ? 'block' : 'none';\n",
              "\n",
              "        async function convertToInteractive(key) {\n",
              "          const element = document.querySelector('#df-2b658895-33ab-47f9-bd8d-22c6169e4f19');\n",
              "          const dataTable =\n",
              "            await google.colab.kernel.invokeFunction('convertToInteractive',\n",
              "                                                     [key], {});\n",
              "          if (!dataTable) return;\n",
              "\n",
              "          const docLinkHtml = 'Like what you see? Visit the ' +\n",
              "            '<a target=\"_blank\" href=https://colab.research.google.com/notebooks/data_table.ipynb>data table notebook</a>'\n",
              "            + ' to learn more about interactive tables.';\n",
              "          element.innerHTML = '';\n",
              "          dataTable['output_type'] = 'display_data';\n",
              "          await google.colab.output.renderOutput(dataTable, element);\n",
              "          const docLink = document.createElement('div');\n",
              "          docLink.innerHTML = docLinkHtml;\n",
              "          element.appendChild(docLink);\n",
              "        }\n",
              "      </script>\n",
              "    </div>\n",
              "  </div>\n",
              "  "
            ]
          },
          "metadata": {},
          "execution_count": 45
        }
      ]
    },
    {
      "cell_type": "markdown",
      "source": [
        "# Моделирование"
      ],
      "metadata": {
        "id": "LHeY9p7q7ilm"
      }
    },
    {
      "cell_type": "markdown",
      "source": [
        "В дальнейшем я буду использовать только 'parking_lot', 'alcohol','smoking_area','other_services', 'price', 'dress_code' и 'accessibility'. "
      ],
      "metadata": {
        "id": "rnqWY52j61rZ"
      }
    },
    {
      "cell_type": "code",
      "source": [
        "X = X[['parking_lot','alcohol','smoking_area','other_services','price','dress_code','accessibility']]\n",
        "X['x0'] = 1 \n",
        "X.head()"
      ],
      "metadata": {
        "colab": {
          "base_uri": "https://localhost:8080/",
          "height": 0
        },
        "id": "hMwsxjX9xaW4",
        "outputId": "2e0c602f-8822-4d42-d363-e9d39e5a4950"
      },
      "execution_count": 46,
      "outputs": [
        {
          "output_type": "execute_result",
          "data": {
            "text/plain": [
              "   parking_lot  alcohol  smoking_area  other_services  price  dress_code  \\\n",
              "0          1.0      0.0           1.0             0.0    1.0         0.0   \n",
              "1          0.0      0.0           0.0             0.0    1.0         0.0   \n",
              "2          0.0      0.0           0.0             0.0    1.0         0.0   \n",
              "3          2.0      0.0           0.0             0.0    1.0         0.0   \n",
              "4          0.0      0.0           0.0             0.0    1.0         0.0   \n",
              "\n",
              "   accessibility  x0  \n",
              "0            0.0   1  \n",
              "1            2.0   1  \n",
              "2            2.0   1  \n",
              "3            2.0   1  \n",
              "4            1.0   1  "
            ],
            "text/html": [
              "\n",
              "  <div id=\"df-e3aac0c0-2652-4cf6-b8af-b14d36cc5c80\">\n",
              "    <div class=\"colab-df-container\">\n",
              "      <div>\n",
              "<style scoped>\n",
              "    .dataframe tbody tr th:only-of-type {\n",
              "        vertical-align: middle;\n",
              "    }\n",
              "\n",
              "    .dataframe tbody tr th {\n",
              "        vertical-align: top;\n",
              "    }\n",
              "\n",
              "    .dataframe thead th {\n",
              "        text-align: right;\n",
              "    }\n",
              "</style>\n",
              "<table border=\"1\" class=\"dataframe\">\n",
              "  <thead>\n",
              "    <tr style=\"text-align: right;\">\n",
              "      <th></th>\n",
              "      <th>parking_lot</th>\n",
              "      <th>alcohol</th>\n",
              "      <th>smoking_area</th>\n",
              "      <th>other_services</th>\n",
              "      <th>price</th>\n",
              "      <th>dress_code</th>\n",
              "      <th>accessibility</th>\n",
              "      <th>x0</th>\n",
              "    </tr>\n",
              "  </thead>\n",
              "  <tbody>\n",
              "    <tr>\n",
              "      <th>0</th>\n",
              "      <td>1.0</td>\n",
              "      <td>0.0</td>\n",
              "      <td>1.0</td>\n",
              "      <td>0.0</td>\n",
              "      <td>1.0</td>\n",
              "      <td>0.0</td>\n",
              "      <td>0.0</td>\n",
              "      <td>1</td>\n",
              "    </tr>\n",
              "    <tr>\n",
              "      <th>1</th>\n",
              "      <td>0.0</td>\n",
              "      <td>0.0</td>\n",
              "      <td>0.0</td>\n",
              "      <td>0.0</td>\n",
              "      <td>1.0</td>\n",
              "      <td>0.0</td>\n",
              "      <td>2.0</td>\n",
              "      <td>1</td>\n",
              "    </tr>\n",
              "    <tr>\n",
              "      <th>2</th>\n",
              "      <td>0.0</td>\n",
              "      <td>0.0</td>\n",
              "      <td>0.0</td>\n",
              "      <td>0.0</td>\n",
              "      <td>1.0</td>\n",
              "      <td>0.0</td>\n",
              "      <td>2.0</td>\n",
              "      <td>1</td>\n",
              "    </tr>\n",
              "    <tr>\n",
              "      <th>3</th>\n",
              "      <td>2.0</td>\n",
              "      <td>0.0</td>\n",
              "      <td>0.0</td>\n",
              "      <td>0.0</td>\n",
              "      <td>1.0</td>\n",
              "      <td>0.0</td>\n",
              "      <td>2.0</td>\n",
              "      <td>1</td>\n",
              "    </tr>\n",
              "    <tr>\n",
              "      <th>4</th>\n",
              "      <td>0.0</td>\n",
              "      <td>0.0</td>\n",
              "      <td>0.0</td>\n",
              "      <td>0.0</td>\n",
              "      <td>1.0</td>\n",
              "      <td>0.0</td>\n",
              "      <td>1.0</td>\n",
              "      <td>1</td>\n",
              "    </tr>\n",
              "  </tbody>\n",
              "</table>\n",
              "</div>\n",
              "      <button class=\"colab-df-convert\" onclick=\"convertToInteractive('df-e3aac0c0-2652-4cf6-b8af-b14d36cc5c80')\"\n",
              "              title=\"Convert this dataframe to an interactive table.\"\n",
              "              style=\"display:none;\">\n",
              "        \n",
              "  <svg xmlns=\"http://www.w3.org/2000/svg\" height=\"24px\"viewBox=\"0 0 24 24\"\n",
              "       width=\"24px\">\n",
              "    <path d=\"M0 0h24v24H0V0z\" fill=\"none\"/>\n",
              "    <path d=\"M18.56 5.44l.94 2.06.94-2.06 2.06-.94-2.06-.94-.94-2.06-.94 2.06-2.06.94zm-11 1L8.5 8.5l.94-2.06 2.06-.94-2.06-.94L8.5 2.5l-.94 2.06-2.06.94zm10 10l.94 2.06.94-2.06 2.06-.94-2.06-.94-.94-2.06-.94 2.06-2.06.94z\"/><path d=\"M17.41 7.96l-1.37-1.37c-.4-.4-.92-.59-1.43-.59-.52 0-1.04.2-1.43.59L10.3 9.45l-7.72 7.72c-.78.78-.78 2.05 0 2.83L4 21.41c.39.39.9.59 1.41.59.51 0 1.02-.2 1.41-.59l7.78-7.78 2.81-2.81c.8-.78.8-2.07 0-2.86zM5.41 20L4 18.59l7.72-7.72 1.47 1.35L5.41 20z\"/>\n",
              "  </svg>\n",
              "      </button>\n",
              "      \n",
              "  <style>\n",
              "    .colab-df-container {\n",
              "      display:flex;\n",
              "      flex-wrap:wrap;\n",
              "      gap: 12px;\n",
              "    }\n",
              "\n",
              "    .colab-df-convert {\n",
              "      background-color: #E8F0FE;\n",
              "      border: none;\n",
              "      border-radius: 50%;\n",
              "      cursor: pointer;\n",
              "      display: none;\n",
              "      fill: #1967D2;\n",
              "      height: 32px;\n",
              "      padding: 0 0 0 0;\n",
              "      width: 32px;\n",
              "    }\n",
              "\n",
              "    .colab-df-convert:hover {\n",
              "      background-color: #E2EBFA;\n",
              "      box-shadow: 0px 1px 2px rgba(60, 64, 67, 0.3), 0px 1px 3px 1px rgba(60, 64, 67, 0.15);\n",
              "      fill: #174EA6;\n",
              "    }\n",
              "\n",
              "    [theme=dark] .colab-df-convert {\n",
              "      background-color: #3B4455;\n",
              "      fill: #D2E3FC;\n",
              "    }\n",
              "\n",
              "    [theme=dark] .colab-df-convert:hover {\n",
              "      background-color: #434B5C;\n",
              "      box-shadow: 0px 1px 3px 1px rgba(0, 0, 0, 0.15);\n",
              "      filter: drop-shadow(0px 1px 2px rgba(0, 0, 0, 0.3));\n",
              "      fill: #FFFFFF;\n",
              "    }\n",
              "  </style>\n",
              "\n",
              "      <script>\n",
              "        const buttonEl =\n",
              "          document.querySelector('#df-e3aac0c0-2652-4cf6-b8af-b14d36cc5c80 button.colab-df-convert');\n",
              "        buttonEl.style.display =\n",
              "          google.colab.kernel.accessAllowed ? 'block' : 'none';\n",
              "\n",
              "        async function convertToInteractive(key) {\n",
              "          const element = document.querySelector('#df-e3aac0c0-2652-4cf6-b8af-b14d36cc5c80');\n",
              "          const dataTable =\n",
              "            await google.colab.kernel.invokeFunction('convertToInteractive',\n",
              "                                                     [key], {});\n",
              "          if (!dataTable) return;\n",
              "\n",
              "          const docLinkHtml = 'Like what you see? Visit the ' +\n",
              "            '<a target=\"_blank\" href=https://colab.research.google.com/notebooks/data_table.ipynb>data table notebook</a>'\n",
              "            + ' to learn more about interactive tables.';\n",
              "          element.innerHTML = '';\n",
              "          dataTable['output_type'] = 'display_data';\n",
              "          await google.colab.output.renderOutput(dataTable, element);\n",
              "          const docLink = document.createElement('div');\n",
              "          docLink.innerHTML = docLinkHtml;\n",
              "          element.appendChild(docLink);\n",
              "        }\n",
              "      </script>\n",
              "    </div>\n",
              "  </div>\n",
              "  "
            ]
          },
          "metadata": {},
          "execution_count": 46
        }
      ]
    },
    {
      "cell_type": "markdown",
      "source": [
        "Прежде чем мы внедрим модели, давайте разделим существующие рейтинги на обучающий набор и набор проверки. Я буду использовать разделение 80/25.  Разделяются экземпляры рейтинга, а не примеры ресторанов или пользователей. Вместо того, чтобы просто случайным образом разбивать данные, я гарантирую, что каждый ресторан и каждый потребитель получат / дадут некоторые оценки в обучающем наборе. Это ограничение гарантирует, что характеристики каждого ресторана и потребителя будут изучены."
      ],
      "metadata": {
        "id": "C3y64w-K7qOd"
      }
    },
    {
      "cell_type": "markdown",
      "source": [
        " количество оценок от каждого пользователя (минимум = 3)\n",
        " \n",
        " 20% существующих рейтингов будут использоваться в качестве набора для проверки\n",
        "Таким образом, во время тренировки они будут помечены"
      ],
      "metadata": {
        "id": "Et2DcHV0L43z"
      }
    },
    {
      "cell_type": "code",
      "source": [
        "num_rating = np.round(np.sum(R,axis=0)) \n",
        "\n",
        "\n",
        "g = lambda x: int(round(x*0.2)) \n",
        "flag = np.array( [g(x) for x in num_rating] )\n",
        "\n",
        "random.seed(0)\n",
        "cond = True\n",
        "\n",
        "while cond:\n",
        "\n",
        "    R_train = R.copy()\n",
        "\n",
        "    # цикл по каждому пользователю\n",
        "    for i in range(R_train.shape[1]):\n",
        "        \n",
        "        index = list( np.where(R_train[:,i] == 1)[0] )  \n",
        "        \n",
        "        index_flag = random.sample(index,flag[i])\n",
        "        R_train[index_flag,i] = 0  \n",
        "    \n",
        "    \n",
        "    if (np.sum(R_train,axis=0).min() > 1) & (np.sum(R_train,axis=1).min() > 1.2): \n",
        "        cond = False\n",
        "        \n",
        "R_valid = R - R_train \n",
        "\n",
        "print(R_train.sum())\n",
        "print(R_valid.sum())\n"
      ],
      "metadata": {
        "colab": {
          "base_uri": "https://localhost:8080/"
        },
        "id": "R7_1sgDEze6x",
        "outputId": "0788db28-5977-489a-ca81-445c0f49b886"
      },
      "execution_count": 47,
      "outputs": [
        {
          "output_type": "stream",
          "name": "stdout",
          "text": [
            "920.0\n",
            "241.0\n"
          ]
        }
      ]
    },
    {
      "cell_type": "markdown",
      "source": [
        "Теперь \"R_train\" содержит 920 единиц, а \"R_valid\" содержит 241 единиц (\"R\" содержит 1161 единицу)\n",
        "\n",
        "Форма \"R\", \"R_train\" и \"R_valid\" - это все (130,138) "
      ],
      "metadata": {
        "id": "e2QwyPpTF-BZ"
      }
    },
    {
      "cell_type": "markdown",
      "source": [
        "# Показатели оценки\n",
        "Я буду использовать две оценочные метрики для количественной оценки характеристик модели. Первый из них - ошибка среднеквадратичного значения (RMSE), которая является очень стандартной для задач регрессии, поскольку она сообщает вам, насколько близки ваши прогнозы к меткам. Однако для рекомендательных систем самое важное - это ранги продуктов, и RMSE иногда не подходит для этой цели. Например, прогноз с идеальным рейтингом может иметь ужасный RMSE, если прогнозировать рейтинги по неправильной шкале.\n",
        "\n",
        "Таким образом, вторая метрика, которую я буду использовать, - это Доля согласующихся пар (FCP)."
      ],
      "metadata": {
        "id": "Ew4Zw_Yy8kFF"
      }
    },
    {
      "cell_type": "code",
      "source": [
        "def FCP(Y,Y_pred,R):\n",
        "    \n",
        "    \n",
        "    Y_fcp = []  \n",
        "    Y_pred_fcp = [] # список прогнозируемых оценок от каждого пользователя\n",
        "    n_user = R.shape[1]\n",
        "    \n",
        "    for i in range(n_user):\n",
        "        \n",
        "        cond = (R.sum(axis=0) >= 2)[i] # от пользователя должно быть не менее двух оценок\n",
        "        index = np.where( R[:,i] == 1)[0] # индексы (рестораны) с рейтингами\n",
        "    \n",
        "        if cond:\n",
        "            \n",
        "            Y_fcp.append( (Y*R)[:,i][index] )\n",
        "            Y_pred_fcp.append( (Y_pred*R)[:,i][index] )\n",
        "\n",
        "        \n",
        "    n_fcp = len(Y_fcp) # количество пользователей с не менее чем двумя рейтингами\n",
        "    TP = 0. # Общее количество пар\n",
        "    DP = 0. # количество диссонирующих пар\n",
        "    CP = 0.  # количество совпадающих пар (исключая связи)\n",
        "    \n",
        "    for i in range(n_fcp):\n",
        "        \n",
        "        num_Y = len(Y_fcp[i])   \n",
        "        TP += num_Y*(num_Y-1)/2 \n",
        "\n",
        "        greater = np.array([])\n",
        "        greater_pred = np.array([])\n",
        "\n",
        "        # этот цикл предназначен для просмотра всех рейтинговых пар\n",
        "        for j in range(num_Y-1):\n",
        "            \n",
        "            not_equal = Y_fcp[i][j] != Y_fcp[i][j+1:]\n",
        "            greater = Y_fcp[i][j] > Y_fcp[i][j+1:]\n",
        "            greater_pred = Y_pred_fcp[i][j] > Y_pred_fcp[i][j+1:]\n",
        "\n",
        "            # отфильтрует те, которые не являются связями\n",
        "            greater = greater[not_equal]\n",
        "            greater_pred = greater_pred[not_equal]\n",
        "\n",
        "            DP += (greater != greater_pred).sum()\n",
        "            CP += (greater == greater_pred).sum()\n",
        "            \n",
        "    print(\"Общее количество рейтинговых пар: {}\".format(int(TP)))\n",
        "    print(\"Общее количество диссонирующих пар: {}\".format(int(DP)))\n",
        "    print(\"Общее количество совпадающих пар: {}\".format(int(CP)))\n",
        "    print(\"Общее количество связей: {}\".format(int(TP-DP-CP)))\n",
        "    print(\"FCP: {}\".format(CP/(CP+DP)))"
      ],
      "metadata": {
        "id": "wKb84AAlzuds"
      },
      "execution_count": 48,
      "outputs": []
    },
    {
      "cell_type": "code",
      "source": [
        "def get_rmse(Y,Y_pred):\n",
        "  return np.sqrt(mean_squared_error(Y, Y_pred))"
      ],
      "metadata": {
        "id": "dq_bR06XVm7f"
      },
      "execution_count": 49,
      "outputs": []
    },
    {
      "cell_type": "markdown",
      "source": [
        "# Эталонная модель\n",
        "\n",
        "Эта модель просто вычисляет средний рейтинг каждого ресторана."
      ],
      "metadata": {
        "id": "4tW78Dfwz5Gu"
      }
    },
    {
      "cell_type": "code",
      "source": [
        "def GetMean(Y,R):\n",
        "\n",
        "    Y = Y*R\n",
        "    mean =  (np.sum(Y, axis=1)/np.sum((R == 1.0), axis=1)).reshape(Y.shape[0],1) * np.ones(Y.shape)\n",
        "    return mean"
      ],
      "metadata": {
        "id": "ALLrrqiJz7M1"
      },
      "execution_count": 50,
      "outputs": []
    },
    {
      "cell_type": "code",
      "source": [
        "Y = Y_overall \n",
        "Y_mean = GetMean(Y,R_train) # получить средние оценки на основе тренировочного набора\n",
        "Y_pred = np.zeros(Y.shape) + Y_mean # предсказание\n",
        "b_rmse = get_rmse(Y[R_valid == 1], Y_pred[R_valid == 1])\n",
        "# RMSE\n",
        "print(\"RMSE of the training set: {}\".format(get_rmse(Y[R_train == 1], Y_pred[R_train == 1])))\n",
        "print(\"RMSE of the validation set: {}\".format(get_rmse(Y[R_valid == 1], Y_pred[R_valid == 1])))"
      ],
      "metadata": {
        "colab": {
          "base_uri": "https://localhost:8080/"
        },
        "id": "Y2XSNQ3sz-9_",
        "outputId": "c43ba518-1f3b-4398-8a0e-e5dc5d670f60"
      },
      "execution_count": 53,
      "outputs": [
        {
          "output_type": "stream",
          "name": "stdout",
          "text": [
            "RMSE of the training set: 0.7025788790180052\n",
            "RMSE of the validation set: 0.8024733224208809\n"
          ]
        }
      ]
    },
    {
      "cell_type": "code",
      "source": [
        "print(\"Training Set:\")\n",
        "FCP(Y,Y_pred,R_train)\n",
        "print(\"\\n\")\n",
        "print(\"Validation Set:\")\n",
        "FCP(Y,Y_pred,R_valid)"
      ],
      "metadata": {
        "id": "8aL3oyXU0DWy",
        "colab": {
          "base_uri": "https://localhost:8080/"
        },
        "outputId": "4f13cfe9-e71b-4b85-bc2e-369aaabbe33a"
      },
      "execution_count": 54,
      "outputs": [
        {
          "output_type": "stream",
          "name": "stdout",
          "text": [
            "Training Set:\n",
            "Общее количество рейтинговых пар: 3130\n",
            "Общее количество диссонирующих пар: 417\n",
            "Общее количество совпадающих пар: 973\n",
            "Общее количество связей: 1740\n",
            "FCP: 0.7\n",
            "\n",
            "\n",
            "Validation Set:\n",
            "Общее количество рейтинговых пар: 121\n",
            "Общее количество диссонирующих пар: 25\n",
            "Общее количество совпадающих пар: 25\n",
            "Общее количество связей: 71\n",
            "FCP: 0.5\n"
          ]
        }
      ]
    },
    {
      "cell_type": "code",
      "source": [
        "def MakeBoxplot(Y_pred, Y_true, R, title):\n",
        "    \n",
        "    data1 = Y_pred[R == 1][Y_true[R == 1] == 0]\n",
        "    data2 = Y_pred[R == 1][Y_true[R == 1] == 1]\n",
        "    data3 = Y_pred[R == 1][Y_true[R == 1] == 2]\n",
        "    data = [data1,data2,data3]\n",
        "\n",
        "    fig = plt.figure()\n",
        "    plt.boxplot(data)\n",
        "    plt.xticks([1, 2, 3],[0,1,2])\n",
        "    plt.xlabel('True Rating')\n",
        "    plt.ylabel('Predicted Rating')\n",
        "    plt.title(title)\n",
        "    plt.show()\n",
        "MakeBoxplot(Y_pred, Y, R_train, 'Training set')\n",
        "MakeBoxplot(Y_pred, Y, R_valid, 'Validation set')"
      ],
      "metadata": {
        "colab": {
          "base_uri": "https://localhost:8080/",
          "height": 662
        },
        "id": "oPtuNQ6-0KjA",
        "outputId": "c8e32da1-2dc9-40a1-c020-598be13b8030"
      },
      "execution_count": 55,
      "outputs": [
        {
          "output_type": "stream",
          "name": "stderr",
          "text": [
            "/usr/local/lib/python3.7/dist-packages/matplotlib/cbook/__init__.py:1376: VisibleDeprecationWarning: Creating an ndarray from ragged nested sequences (which is a list-or-tuple of lists-or-tuples-or ndarrays with different lengths or shapes) is deprecated. If you meant to do this, you must specify 'dtype=object' when creating the ndarray.\n",
            "  X = np.atleast_1d(X.T if isinstance(X, np.ndarray) else np.asarray(X))\n"
          ]
        },
        {
          "output_type": "display_data",
          "data": {
            "text/plain": [
              "<Figure size 432x288 with 1 Axes>"
            ],
            "image/png": "[encoded data removed]"
          },
          "metadata": {
            "needs_background": "light"
          }
        },
        {
          "output_type": "stream",
          "name": "stderr",
          "text": [
            "/usr/local/lib/python3.7/dist-packages/matplotlib/cbook/__init__.py:1376: VisibleDeprecationWarning: Creating an ndarray from ragged nested sequences (which is a list-or-tuple of lists-or-tuples-or ndarrays with different lengths or shapes) is deprecated. If you meant to do this, you must specify 'dtype=object' when creating the ndarray.\n",
            "  X = np.atleast_1d(X.T if isinstance(X, np.ndarray) else np.asarray(X))\n"
          ]
        },
        {
          "output_type": "display_data",
          "data": {
            "text/plain": [
              "<Figure size 432x288 with 1 Axes>"
            ],
            "image/png": "[encoded data removed]"
          },
          "metadata": {
            "needs_background": "light"
          }
        }
      ]
    },
    {
      "cell_type": "markdown",
      "source": [
        "# Модель основанная на данных 1\n",
        "\n",
        "Давайте сначала реализуем функцию стоимости и градиент ее параметров используя матричную факторизацию"
      ],
      "metadata": {
        "id": "o4lP3othWlg5"
      }
    },
    {
      "cell_type": "markdown",
      "source": [
        "Параметры функции затрат представляют собой веса всех пользователей с формой =\n",
        "(n_user, n_feature), где n_user = 138 = количество пользователей, а n_feature = 8 = количество\n",
        "Количество функций ресторана (включая термин смещения). Однако для обеспечения функции затрат\n",
        "для функции SciPy minimize() параметры функции не могут быть матрицей и должны быть\n",
        "1D вектор"
      ],
      "metadata": {
        "id": "LRMYOmeo5a8_"
      }
    },
    {
      "cell_type": "code",
      "source": [
        "\n",
        "\n",
        "def CostFunction(params, X, Y, R, lambd): \n",
        "    \n",
        "    num_user = R.shape[1]\n",
        "    num_feature = X.shape[1]\n",
        "\n",
        "    \n",
        "    Theta = params.reshape(num_user, num_feature)\n",
        "    J = 0.5 * np.sum( (np.dot(X, Theta.T) * R - Y)**2 )\n",
        "\n",
        "    J = J + lambd/2. * np.sum(Theta[:,:-1]**2) \n",
        "\n",
        "    return J\n",
        "\n",
        "\n",
        "def Gradient(params, X, Y, R, lambd):\n",
        "    \n",
        "    num_user = R.shape[1]\n",
        "    num_feature = X.shape[1]\n",
        "\n",
        "    Theta = params.reshape(num_user, num_feature)\n",
        "    Theta_grad = np.dot((np.dot(Theta, X.T) * R.T - Y.T), X)\n",
        "\n",
        "    \n",
        "    Theta_grad[:,:-1] = Theta_grad[:,:-1] + lambd*Theta[:,:-1]\n",
        "\n",
        "    return Theta_grad.reshape(-1)"
      ],
      "metadata": {
        "id": "tediFgk8Wl-R"
      },
      "execution_count": 56,
      "outputs": []
    },
    {
      "cell_type": "code",
      "source": [
        "def MeanNorm(Y,R):\n",
        "    \n",
        "    Y_norm = Y*R\n",
        "    mean =  (np.sum(Y_norm, axis=1)/np.sum((R == 1.0), axis=1)).reshape(Y.shape[0],1) * np.ones(Y.shape)\n",
        "    Y_norm = (Y_norm - mean)*R\n",
        "\n",
        "    return Y_norm, mean"
      ],
      "metadata": {
        "id": "31u8dEcPWqMW"
      },
      "execution_count": 57,
      "outputs": []
    },
    {
      "cell_type": "markdown",
      "source": [
        "L2; Я несколько раз выполнял оптимизацию с разными значениями \n",
        "            (1, 2, 4, 8...) и 32 результат дают наилучший результат проверки FCP"
      ],
      "metadata": {
        "id": "uNmfeBz7GX2_"
      }
    },
    {
      "cell_type": "code",
      "source": [
        "Y_norm, Y_mean = MeanNorm(Y,R_train)\n",
        "\n",
        "n_user = R.shape[1]\n",
        "n_feature = X.shape[1]\n",
        "lambd = 128.  \n",
        "    \n",
        "Theta = np.random.normal(0,1,(n_user, n_feature)).reshape(-1) \n",
        "\n",
        "result = minimize(CostFunction, Theta, jac=Gradient, args=(X, Y_norm, R_train, lambd),\n",
        "                  options={'disp': True, 'maxiter': 500})"
      ],
      "metadata": {
        "colab": {
          "base_uri": "https://localhost:8080/"
        },
        "id": "ITZ8N5cZWvB1",
        "outputId": "edca96cb-17b4-4e1b-f6a8-51bf2894550c"
      },
      "execution_count": 58,
      "outputs": [
        {
          "output_type": "stream",
          "name": "stdout",
          "text": [
            "Optimization terminated successfully.\n",
            "         Current function value: 116.801977\n",
            "         Iterations: 258\n",
            "         Function evaluations: 357\n",
            "         Gradient evaluations: 357\n"
          ]
        }
      ]
    },
    {
      "cell_type": "code",
      "source": [
        "Theta_opt = result.x.reshape(n_user, n_feature) \n",
        "Y_pred = np.dot(X, Theta_opt.T) + Y_mean\n",
        "print(\"RMSE of the training set: {}\".format(np.sqrt(mean_squared_error(Y[R_train == 1], Y_pred[R_train == 1]))))\n",
        "print(\"RMSE of the validation set: {}\".format(np.sqrt(mean_squared_error(Y[R_valid == 1], Y_pred[R_valid == 1]))))"
      ],
      "metadata": {
        "colab": {
          "base_uri": "https://localhost:8080/"
        },
        "id": "rBkEqYUZW9oK",
        "outputId": "824e18be-07c1-4bb7-a7c1-4f39455c8fc6"
      },
      "execution_count": 59,
      "outputs": [
        {
          "output_type": "stream",
          "name": "stdout",
          "text": [
            "RMSE of the training set: 0.4996571878515291\n",
            "RMSE of the validation set: 0.6693746478806423\n"
          ]
        }
      ]
    },
    {
      "cell_type": "code",
      "source": [
        "print(\"Training Set:\")\n",
        "FCP(Y,Y_pred,R_train)\n",
        "print(\"\\n\")\n",
        "print(\"Validation Set:\")\n",
        "FCP(Y,Y_pred,R_valid)"
      ],
      "metadata": {
        "colab": {
          "base_uri": "https://localhost:8080/"
        },
        "id": "-44EzK-yXhHs",
        "outputId": "58442c64-ec7f-47e1-efe7-b4020e0e0e17"
      },
      "execution_count": 60,
      "outputs": [
        {
          "output_type": "stream",
          "name": "stdout",
          "text": [
            "Training Set:\n",
            "Общее количество рейтинговых пар: 3130\n",
            "Общее количество диссонирующих пар: 393\n",
            "Общее количество совпадающих пар: 997\n",
            "Общее количество связей: 1740\n",
            "FCP: 0.7172661870503597\n",
            "\n",
            "\n",
            "Validation Set:\n",
            "Общее количество рейтинговых пар: 121\n",
            "Общее количество диссонирующих пар: 26\n",
            "Общее количество совпадающих пар: 24\n",
            "Общее количество связей: 71\n",
            "FCP: 0.48\n"
          ]
        }
      ]
    },
    {
      "cell_type": "code",
      "source": [
        "MakeBoxplot(Y_pred, Y, R_train, 'Training set')"
      ],
      "metadata": {
        "colab": {
          "base_uri": "https://localhost:8080/",
          "height": 350
        },
        "id": "9BkCvO250Xre",
        "outputId": "aa73bad2-815a-4dc6-ddbd-675e944b1e7e"
      },
      "execution_count": 61,
      "outputs": [
        {
          "output_type": "stream",
          "name": "stderr",
          "text": [
            "/usr/local/lib/python3.7/dist-packages/matplotlib/cbook/__init__.py:1376: VisibleDeprecationWarning: Creating an ndarray from ragged nested sequences (which is a list-or-tuple of lists-or-tuples-or ndarrays with different lengths or shapes) is deprecated. If you meant to do this, you must specify 'dtype=object' when creating the ndarray.\n",
            "  X = np.atleast_1d(X.T if isinstance(X, np.ndarray) else np.asarray(X))\n"
          ]
        },
        {
          "output_type": "display_data",
          "data": {
            "text/plain": [
              "<Figure size 432x288 with 1 Axes>"
            ],
            "image/png": "[encoded data removed]"
          },
          "metadata": {
            "needs_background": "light"
          }
        }
      ]
    },
    {
      "cell_type": "code",
      "source": [
        "MakeBoxplot(Y_pred, Y, R_valid, 'Validation set')"
      ],
      "metadata": {
        "colab": {
          "base_uri": "https://localhost:8080/",
          "height": 350
        },
        "id": "CSEo42L20ZKv",
        "outputId": "7b931426-ace6-439d-ded9-641ab24dddfb"
      },
      "execution_count": 62,
      "outputs": [
        {
          "output_type": "stream",
          "name": "stderr",
          "text": [
            "/usr/local/lib/python3.7/dist-packages/matplotlib/cbook/__init__.py:1376: VisibleDeprecationWarning: Creating an ndarray from ragged nested sequences (which is a list-or-tuple of lists-or-tuples-or ndarrays with different lengths or shapes) is deprecated. If you meant to do this, you must specify 'dtype=object' when creating the ndarray.\n",
            "  X = np.atleast_1d(X.T if isinstance(X, np.ndarray) else np.asarray(X))\n"
          ]
        },
        {
          "output_type": "display_data",
          "data": {
            "text/plain": [
              "<Figure size 432x288 with 1 Axes>"
            ],
            "image/png": "[encoded data removed]"
          },
          "metadata": {
            "needs_background": "light"
          }
        }
      ]
    },
    {
      "cell_type": "markdown",
      "source": [
        "#Модель основанная на данных 2\n",
        "\n",
        "Для этой модели я буду учитывать информацию о пользователе, которая связана с некоторыми функциями ресторана, а именно: \"smoker\", \"drink_level\", \"transport\", \"budget\". Давайте сначала обработаем пользовательские данные."
      ],
      "metadata": {
        "id": "wtMqTBA50d5f"
      }
    },
    {
      "cell_type": "code",
      "source": [
        "user_info = profile[['smoker','drink_level','transport','budget']]\n",
        "\n",
        "print(user_info.smoker.value_counts())\n",
        "print('\\n')\n",
        "print(user_info.drink_level.value_counts())\n",
        "print('\\n')\n",
        "print(user_info.transport.value_counts())\n",
        "print('\\n')\n",
        "print(user_info.budget.value_counts())"
      ],
      "metadata": {
        "colab": {
          "base_uri": "https://localhost:8080/"
        },
        "id": "V0WYgxOb0kfA",
        "outputId": "8135b913-8d3b-4589-8030-cf4defac0a36"
      },
      "execution_count": 63,
      "outputs": [
        {
          "output_type": "stream",
          "name": "stdout",
          "text": [
            "false    109\n",
            "true      26\n",
            "?          3\n",
            "Name: smoker, dtype: int64\n",
            "\n",
            "\n",
            "abstemious        51\n",
            "casual drinker    47\n",
            "social drinker    40\n",
            "Name: drink_level, dtype: int64\n",
            "\n",
            "\n",
            "public       82\n",
            "car owner    35\n",
            "on foot      14\n",
            "?             7\n",
            "Name: transport, dtype: int64\n",
            "\n",
            "\n",
            "medium    91\n",
            "low       35\n",
            "?          7\n",
            "high       5\n",
            "Name: budget, dtype: int64\n"
          ]
        }
      ]
    },
    {
      "cell_type": "code",
      "source": [
        ""
      ],
      "metadata": {
        "id": "47J-BuOJfNm4"
      },
      "execution_count": 63,
      "outputs": []
    },
    {
      "cell_type": "markdown",
      "source": [
        " 1 для курильщиков, в противном случае 0; предположим, что \"?\" - это некурящие."
      ],
      "metadata": {
        "id": "PBQ4PWbWF7VF"
      }
    },
    {
      "cell_type": "code",
      "source": [
        "user_info.smoker = user_info.smoker.map({'false': 0, 'true': 1, '?': 0})"
      ],
      "metadata": {
        "colab": {
          "base_uri": "https://localhost:8080/"
        },
        "id": "iJ9WvXIzF-9v",
        "outputId": "c487904e-97f4-47a8-e911-f33de591a00e"
      },
      "execution_count": 64,
      "outputs": [
        {
          "output_type": "stream",
          "name": "stderr",
          "text": [
            "/usr/local/lib/python3.7/dist-packages/pandas/core/generic.py:5516: SettingWithCopyWarning: \n",
            "A value is trying to be set on a copy of a slice from a DataFrame.\n",
            "Try using .loc[row_indexer,col_indexer] = value instead\n",
            "\n",
            "See the caveats in the documentation: https://pandas.pydata.org/pandas-docs/stable/user_guide/indexing.html#returning-a-view-versus-a-copy\n",
            "  self[name] = value\n"
          ]
        }
      ]
    },
    {
      "cell_type": "markdown",
      "source": [
        "сопоставим уровни питья с цифрами"
      ],
      "metadata": {
        "id": "MjgD6c0VGCz4"
      }
    },
    {
      "cell_type": "code",
      "source": [
        "\n",
        "\n",
        "user_info.drink_level = user_info.drink_level.map({'abstemious': 1, 'casual drinker': 2, 'social drinker': 3})"
      ],
      "metadata": {
        "colab": {
          "base_uri": "https://localhost:8080/"
        },
        "id": "0UmZSqTwGGP-",
        "outputId": "83e2c94e-6c44-4050-d889-bd50ca82a035"
      },
      "execution_count": 65,
      "outputs": [
        {
          "output_type": "stream",
          "name": "stderr",
          "text": [
            "/usr/local/lib/python3.7/dist-packages/pandas/core/generic.py:5516: SettingWithCopyWarning: \n",
            "A value is trying to be set on a copy of a slice from a DataFrame.\n",
            "Try using .loc[row_indexer,col_indexer] = value instead\n",
            "\n",
            "See the caveats in the documentation: https://pandas.pydata.org/pandas-docs/stable/user_guide/indexing.html#returning-a-view-versus-a-copy\n",
            "  self[name] = value\n"
          ]
        }
      ]
    },
    {
      "cell_type": "markdown",
      "source": [
        "1 для владельцев автомобилей, в противном случае 0; предположим, что \"?\" не являются владельцами автомобилей"
      ],
      "metadata": {
        "id": "7g6xX1R7GJ1B"
      }
    },
    {
      "cell_type": "code",
      "source": [
        "user_info.transport = user_info.transport.map({'public':0, 'car owner':1, 'on foot':0, '?':0})"
      ],
      "metadata": {
        "colab": {
          "base_uri": "https://localhost:8080/"
        },
        "id": "ZwzObJgjGNGY",
        "outputId": "1abde18c-2d87-4aaf-99d3-77633e50da09"
      },
      "execution_count": 66,
      "outputs": [
        {
          "output_type": "stream",
          "name": "stderr",
          "text": [
            "/usr/local/lib/python3.7/dist-packages/pandas/core/generic.py:5516: SettingWithCopyWarning: \n",
            "A value is trying to be set on a copy of a slice from a DataFrame.\n",
            "Try using .loc[row_indexer,col_indexer] = value instead\n",
            "\n",
            "See the caveats in the documentation: https://pandas.pydata.org/pandas-docs/stable/user_guide/indexing.html#returning-a-view-versus-a-copy\n",
            "  self[name] = value\n"
          ]
        }
      ]
    },
    {
      "cell_type": "markdown",
      "source": [
        "\n",
        "сопоставим уровни бюджета с цифрами; предположим, что \"?\" - средний"
      ],
      "metadata": {
        "id": "psp_m_U-GPRX"
      }
    },
    {
      "cell_type": "code",
      "source": [
        "\n",
        "\n",
        "user_info.budget = user_info.budget.map({'medium':2, 'low':1, 'high':3, '?':2})"
      ],
      "metadata": {
        "colab": {
          "base_uri": "https://localhost:8080/"
        },
        "id": "obPfWnnc0rjc",
        "outputId": "f9efbeca-a7c5-4cbe-d2b2-a47ae9a7f096"
      },
      "execution_count": 67,
      "outputs": [
        {
          "output_type": "stream",
          "name": "stderr",
          "text": [
            "/usr/local/lib/python3.7/dist-packages/pandas/core/generic.py:5516: SettingWithCopyWarning: \n",
            "A value is trying to be set on a copy of a slice from a DataFrame.\n",
            "Try using .loc[row_indexer,col_indexer] = value instead\n",
            "\n",
            "See the caveats in the documentation: https://pandas.pydata.org/pandas-docs/stable/user_guide/indexing.html#returning-a-view-versus-a-copy\n",
            "  self[name] = value\n"
          ]
        }
      ]
    },
    {
      "cell_type": "code",
      "source": [
        "user_info.head()"
      ],
      "metadata": {
        "colab": {
          "base_uri": "https://localhost:8080/",
          "height": 206
        },
        "id": "Spa-laMq021O",
        "outputId": "76c3d1c8-aa73-4e7e-eae9-353bf9d4ff86"
      },
      "execution_count": 68,
      "outputs": [
        {
          "output_type": "execute_result",
          "data": {
            "text/plain": [
              "   smoker  drink_level  transport  budget\n",
              "0       0            1          0       2\n",
              "1       0            1          0       1\n",
              "2       0            3          0       1\n",
              "3       0            1          0       2\n",
              "4       0            1          0       2"
            ],
            "text/html": [
              "\n",
              "  <div id=\"df-94689db2-a9ec-42c9-8dda-7ca6faf4dbbb\">\n",
              "    <div class=\"colab-df-container\">\n",
              "      <div>\n",
              "<style scoped>\n",
              "    .dataframe tbody tr th:only-of-type {\n",
              "        vertical-align: middle;\n",
              "    }\n",
              "\n",
              "    .dataframe tbody tr th {\n",
              "        vertical-align: top;\n",
              "    }\n",
              "\n",
              "    .dataframe thead th {\n",
              "        text-align: right;\n",
              "    }\n",
              "</style>\n",
              "<table border=\"1\" class=\"dataframe\">\n",
              "  <thead>\n",
              "    <tr style=\"text-align: right;\">\n",
              "      <th></th>\n",
              "      <th>smoker</th>\n",
              "      <th>drink_level</th>\n",
              "      <th>transport</th>\n",
              "      <th>budget</th>\n",
              "    </tr>\n",
              "  </thead>\n",
              "  <tbody>\n",
              "    <tr>\n",
              "      <th>0</th>\n",
              "      <td>0</td>\n",
              "      <td>1</td>\n",
              "      <td>0</td>\n",
              "      <td>2</td>\n",
              "    </tr>\n",
              "    <tr>\n",
              "      <th>1</th>\n",
              "      <td>0</td>\n",
              "      <td>1</td>\n",
              "      <td>0</td>\n",
              "      <td>1</td>\n",
              "    </tr>\n",
              "    <tr>\n",
              "      <th>2</th>\n",
              "      <td>0</td>\n",
              "      <td>3</td>\n",
              "      <td>0</td>\n",
              "      <td>1</td>\n",
              "    </tr>\n",
              "    <tr>\n",
              "      <th>3</th>\n",
              "      <td>0</td>\n",
              "      <td>1</td>\n",
              "      <td>0</td>\n",
              "      <td>2</td>\n",
              "    </tr>\n",
              "    <tr>\n",
              "      <th>4</th>\n",
              "      <td>0</td>\n",
              "      <td>1</td>\n",
              "      <td>0</td>\n",
              "      <td>2</td>\n",
              "    </tr>\n",
              "  </tbody>\n",
              "</table>\n",
              "</div>\n",
              "      <button class=\"colab-df-convert\" onclick=\"convertToInteractive('df-94689db2-a9ec-42c9-8dda-7ca6faf4dbbb')\"\n",
              "              title=\"Convert this dataframe to an interactive table.\"\n",
              "              style=\"display:none;\">\n",
              "        \n",
              "  <svg xmlns=\"http://www.w3.org/2000/svg\" height=\"24px\"viewBox=\"0 0 24 24\"\n",
              "       width=\"24px\">\n",
              "    <path d=\"M0 0h24v24H0V0z\" fill=\"none\"/>\n",
              "    <path d=\"M18.56 5.44l.94 2.06.94-2.06 2.06-.94-2.06-.94-.94-2.06-.94 2.06-2.06.94zm-11 1L8.5 8.5l.94-2.06 2.06-.94-2.06-.94L8.5 2.5l-.94 2.06-2.06.94zm10 10l.94 2.06.94-2.06 2.06-.94-2.06-.94-.94-2.06-.94 2.06-2.06.94z\"/><path d=\"M17.41 7.96l-1.37-1.37c-.4-.4-.92-.59-1.43-.59-.52 0-1.04.2-1.43.59L10.3 9.45l-7.72 7.72c-.78.78-.78 2.05 0 2.83L4 21.41c.39.39.9.59 1.41.59.51 0 1.02-.2 1.41-.59l7.78-7.78 2.81-2.81c.8-.78.8-2.07 0-2.86zM5.41 20L4 18.59l7.72-7.72 1.47 1.35L5.41 20z\"/>\n",
              "  </svg>\n",
              "      </button>\n",
              "      \n",
              "  <style>\n",
              "    .colab-df-container {\n",
              "      display:flex;\n",
              "      flex-wrap:wrap;\n",
              "      gap: 12px;\n",
              "    }\n",
              "\n",
              "    .colab-df-convert {\n",
              "      background-color: #E8F0FE;\n",
              "      border: none;\n",
              "      border-radius: 50%;\n",
              "      cursor: pointer;\n",
              "      display: none;\n",
              "      fill: #1967D2;\n",
              "      height: 32px;\n",
              "      padding: 0 0 0 0;\n",
              "      width: 32px;\n",
              "    }\n",
              "\n",
              "    .colab-df-convert:hover {\n",
              "      background-color: #E2EBFA;\n",
              "      box-shadow: 0px 1px 2px rgba(60, 64, 67, 0.3), 0px 1px 3px 1px rgba(60, 64, 67, 0.15);\n",
              "      fill: #174EA6;\n",
              "    }\n",
              "\n",
              "    [theme=dark] .colab-df-convert {\n",
              "      background-color: #3B4455;\n",
              "      fill: #D2E3FC;\n",
              "    }\n",
              "\n",
              "    [theme=dark] .colab-df-convert:hover {\n",
              "      background-color: #434B5C;\n",
              "      box-shadow: 0px 1px 3px 1px rgba(0, 0, 0, 0.15);\n",
              "      filter: drop-shadow(0px 1px 2px rgba(0, 0, 0, 0.3));\n",
              "      fill: #FFFFFF;\n",
              "    }\n",
              "  </style>\n",
              "\n",
              "      <script>\n",
              "        const buttonEl =\n",
              "          document.querySelector('#df-94689db2-a9ec-42c9-8dda-7ca6faf4dbbb button.colab-df-convert');\n",
              "        buttonEl.style.display =\n",
              "          google.colab.kernel.accessAllowed ? 'block' : 'none';\n",
              "\n",
              "        async function convertToInteractive(key) {\n",
              "          const element = document.querySelector('#df-94689db2-a9ec-42c9-8dda-7ca6faf4dbbb');\n",
              "          const dataTable =\n",
              "            await google.colab.kernel.invokeFunction('convertToInteractive',\n",
              "                                                     [key], {});\n",
              "          if (!dataTable) return;\n",
              "\n",
              "          const docLinkHtml = 'Like what you see? Visit the ' +\n",
              "            '<a target=\"_blank\" href=https://colab.research.google.com/notebooks/data_table.ipynb>data table notebook</a>'\n",
              "            + ' to learn more about interactive tables.';\n",
              "          element.innerHTML = '';\n",
              "          dataTable['output_type'] = 'display_data';\n",
              "          await google.colab.output.renderOutput(dataTable, element);\n",
              "          const docLink = document.createElement('div');\n",
              "          docLink.innerHTML = docLinkHtml;\n",
              "          element.appendChild(docLink);\n",
              "        }\n",
              "      </script>\n",
              "    </div>\n",
              "  </div>\n",
              "  "
            ]
          },
          "metadata": {},
          "execution_count": 68
        }
      ]
    },
    {
      "cell_type": "markdown",
      "source": [
        "Здесь я создаю матрицу \"Theta_modifier\" с формой = (n_user, n_feature), чтобы настроить функции ресторана, которые видят пользователи. Большинство элементов в этой матрице являются единицами, за исключением тех, которые соответствуют 'parking_lot', 'smoking_area', 'alcohol' и 'price':\n",
        "(1) Если у пользователя нет автомобиля, ему / ей будет все равно, есть ли парковка, и соответствующий вес для \"parking_lot\" не нужен.\n",
        "(2) Если пользователь не курит, ему / ей будет все равно, есть ли место для курения, и соответствующий вес для \"smoking_area\" не нужен.\n",
        "(3) Пользователи с разным уровнем drink_level по-разному заботятся о том, предоставляется ли алкоголь в ресторане.\n",
        "(4) Пользователи с разным \"бюджетом\" по-разному заботятся о цене. Людей с более высоким бюджетом это волнует меньше."
      ],
      "metadata": {
        "id": "NjRNUhxvgZY8"
      }
    },
    {
      "cell_type": "code",
      "source": [
        "Theta_modifier = pd.DataFrame(np.ones((n_user, n_feature)), columns=X.columns.values) \n",
        "Theta_modifier['parking_lot'] = user_info['transport'] # 0 или 1\n",
        "Theta_modifier['alcohol'] = user_info['drink_level'] # 1, 2 или 3\n",
        "Theta_modifier['smoking_area'] = user_info['smoker'] # 0 или 1\n",
        "Theta_modifier['price'] = 1.0/user_info['budget'] # 1 (low), 1/2 (medium) или 1/3 (high)\n",
        "Theta_modifier = Theta_modifier.values"
      ],
      "metadata": {
        "id": "IDXa9kKr0844"
      },
      "execution_count": 69,
      "outputs": []
    },
    {
      "cell_type": "code",
      "source": [
        "def CostFunction2(params, X, Y, R, Theta_modifier, lambd):\n",
        "\n",
        "    num_user = R.shape[1]\n",
        "    num_feature = X.shape[1]\n",
        "\n",
        "    \n",
        "    Theta_temp = Theta_modifier.reshape(-1)\n",
        "    \n",
        "    Theta_temp[Theta_temp > 0] = Theta_temp[Theta_temp > 0] * params\n",
        "    \n",
        "    \n",
        "    Theta = Theta_temp.reshape(num_user, num_feature)\n",
        "    J = 0.5 * np.sum( (np.dot(X, Theta.T) * R - Y)**2 )\n",
        "\n",
        "    # регуляризация\n",
        "    J = J + lambd/2. * np.sum(Theta[:,:-1]**2) \n",
        "\n",
        "    return J\n",
        "\n",
        "\n",
        "def Gradient2(params, X, Y, R, Theta_modifier, lambd):\n",
        "\n",
        "    num_user = R.shape[1]\n",
        "    num_feature = X.shape[1]\n",
        "\n",
        "    Theta_temp = Theta_modifier.reshape(-1)\n",
        "    Theta_temp[Theta_temp > 0] = Theta_temp[Theta_temp > 0] * params\n",
        "\n",
        "    Theta = Theta_temp.reshape(num_user, num_feature)\n",
        "    Theta_grad = np.dot((np.dot(Theta, X.T) * R.T - Y.T), X) \n",
        "\n",
        "    # регуляризация\n",
        "    Theta_grad[:,:-1] = Theta_grad[:,:-1] + lambd*Theta[:,:-1]\n",
        "    Theta_grad = Theta_grad * Theta_modifier\n",
        "\n",
        "    Theta_grad = Theta_grad[Theta_modifier > 0]\n",
        "\n",
        "    return Theta_grad"
      ],
      "metadata": {
        "id": "oxGpjWqJ1EYw"
      },
      "execution_count": 70,
      "outputs": []
    },
    {
      "cell_type": "markdown",
      "source": [
        " L2; Я несколько раз выполнял оптимизацию с разными значениями\n",
        " (1, 2, 4, 8...) и 32 результата дают наилучший результат проверки FCP"
      ],
      "metadata": {
        "id": "XY8DCTeKFwhG"
      }
    },
    {
      "cell_type": "code",
      "source": [
        "lambd = 32.  \n",
        "    \n",
        "Theta = np.random.normal(0,1,(n_user, n_feature))[Theta_modifier > 0] \n",
        "\n",
        "result = minimize(CostFunction2, Theta, jac=Gradient2, args=(X, Y_norm, R_train, Theta_modifier, \n",
        "                  lambd), options={'disp': True, 'maxiter': 500})"
      ],
      "metadata": {
        "colab": {
          "base_uri": "https://localhost:8080/"
        },
        "id": "hI-LYBPO1H9h",
        "outputId": "a3a858e2-9caa-4822-d758-37c6c09f4d45"
      },
      "execution_count": 71,
      "outputs": [
        {
          "output_type": "stream",
          "name": "stdout",
          "text": [
            "Optimization terminated successfully.\n",
            "         Current function value: 113.792924\n",
            "         Iterations: 176\n",
            "         Function evaluations: 206\n",
            "         Gradient evaluations: 206\n"
          ]
        }
      ]
    },
    {
      "cell_type": "markdown",
      "source": [
        " элементы с ненулевыми значениями в Theta_modifier умножаются на оптимальные веса"
      ],
      "metadata": {
        "id": "FmMydRd95K1Z"
      }
    },
    {
      "cell_type": "code",
      "source": [
        "\n",
        "Theta_transformer = Theta_modifier.reshape(-1)\n",
        "Theta_transformer[Theta_transformer > 0] = Theta_transformer[Theta_transformer > 0] * result.x\n",
        " \n",
        "Theta_opt = Theta_transformer.reshape(n_user, n_feature)\n",
        "\n",
        "Y_pred = np.dot(X, Theta_opt.T) + Y_mean\n",
        "print(\"RMSE of the training set: {}\".format(np.sqrt(mean_squared_error(Y[R_train == 1], Y_pred[R_train == 1]))))\n",
        "print(\"RMSE of the validation set: {}\".format(np.sqrt(mean_squared_error(Y[R_valid == 1], Y_pred[R_valid == 1]))))"
      ],
      "metadata": {
        "colab": {
          "base_uri": "https://localhost:8080/"
        },
        "id": "PXtrDaLV1RYY",
        "outputId": "1980a4f1-84f3-4937-b6e2-2d2026826584"
      },
      "execution_count": 72,
      "outputs": [
        {
          "output_type": "stream",
          "name": "stdout",
          "text": [
            "RMSE of the training set: 0.4877784351329633\n",
            "RMSE of the validation set: 0.6699725061621488\n"
          ]
        }
      ]
    },
    {
      "cell_type": "code",
      "source": [
        "print(\"Training Set:\")\n",
        "FCP(Y,Y_pred,R_train)\n",
        "print(\"\\n\")\n",
        "print(\"Validation Set:\")\n",
        "FCP(Y,Y_pred,R_valid)"
      ],
      "metadata": {
        "colab": {
          "base_uri": "https://localhost:8080/"
        },
        "id": "g7yzeWx-hYFP",
        "outputId": "c203b76a-f422-4e96-9b3b-3d877b206cb4"
      },
      "execution_count": 73,
      "outputs": [
        {
          "output_type": "stream",
          "name": "stdout",
          "text": [
            "Training Set:\n",
            "Общее количество рейтинговых пар: 3130\n",
            "Общее количество диссонирующих пар: 366\n",
            "Общее количество совпадающих пар: 1024\n",
            "Общее количество связей: 1740\n",
            "FCP: 0.7366906474820144\n",
            "\n",
            "\n",
            "Validation Set:\n",
            "Общее количество рейтинговых пар: 121\n",
            "Общее количество диссонирующих пар: 27\n",
            "Общее количество совпадающих пар: 23\n",
            "Общее количество связей: 71\n",
            "FCP: 0.46\n"
          ]
        }
      ]
    },
    {
      "cell_type": "code",
      "source": [
        "MakeBoxplot(Y_pred, Y, R_train, 'Training set')"
      ],
      "metadata": {
        "colab": {
          "base_uri": "https://localhost:8080/",
          "height": 350
        },
        "id": "U7spi4pchcIW",
        "outputId": "0451bdaa-9b50-496f-be60-233118954017"
      },
      "execution_count": 74,
      "outputs": [
        {
          "output_type": "stream",
          "name": "stderr",
          "text": [
            "/usr/local/lib/python3.7/dist-packages/matplotlib/cbook/__init__.py:1376: VisibleDeprecationWarning: Creating an ndarray from ragged nested sequences (which is a list-or-tuple of lists-or-tuples-or ndarrays with different lengths or shapes) is deprecated. If you meant to do this, you must specify 'dtype=object' when creating the ndarray.\n",
            "  X = np.atleast_1d(X.T if isinstance(X, np.ndarray) else np.asarray(X))\n"
          ]
        },
        {
          "output_type": "display_data",
          "data": {
            "text/plain": [
              "<Figure size 432x288 with 1 Axes>"
            ],
            "image/png": "[encoded data removed]"
          },
          "metadata": {
            "needs_background": "light"
          }
        }
      ]
    },
    {
      "cell_type": "code",
      "source": [
        "MakeBoxplot(Y_pred, Y, R_valid, 'Validation set')\n"
      ],
      "metadata": {
        "colab": {
          "base_uri": "https://localhost:8080/",
          "height": 350
        },
        "id": "mdEjUDsHhitY",
        "outputId": "886af889-5c8b-4543-860c-2e69300e4bc6"
      },
      "execution_count": 75,
      "outputs": [
        {
          "output_type": "stream",
          "name": "stderr",
          "text": [
            "/usr/local/lib/python3.7/dist-packages/matplotlib/cbook/__init__.py:1376: VisibleDeprecationWarning: Creating an ndarray from ragged nested sequences (which is a list-or-tuple of lists-or-tuples-or ndarrays with different lengths or shapes) is deprecated. If you meant to do this, you must specify 'dtype=object' when creating the ndarray.\n",
            "  X = np.atleast_1d(X.T if isinstance(X, np.ndarray) else np.asarray(X))\n"
          ]
        },
        {
          "output_type": "display_data",
          "data": {
            "text/plain": [
              "<Figure size 432x288 with 1 Axes>"
            ],
            "image/png": "[encoded data removed]"
          },
          "metadata": {
            "needs_background": "light"
          }
        }
      ]
    },
    {
      "cell_type": "code",
      "source": [
        "R_test =  R*(-1) + 1.0 # 1 для тех, у кого нет существующих рейтингов, 0 в противном случае\n",
        "\n",
        "# прогнозируемые рейтинги ресторанов, которые не посещал каждый пользователь\n",
        "Y_final = Y_pred * R_test\n",
        "Y_final = pd.DataFrame( Y_final, columns=user_all, index=res_rated )\n",
        "Y_final.head()"
      ],
      "metadata": {
        "colab": {
          "base_uri": "https://localhost:8080/",
          "height": 236
        },
        "id": "z8KrVAKShqgT",
        "outputId": "76b3e896-a18e-4ec6-f90f-4f02f08863ce"
      },
      "execution_count": 76,
      "outputs": [
        {
          "output_type": "execute_result",
          "data": {
            "text/plain": [
              "           U1001     U1002     U1003     U1004     U1005     U1006     U1007  \\\n",
              "132560  0.577821  0.407724  0.840280  0.925361  0.518323  0.385115  0.123842   \n",
              "132561  0.891423  0.801102  1.049405  1.168008  0.775547  0.742168  0.438164   \n",
              "132564  1.474757  1.384436  1.632738  1.751342  1.358880  1.325501  1.021498   \n",
              "132572  1.050514  0.960193  1.208496  1.327099  0.934637  0.000000  0.000000   \n",
              "132583  1.109622  0.979413  1.319842  1.421685  1.021935  0.953785  0.656003   \n",
              "\n",
              "           U1008     U1009     U1010  ...     U1129     U1130     U1131  \\\n",
              "132560  0.516454  0.730777  0.456735  ...  0.096698 -0.116608  0.400015   \n",
              "132561  0.799834  0.931404  0.760034  ...  0.000000  0.000000  0.701632   \n",
              "132564  1.383167  1.514738  1.343367  ...  1.002359  0.639870  1.284965   \n",
              "132572  0.958925  1.090495  0.812526  ...  0.578116  0.215628  0.974645   \n",
              "132583  1.033144  1.206091  1.010034  ...  0.632862  0.344965  0.897343   \n",
              "\n",
              "           U1132     U1133     U1134     U1135     U1136     U1137     U1138  \n",
              "132560  0.574748  0.428302  0.592238 -0.705267  0.796524  0.944274  0.880597  \n",
              "132561  0.895146  0.557946  0.729579 -0.398147  1.134440  1.255457  1.130597  \n",
              "132564  1.478479  1.141279  1.312912  0.185186  1.717773  1.838791  1.713930  \n",
              "132572  1.054237  0.711595  0.000000 -0.239056  1.319367  1.414548  1.289688  \n",
              "132583  1.109947  0.869484  1.035909 -0.176707  1.341696  1.474866  1.380597  \n",
              "\n",
              "[5 rows x 138 columns]"
            ],
            "text/html": [
              "\n",
              "  <div id=\"df-8c265281-639d-4a9d-8730-40c0472800ce\">\n",
              "    <div class=\"colab-df-container\">\n",
              "      <div>\n",
              "<style scoped>\n",
              "    .dataframe tbody tr th:only-of-type {\n",
              "        vertical-align: middle;\n",
              "    }\n",
              "\n",
              "    .dataframe tbody tr th {\n",
              "        vertical-align: top;\n",
              "    }\n",
              "\n",
              "    .dataframe thead th {\n",
              "        text-align: right;\n",
              "    }\n",
              "</style>\n",
              "<table border=\"1\" class=\"dataframe\">\n",
              "  <thead>\n",
              "    <tr style=\"text-align: right;\">\n",
              "      <th></th>\n",
              "      <th>U1001</th>\n",
              "      <th>U1002</th>\n",
              "      <th>U1003</th>\n",
              "      <th>U1004</th>\n",
              "      <th>U1005</th>\n",
              "      <th>U1006</th>\n",
              "      <th>U1007</th>\n",
              "      <th>U1008</th>\n",
              "      <th>U1009</th>\n",
              "      <th>U1010</th>\n",
              "      <th>...</th>\n",
              "      <th>U1129</th>\n",
              "      <th>U1130</th>\n",
              "      <th>U1131</th>\n",
              "      <th>U1132</th>\n",
              "      <th>U1133</th>\n",
              "      <th>U1134</th>\n",
              "      <th>U1135</th>\n",
              "      <th>U1136</th>\n",
              "      <th>U1137</th>\n",
              "      <th>U1138</th>\n",
              "    </tr>\n",
              "  </thead>\n",
              "  <tbody>\n",
              "    <tr>\n",
              "      <th>132560</th>\n",
              "      <td>0.577821</td>\n",
              "      <td>0.407724</td>\n",
              "      <td>0.840280</td>\n",
              "      <td>0.925361</td>\n",
              "      <td>0.518323</td>\n",
              "      <td>0.385115</td>\n",
              "      <td>0.123842</td>\n",
              "      <td>0.516454</td>\n",
              "      <td>0.730777</td>\n",
              "      <td>0.456735</td>\n",
              "      <td>...</td>\n",
              "      <td>0.096698</td>\n",
              "      <td>-0.116608</td>\n",
              "      <td>0.400015</td>\n",
              "      <td>0.574748</td>\n",
              "      <td>0.428302</td>\n",
              "      <td>0.592238</td>\n",
              "      <td>-0.705267</td>\n",
              "      <td>0.796524</td>\n",
              "      <td>0.944274</td>\n",
              "      <td>0.880597</td>\n",
              "    </tr>\n",
              "    <tr>\n",
              "      <th>132561</th>\n",
              "      <td>0.891423</td>\n",
              "      <td>0.801102</td>\n",
              "      <td>1.049405</td>\n",
              "      <td>1.168008</td>\n",
              "      <td>0.775547</td>\n",
              "      <td>0.742168</td>\n",
              "      <td>0.438164</td>\n",
              "      <td>0.799834</td>\n",
              "      <td>0.931404</td>\n",
              "      <td>0.760034</td>\n",
              "      <td>...</td>\n",
              "      <td>0.000000</td>\n",
              "      <td>0.000000</td>\n",
              "      <td>0.701632</td>\n",
              "      <td>0.895146</td>\n",
              "      <td>0.557946</td>\n",
              "      <td>0.729579</td>\n",
              "      <td>-0.398147</td>\n",
              "      <td>1.134440</td>\n",
              "      <td>1.255457</td>\n",
              "      <td>1.130597</td>\n",
              "    </tr>\n",
              "    <tr>\n",
              "      <th>132564</th>\n",
              "      <td>1.474757</td>\n",
              "      <td>1.384436</td>\n",
              "      <td>1.632738</td>\n",
              "      <td>1.751342</td>\n",
              "      <td>1.358880</td>\n",
              "      <td>1.325501</td>\n",
              "      <td>1.021498</td>\n",
              "      <td>1.383167</td>\n",
              "      <td>1.514738</td>\n",
              "      <td>1.343367</td>\n",
              "      <td>...</td>\n",
              "      <td>1.002359</td>\n",
              "      <td>0.639870</td>\n",
              "      <td>1.284965</td>\n",
              "      <td>1.478479</td>\n",
              "      <td>1.141279</td>\n",
              "      <td>1.312912</td>\n",
              "      <td>0.185186</td>\n",
              "      <td>1.717773</td>\n",
              "      <td>1.838791</td>\n",
              "      <td>1.713930</td>\n",
              "    </tr>\n",
              "    <tr>\n",
              "      <th>132572</th>\n",
              "      <td>1.050514</td>\n",
              "      <td>0.960193</td>\n",
              "      <td>1.208496</td>\n",
              "      <td>1.327099</td>\n",
              "      <td>0.934637</td>\n",
              "      <td>0.000000</td>\n",
              "      <td>0.000000</td>\n",
              "      <td>0.958925</td>\n",
              "      <td>1.090495</td>\n",
              "      <td>0.812526</td>\n",
              "      <td>...</td>\n",
              "      <td>0.578116</td>\n",
              "      <td>0.215628</td>\n",
              "      <td>0.974645</td>\n",
              "      <td>1.054237</td>\n",
              "      <td>0.711595</td>\n",
              "      <td>0.000000</td>\n",
              "      <td>-0.239056</td>\n",
              "      <td>1.319367</td>\n",
              "      <td>1.414548</td>\n",
              "      <td>1.289688</td>\n",
              "    </tr>\n",
              "    <tr>\n",
              "      <th>132583</th>\n",
              "      <td>1.109622</td>\n",
              "      <td>0.979413</td>\n",
              "      <td>1.319842</td>\n",
              "      <td>1.421685</td>\n",
              "      <td>1.021935</td>\n",
              "      <td>0.953785</td>\n",
              "      <td>0.656003</td>\n",
              "      <td>1.033144</td>\n",
              "      <td>1.206091</td>\n",
              "      <td>1.010034</td>\n",
              "      <td>...</td>\n",
              "      <td>0.632862</td>\n",
              "      <td>0.344965</td>\n",
              "      <td>0.897343</td>\n",
              "      <td>1.109947</td>\n",
              "      <td>0.869484</td>\n",
              "      <td>1.035909</td>\n",
              "      <td>-0.176707</td>\n",
              "      <td>1.341696</td>\n",
              "      <td>1.474866</td>\n",
              "      <td>1.380597</td>\n",
              "    </tr>\n",
              "  </tbody>\n",
              "</table>\n",
              "<p>5 rows × 138 columns</p>\n",
              "</div>\n",
              "      <button class=\"colab-df-convert\" onclick=\"convertToInteractive('df-8c265281-639d-4a9d-8730-40c0472800ce')\"\n",
              "              title=\"Convert this dataframe to an interactive table.\"\n",
              "              style=\"display:none;\">\n",
              "        \n",
              "  <svg xmlns=\"http://www.w3.org/2000/svg\" height=\"24px\"viewBox=\"0 0 24 24\"\n",
              "       width=\"24px\">\n",
              "    <path d=\"M0 0h24v24H0V0z\" fill=\"none\"/>\n",
              "    <path d=\"M18.56 5.44l.94 2.06.94-2.06 2.06-.94-2.06-.94-.94-2.06-.94 2.06-2.06.94zm-11 1L8.5 8.5l.94-2.06 2.06-.94-2.06-.94L8.5 2.5l-.94 2.06-2.06.94zm10 10l.94 2.06.94-2.06 2.06-.94-2.06-.94-.94-2.06-.94 2.06-2.06.94z\"/><path d=\"M17.41 7.96l-1.37-1.37c-.4-.4-.92-.59-1.43-.59-.52 0-1.04.2-1.43.59L10.3 9.45l-7.72 7.72c-.78.78-.78 2.05 0 2.83L4 21.41c.39.39.9.59 1.41.59.51 0 1.02-.2 1.41-.59l7.78-7.78 2.81-2.81c.8-.78.8-2.07 0-2.86zM5.41 20L4 18.59l7.72-7.72 1.47 1.35L5.41 20z\"/>\n",
              "  </svg>\n",
              "      </button>\n",
              "      \n",
              "  <style>\n",
              "    .colab-df-container {\n",
              "      display:flex;\n",
              "      flex-wrap:wrap;\n",
              "      gap: 12px;\n",
              "    }\n",
              "\n",
              "    .colab-df-convert {\n",
              "      background-color: #E8F0FE;\n",
              "      border: none;\n",
              "      border-radius: 50%;\n",
              "      cursor: pointer;\n",
              "      display: none;\n",
              "      fill: #1967D2;\n",
              "      height: 32px;\n",
              "      padding: 0 0 0 0;\n",
              "      width: 32px;\n",
              "    }\n",
              "\n",
              "    .colab-df-convert:hover {\n",
              "      background-color: #E2EBFA;\n",
              "      box-shadow: 0px 1px 2px rgba(60, 64, 67, 0.3), 0px 1px 3px 1px rgba(60, 64, 67, 0.15);\n",
              "      fill: #174EA6;\n",
              "    }\n",
              "\n",
              "    [theme=dark] .colab-df-convert {\n",
              "      background-color: #3B4455;\n",
              "      fill: #D2E3FC;\n",
              "    }\n",
              "\n",
              "    [theme=dark] .colab-df-convert:hover {\n",
              "      background-color: #434B5C;\n",
              "      box-shadow: 0px 1px 3px 1px rgba(0, 0, 0, 0.15);\n",
              "      filter: drop-shadow(0px 1px 2px rgba(0, 0, 0, 0.3));\n",
              "      fill: #FFFFFF;\n",
              "    }\n",
              "  </style>\n",
              "\n",
              "      <script>\n",
              "        const buttonEl =\n",
              "          document.querySelector('#df-8c265281-639d-4a9d-8730-40c0472800ce button.colab-df-convert');\n",
              "        buttonEl.style.display =\n",
              "          google.colab.kernel.accessAllowed ? 'block' : 'none';\n",
              "\n",
              "        async function convertToInteractive(key) {\n",
              "          const element = document.querySelector('#df-8c265281-639d-4a9d-8730-40c0472800ce');\n",
              "          const dataTable =\n",
              "            await google.colab.kernel.invokeFunction('convertToInteractive',\n",
              "                                                     [key], {});\n",
              "          if (!dataTable) return;\n",
              "\n",
              "          const docLinkHtml = 'Like what you see? Visit the ' +\n",
              "            '<a target=\"_blank\" href=https://colab.research.google.com/notebooks/data_table.ipynb>data table notebook</a>'\n",
              "            + ' to learn more about interactive tables.';\n",
              "          element.innerHTML = '';\n",
              "          dataTable['output_type'] = 'display_data';\n",
              "          await google.colab.output.renderOutput(dataTable, element);\n",
              "          const docLink = document.createElement('div');\n",
              "          docLink.innerHTML = docLinkHtml;\n",
              "          element.appendChild(docLink);\n",
              "        }\n",
              "      </script>\n",
              "    </div>\n",
              "  </div>\n",
              "  "
            ]
          },
          "metadata": {},
          "execution_count": 76
        }
      ]
    },
    {
      "cell_type": "markdown",
      "source": [
        "С прогнозируемыми рейтингами для ресторанов, которые каждый пользователь не посещал, мы можем рекомендовать список top-n для каждого пользователя вместе с информацией о ресторане. Чтобы не рекомендовать ресторан, который находится слишком далеко от пользователя, мы можем использовать радиус поиска, чтобы предварительно выбрать все места, которые находятся в пределах этого диапазона."
      ],
      "metadata": {
        "id": "6bao4jGQhgtV"
      }
    }
  ]
}